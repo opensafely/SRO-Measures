{
 "cells": [
  {
   "cell_type": "markdown",
   "metadata": {},
   "source": [
    "<h1 align=\"center\">Eleven key measures for monitoring general practice clinical activity during COVID-19 using federated analytics on 24 million adults’ primary care records through OpenSAFELY </h1>\n",
    "\n",
    "**This notebook accompanies [this report](https://reports.opensafely.org/reports/sro-measures/), describing trends and variation in clinical activity codes using a set of key measures indicative of overall activity to evaluate NHS service restoration throughout the COVID-19 pandemic. This version includes data from the EHR provider TPP only and will be updated regularly. For a more detailed analysis please see the report linked above and the accompanying paper.**\n",
    "\n",
    "For each key measure we provide a link to the codelist containing all the codes used for that measure, a description of what the measure is and a brief overview of why the measure is important.  We also highlight any caveats, where there are any, for each measure.  \n",
    "\n",
    "Monthly rates of recorded activity are displayed as practice level decile charts to show both the general trend and practice level variation in activity changes. For more information on why we use decile charts to communicate variation in activity, please see [this blog post](https://www.thedatalab.org/blog/2019/04/communicating-variation-in-prescribing-why-we-use-deciles/).\n",
    "\n",
    "Accompanying each chart is a summary of the most commonly recorded SNOMED codes for each measure. For each measure we also indicate the number of unique patients recorded as having at least one event indicated by the measure as well as the total number of events since January 2019.\n",
    "\n",
    "The following key measures are provided:\n",
    "\n",
    "<ul id=\"docNav\">\n",
    "\n",
    "<li> <a href=\"#systolic_bp\">Blood Pressure Monitoring</a>\n",
    "<li> <a href=\"#qrisk2\">Cardiovascular Disease 10 Year Risk Assessment</a>\n",
    "<li> <a href=\"#cholesterol\">Cholesterol Testing</a>\n",
    "<li> <a href=\"#ALT\">Liver Function Testing - Alanine Transferaminase (ALT)</a>\n",
    "<li> <a href=\"#serum_tsh\">Thyroid Testing</a>\n",
    "<li> <a href=\"#rbc_fbc\">Full Blood Count - Red Blood Cell (RBC) Testing</a>\n",
    "<li> <a href=\"#hba1c\">Glycated Haemoglobin A1c Level (HbA1c)</a>\n",
    "<li> <a href=\"#serum_sodium\">Renal Function Assessment - Sodium Testing</a>\n",
    "<li> <a href=\"#asthma\">Asthma Reviews</a>\n",
    "<li> <a href=\"#copd\">Chronic Obstrutive Pulmonary Disease (COPD) Reviews</a>\n",
    "<li> <a href=\"#med_review\">Medication Review</a>\n",
    "\n",
    "</ul>"
   ]
  },
  {
   "cell_type": "code",
   "execution_count": null,
   "metadata": {},
   "outputs": [],
   "source": [
    "import pandas as pd\n",
    "from utilities import *\n",
    "from pandas.plotting import register_matplotlib_converters\n",
    "register_matplotlib_converters()\n",
    "\n",
    "%matplotlib inline\n",
    "%config InlineBackend.figure_format='png'\n",
    "\n",
    "INTERACTIVE=False"
   ]
  },
  {
   "cell_type": "code",
   "execution_count": null,
   "metadata": {},
   "outputs": [],
   "source": [
    "%%capture --no-display\n",
    "\n",
    "sentinel_measures = [\"qrisk2\", \"asthma\", \"copd\", \"sodium\", \"cholesterol\", \"alt\", \"tsh\", \"rbc\", 'hba1c', 'systolic_bp', 'medication_review']\n",
    "\n",
    "data_dict = {}\n",
    "num_events_dict = {}\n",
    "\n",
    "for measure in sentinel_measures:\n",
    "    df = load_and_drop(measure)\n",
    "    data_dict[measure] = df\n",
    "    \n",
    "data_dict_practice = {}\n",
    "\n",
    "for measure in sentinel_measures:\n",
    "    df = load_and_drop(measure, practice=True)\n",
    "    data_dict_practice[measure] = df\n",
    "\n",
    "sentinel_measure_codelist_mapping_dict = {\"systolic_bp\":\"opensafely-systolic-blood-pressure-qof\", \"qrisk2\":\"opensafely-cvd-risk-assessment-score-qof\", \"cholesterol\": \"opensafely-cholesterol-tests\", \"alt\": \"opensafely-alanine-aminotransferase-alt-tests\", \"tsh\": \"opensafely-thyroid-stimulating-hormone-tsh-testing\", \"rbc\": \"opensafely-red-blood-cell-rbc-tests\", \"hba1c\": \"opensafely-glycated-haemoglobin-hba1c-tests\", \"sodium\": \"opensafely-sodium-tests-numerical-value\", \"asthma\": \"opensafely-asthma-annual-review-qof\", \"copd\": \"opensafely-chronic-obstructive-pulmonary-disease-copd-review-qof\"}\n",
    "\n",
    "codelist_dict = {}\n",
    "for measure in sentinel_measures:\n",
    "    \n",
    "    if measure == 'medication_review':\n",
    "        codelist_1 = pd.read_csv('../codelists/opensafely-care-planning-medication-review-simple-reference-set-nhs-digital.csv')\n",
    "        codelist_1['term'] = codelist_1['term'].str.rstrip('(procedure)').str.rstrip()\n",
    "        codelist_2 = pd.read_csv('../codelists/nhsd-primary-care-domain-refsets-medrvw_cod.csv')\n",
    "        codelist_dict[measure] = codelist_1.merge(codelist_2, on=['code', 'term'], how='outer')\n",
    "    else:\n",
    "        codelist_name = sentinel_measure_codelist_mapping_dict[measure]\n",
    "        codelist = pd.read_csv(f'../codelists/{codelist_name}.csv')\n",
    "        codelist_dict[measure] = codelist\n",
    "\n"
   ]
  },
  {
   "cell_type": "code",
   "execution_count": null,
   "metadata": {},
   "outputs": [],
   "source": [
    "%%capture \n",
    "# non-displayed initial run due to gridlines bug\n",
    "generate_sentinel_measure(data_dict=data_dict, data_dict_practice=data_dict_practice, codelist_dict=codelist_dict, measure='systolic_bp', code_column='code', term_column='term', dates_list=[\"2020-02-01\", \"2020-04-01\", \"2020-12-01\"], codelist_link=\"https://www.opencodelists.org/codelist/opensafely/care-planning-medication-review-simple-reference-set-nhs-digital/61b13c39/\",interactive=INTERACTIVE)"
   ]
  },
  {
   "cell_type": "markdown",
   "metadata": {},
   "source": [
    "<a id=\"systolic_bp\"></a>\n",
    "## Blood Pressure Monitoring\n",
    "\n",
    "The codes used in for this measure are available in <a href=\"https://www.opencodelists.org/codelist/opensafely/systolic-blood-pressure-qof/3572b5fb/\">this codelist</a>.\n",
    "\n",
    "<h3 class=\"details\">What is it and why does it matter?</h3>\n",
    "\n",
    "A commonly-used assessment used to identify patients with hypertension or to ensure optimal treatment for those with known hypertension.  This helps ensure appropriate treatment, with the aim of reducing long term risks of complications from hypertension such as stroke, myocardial infarction and kidney disease. "
   ]
  },
  {
   "cell_type": "code",
   "execution_count": null,
   "metadata": {},
   "outputs": [],
   "source": [
    "systolic_bp_df, num_events_systolic_bp = generate_sentinel_measure(data_dict=data_dict, data_dict_practice=data_dict_practice, codelist_dict=codelist_dict, measure='systolic_bp', code_column='code', term_column='term', dates_list=[\"2020-02-01\", \"2020-04-01\", \"2020-12-01\"], codelist_link=\"https://www.opencodelists.org/codelist/opensafely/systolic-blood-pressure-qof/3572b5fb/\",interactive=INTERACTIVE)\n",
    "num_events_dict[\"systolic_bp\"] = num_events_systolic_bp"
   ]
  },
  {
   "cell_type": "markdown",
   "metadata": {},
   "source": [
    "<a id=\"qrisk2\"></a>\n",
    "## Cardiovascular Disease 10 year Risk Assessment\n",
    "\n",
    "The codes used in for this measure are available in <a href=\"https://www.opencodelists.org/codelist/opensafely/cvd-risk-assessment-score-qof/1adf44a5/\">this codelist</a>.\n",
    "\n",
    "<h3 class=\"details\">What is it and why does it matter? </h3>\n",
    "\n",
    "A commonly-used risk assessment used to identify patients with an increased risk of cardiovascular events in the next 10 years. This helps ensure appropriate treatment, with the aim of reducing long term risks of complications such as stroke or myocardial infarction. "
   ]
  },
  {
   "cell_type": "code",
   "execution_count": null,
   "metadata": {},
   "outputs": [],
   "source": [
    "qrisk2_df, num_events_qrisk2 = generate_sentinel_measure(data_dict=data_dict, data_dict_practice=data_dict_practice, codelist_dict=codelist_dict, measure='qrisk2', code_column='code', term_column='term', dates_list=[\"2020-02-01\", \"2020-04-01\", \"2020-12-01\"], codelist_link=\"https://www.opencodelists.org/codelist/opensafely/cvd-risk-assessment-score-qof/1adf44a5/\",interactive=INTERACTIVE)\n",
    "num_events_dict[\"qrisk2\"] = num_events_qrisk2"
   ]
  },
  {
   "cell_type": "markdown",
   "metadata": {},
   "source": [
    "<a id=\"cholesterol\"></a>\n",
    "## Cholesterol Testing\n",
    "\n",
    "The codes used in for this measure are available in <a href=\"https://www.opencodelists.org/codelist/opensafely/cholesterol-tests/09896c09/\">Codelist</a>.\n",
    "\n",
    "<h3 class=\"details\">What is it and why does it matter?</h3>\n",
    "\n",
    "A commonly-used blood test used as part of a routine cardiovascular disease 10 year risk assessment and also to identify patients with lipid disorders (e.g. familial hypercholesterolaemia). This helps ensure appropriate treatment, with the aim of reducing long term risks of complications such as stroke or myocardial infarction."
   ]
  },
  {
   "cell_type": "code",
   "execution_count": null,
   "metadata": {},
   "outputs": [],
   "source": [
    "cholesterol_df, num_events_cholesterol = generate_sentinel_measure(data_dict, data_dict_practice, codelist_dict, 'cholesterol', 'code', 'term', [\"2020-02-01\", \"2020-04-01\", \"2020-12-01\"], codelist_link=\"https://www.opencodelists.org/codelist/opensafely/cholesterol-tests/09896c09/\",interactive=INTERACTIVE)\n",
    "num_events_dict[\"cholesterol\"] = num_events_cholesterol"
   ]
  },
  {
   "cell_type": "markdown",
   "metadata": {},
   "source": [
    "<a id=\"ALT\"></a>\n",
    "## Liver Function Testing - Alanine Transferaminase (ALT)\n",
    "\n",
    "The codes used in for this measure are available in <a href=\"https://www.opencodelists.org/codelist/opensafely/alanine-aminotransferase-alt-tests/2298df3e/\">this codelist</a>.\n",
    "\n",
    "<h3 class=\"details\">What is it and why does it matter?</h3>\n",
    "\n",
    "An ALT blood test is one of a group of liver function tests (LFTs) which are used to detect problems with the function of the liver.  It is often used to monitor patients on medications which may affect the liver or which rely on the liver to break them down within the body. They are also tested for patients with known or suspected liver dysfunction.  "
   ]
  },
  {
   "cell_type": "code",
   "execution_count": null,
   "metadata": {},
   "outputs": [],
   "source": [
    "alt_df, num_events_alt = generate_sentinel_measure(data_dict, data_dict_practice, codelist_dict, 'alt', 'code', 'term', [\"2020-02-01\", \"2020-04-01\", \"2020-12-01\"], codelist_link=\"https://www.opencodelists.org/codelist/opensafely/alanine-aminotransferase-alt-tests/2298df3e/\",interactive=INTERACTIVE)\n",
    "num_events_dict[\"alt\"] = num_events_alt"
   ]
  },
  {
   "cell_type": "markdown",
   "metadata": {},
   "source": [
    "<a id=\"serum_tsh\"></a>\n",
    "## Thyroid Testing\n",
    "\n",
    "The codes used in for this measure are available in <a href=\"https://www.opencodelists.org/codelist/opensafely/thyroid-stimulating-hormone-tsh-testing/11a1abeb/\">this codelist</a>.\n",
    "\n",
    "<h3 class=\"details\">What is it and why does it matter?</h3>\n",
    "\n",
    "TSH is used for the diagnosis and monitoring of hypothyroidism and hyperthyroidism, including making changes to thyroid replacement therapy dosing."
   ]
  },
  {
   "cell_type": "code",
   "execution_count": null,
   "metadata": {},
   "outputs": [],
   "source": [
    "tsh_df, num_events_tsh = generate_sentinel_measure(data_dict, data_dict_practice, codelist_dict, 'tsh', 'code', 'term', [\"2020-02-01\", \"2020-04-01\", \"2020-12-01\"], codelist_link=\"https://www.opencodelists.org/codelist/opensafely/thyroid-stimulating-hormone-tsh-testing/11a1abeb/\",interactive=INTERACTIVE)\n",
    "num_events_dict[\"tsh\"] = num_events_tsh"
   ]
  },
  {
   "cell_type": "markdown",
   "metadata": {},
   "source": [
    "<a id=\"rbc_fbc\"></a>\n",
    "## Full Blood Count - Red Blood Cell (RBC) Testing\n",
    "\n",
    "The codes used in for this measure are available in <a href=\"https://www.opencodelists.org/codelist/opensafely/red-blood-cell-rbc-tests/576a859e/\">this codelist</a>.\n",
    "\n",
    "<h3 class=\"details\">What is it and why does it matter?</h3>\n",
    "\n",
    "RBC is completed as part of a group of tests referred to as a full blood count (FBC), used to detect a variety of disorders of the blood, such as anaemia and infection."
   ]
  },
  {
   "cell_type": "code",
   "execution_count": null,
   "metadata": {},
   "outputs": [],
   "source": [
    "rbc_df, num_events_rbc = generate_sentinel_measure(data_dict, data_dict_practice, codelist_dict, 'rbc', 'code', 'term', [\"2020-02-01\", \"2020-04-01\", \"2020-12-01\"], codelist_link=\"https://www.opencodelists.org/codelist/opensafely/red-blood-cell-rbc-tests/576a859e/\",interactive=INTERACTIVE)\n",
    "num_events_dict[\"rbc\"] = num_events_rbc"
   ]
  },
  {
   "cell_type": "markdown",
   "metadata": {},
   "source": [
    "<a id=\"hba1c\"></a>\n",
    "## Glycated Haemoglobin A1c Level (HbA1c)\n",
    "\n",
    "The codes used in for this measure are available in <a href=\"https://www.opencodelists.org/codelist/opensafely/glycated-haemoglobin-hba1c-tests/62358576/\">this codelist</a>.\n",
    "\n",
    "<h3 class=\"details\">What is it and why does it matter?</h3>\n",
    "\n",
    "HbA1c is a long term indicator of diabetes control. NICE guidelines recommend that individuals with diabetes have their HbA1c measured at least twice a year. Poor diabetic control can place individuals living with diabetes at an increased risk of the complications of diabetes."
   ]
  },
  {
   "cell_type": "code",
   "execution_count": null,
   "metadata": {},
   "outputs": [],
   "source": [
    "hba1c_df, num_events_hba1c = generate_sentinel_measure(data_dict, data_dict_practice, codelist_dict, 'hba1c', 'code', 'term', [\"2020-02-01\", \"2020-04-01\", \"2020-12-01\"], codelist_link=\"https://www.opencodelists.org/codelist/opensafely/glycated-haemoglobin-hba1c-tests/62358576/\",interactive=INTERACTIVE)\n",
    "num_events_dict[\"hba1c\"] = num_events_hba1c\n"
   ]
  },
  {
   "cell_type": "markdown",
   "metadata": {},
   "source": [
    "<a id=\"serum_sodium\"></a>\n",
    "## Renal Function Assessment - Sodium Testing\n",
    "\n",
    "The codes used in for this measure are available in <a href=\"https://www.opencodelists.org/codelist/opensafely/sodium-tests-numerical-value/32bff605/\">this codelist</a>.\n",
    "\n",
    "<h3 class=\"details\">What is it and why does it matter?</h3>\n",
    "\n",
    "Sodium is completed as part of a group of tests referred to as a renal profile, used to detect a variety of disorders of the kidneys. A renal profile is also often used to monitor patients on medications which may affect the kidneys or which rely on the kidneys to remove them from the body."
   ]
  },
  {
   "cell_type": "code",
   "execution_count": null,
   "metadata": {},
   "outputs": [],
   "source": [
    "sodium_df, num_events_sodium = generate_sentinel_measure(data_dict, data_dict_practice, codelist_dict, 'sodium', 'code', 'term', [\"2020-02-01\", \"2020-04-01\", \"2020-12-01\"], codelist_link=\"https://www.opencodelists.org/codelist/opensafely/sodium-tests-numerical-value/32bff605/\",interactive=INTERACTIVE)\n",
    "num_events_dict[\"sodium\"] = num_events_sodium"
   ]
  },
  {
   "cell_type": "markdown",
   "metadata": {},
   "source": [
    "<a id=\"asthma\"></a>\n",
    "## Asthma Reviews\n",
    "\n",
    "The codes used in for this measure are available in <a href=\"https://www.opencodelists.org/codelist/opensafely/asthma-annual-review-qof/33eeb7da/\">this codelist</a>.  QoF recommends a number of codes that can be used by practices as an asthma annual review.  These are all included in our codelist.\n",
    "\n",
    "<h3 class=\"details\">What is it and why does it matter?</h3>\n",
    "\n",
    "The British Thoracic Society and Scottish Intercollegiate Guidelines Network on the management of asthma recommend that people with asthma receive a review of their condition at least annually.If a patient has not been reviewed, it is possible that their asthma control may have worsened, leading to a greater chance of symptoms and admission to hospital."
   ]
  },
  {
   "cell_type": "code",
   "execution_count": null,
   "metadata": {},
   "outputs": [],
   "source": [
    "asthma_df, num_events_asthma = generate_sentinel_measure(data_dict, data_dict_practice, codelist_dict, 'asthma', 'code', 'term', [\"2020-02-01\", \"2020-04-01\", \"2020-12-01\"], codelist_link=\"https://www.opencodelists.org/codelist/opensafely/asthma-annual-review-qof/33eeb7da/\",interactive=INTERACTIVE)\n",
    "num_events_dict[\"asthma\"] = num_events_asthma\n"
   ]
  },
  {
   "cell_type": "markdown",
   "metadata": {},
   "source": [
    "<a id=\"copd\"></a>\n",
    "## Chronic Obstructive Pulmonary Disease (COPD) Reviews\n",
    "\n",
    "The codes used in for this measure are available in <a href=\"https://www.opencodelists.org/codelist/opensafely/chronic-obstructive-pulmonary-disease-copd-review-qof/01cfd170/\">this codelist</a>.  \n",
    "\n",
    "<h3 class=\"details\">What is it and why does it matter?</h3>\n",
    "\n",
    "It is recommended by NICE that all individuals living with COPD have an annual review with the exception of individuals living with very severe (stage 4) COPD being reviewed at least twice a year.\n",
    "If a patient has not been reviewed, it is possible that their COPD control may have worsened, leading to a greater chance of symptoms and admission to hospital.\n"
   ]
  },
  {
   "cell_type": "code",
   "execution_count": null,
   "metadata": {},
   "outputs": [],
   "source": [
    "copd_df, num_events_copd = generate_sentinel_measure(data_dict, data_dict_practice, codelist_dict, 'copd', 'code', 'term', [\"2020-02-01\", \"2020-04-01\", \"2020-12-01\"], codelist_link=\"https://www.opencodelists.org/codelist/opensafely/chronic-obstructive-pulmonary-disease-copd-review-qof/01cfd170/\",interactive=INTERACTIVE)\n",
    "num_events_dict[\"copd\"] = num_events_copd"
   ]
  },
  {
   "cell_type": "markdown",
   "metadata": {},
   "source": [
    "<a id=\"med_review\"></a>\n",
    "## Medication Reviews\n",
    "\n",
    "The codes used in for this measure are a combination of codes available in <a href=\"https://www.opencodelists.org/codelist/opensafely/care-planning-medication-review-simple-reference-set-nhs-digital/61b13c39/\">this NHS Digitatil medication planning refset</a> and <a href=\"https://www.opencodelists.org/codelist/nhsd-primary-care-domain-refsets/medrvw_cod/20200812/\">this primary care domain medication review refset</a>.\n",
    " \n",
    "<h3 class=\"details\">What is it and why does it matter?</h3>\n",
    "\n",
    "Many medicines are used long-term and they should be reviewed regularly to ensure they are still safe, effective and appropriate.\n",
    "Medication review is a broad term ranging from a notes-led review without a patient, to an in-depth Structured Medication Review with multiple appointments and follow-up. The codelist provided captures all types of reviews to give an overview of medication reviews in primary care."
   ]
  },
  {
   "cell_type": "code",
   "execution_count": null,
   "metadata": {},
   "outputs": [],
   "source": [
    "medication_review_df, num_events_medication_review = generate_sentinel_measure(data_dict, data_dict_practice, codelist_dict, 'medication_review', 'code', 'term', [\"2020-02-01\", \"2020-04-01\", \"2020-12-01\"], codelist_link=\"https://www.opencodelists.org/codelist/opensafely/care-planning-medication-review-simple-reference-set-nhs-digital/61b13c39/\",interactive=INTERACTIVE)\n",
    "num_events_dict[\"medication_review\"] = num_events_medication_review"
   ]
  }
 ],
 "metadata": {
  "kernelspec": {
   "display_name": "Python 3.10.4 64-bit",
   "language": "python",
   "name": "python3"
  },
  "language_info": {
   "codemirror_mode": {
    "name": "ipython",
    "version": 3
   },
   "file_extension": ".py",
   "mimetype": "text/x-python",
   "name": "python",
   "nbconvert_exporter": "python",
   "pygments_lexer": "ipython3",
   "version": "3.10.4"
  },
  "vscode": {
   "interpreter": {
    "hash": "b460384b52104c1e5b9cf54bee46a255d22b2bef338f75ac4ad5d48196028d3c"
   }
  }
 },
 "nbformat": 4,
 "nbformat_minor": 4
}
