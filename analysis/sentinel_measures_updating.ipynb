{
 "cells": [
  {
   "cell_type": "markdown",
   "metadata": {},
   "source": [
    "<h1 align=\"center\">OpenSAFELY Service Restoration Observatory Monthly Dashboard: Eleven key measures for monitoring general practice clinical activity during COVID-19 </h1>\n",
    "\n",
    "**This notebook accompanies [this report](https://reports.opensafely.org/reports/sro-measures/), describing trends and variation in clinical activity codes using a set of key measures indicative of overall activity to evaluate NHS service restoration throughout the COVID-19 pandemic. For details on the results presented here, please refer to the main report or to the accompanying [preprint](https://www.medrxiv.org/content/10.1101/2022.10.17.22281058v1.article-info).**\n",
    "\n",
    "The key differences between this version and the accompanying report are:\n",
    "\n",
    "* This analysis is run on data for patients registered at a TPP practice. This covers 40% of the population of England. For a description of the representativeness of this sample, please see our manuscript [here](https://doi.org/10.12688/wellcomeopenres.18010.1).\n",
    "* Our previous analysis was restricted to adults. This analysis includes all patients, so the observed rates for some measures will be lower.\n",
    "* Our previous analysis selected all patients who were registered at the start of each  month, using a rolling population. This analysis selects a static population as all patients registered as of the end of the study period or who have died during the study period.\n"
   ]
  },
  {
   "cell_type": "markdown",
   "metadata": {},
   "source": [
    "<h3 class=\"details\">Summary of results</h3>\n",
    "\n",
    "These key measures demonstrated substantial changes in clinical activity throughout the COVID-19 pandemic. Six of the measures recovered to their pre-pandemic baseline within a year of the pandemic, showing a rapid, adaptive response by primary care in the midst of a global health pandemic. The remaining five measures showed a more sustained drop in activity; asthma and COPD reviews did not recover to their pre-pandemic baseline until around August 2021 and blood pressure monitoring, cardiovascular disease risk assessment and medication reviews had a sustained drop in activity that persisted up to December 2021."
   ]
  },
  {
   "cell_type": "markdown",
   "metadata": {},
   "source": [
    "<h3 class=\"details\">Findings in context</h3>\n",
    "\n",
    "Discussion of the specific causes and reasons for the changes in narrow measures of clinical activity we have described is best addressed through quantitative analyses that identify practices in high and low deciles to approach for targeted qualitative interviews with patients and front line staff. However we believe the following broad points may help aid interpretation. Our measures reflect only a few areas of high volume clinical activity; decreases may reflect appropriate prioritisation of other clinical activity. For example NHS Health Checks, which are used to detect early signs of high blood pressure, heart disease or type 2 diabetes, were paused during the pandemic; this is likely to explain the sustained drop in activity in cardiovascular disease risk assessment and blood pressure monitoring. However, in specific cases this may reflect changes in the style of delivery of a clinical activity, rather than the volume: for example, where patients record their own blood pressure at home since, as we have previously highlighted, home monitoring of blood pressure may not be recorded completely or consistently in GP records. In addition, not all reductions should be interpreted as problematic: as part of the COVID-19 recovery, health systems are aiming to be more resilient, responsive and sustainable; complete recovery may not always be appropriate and reductions in clinical activity across some domains may reflect rational reprioritisation of activity. Where these changes in priority have not been nationally planned, data analyses such as ours may help to rapidly identify the pragmatic changes in prioritisation being made by individual dispersed organisations or people across the healthcare ecosystem before those changes are explicitly surfaced or discussed through other mechanisms. For more detail, please see our preprint [here](https://www.medrxiv.org/content/10.1101/2022.10.17.22281058v1.article-info)."
   ]
  },
  {
   "cell_type": "markdown",
   "metadata": {},
   "source": [
    "The following key measures are provided:\n",
    "\n",
    "<ul id=\"docNav\">\n",
    "\n",
    "<li> <a href=\"#systolic_bp\">Blood Pressure Monitoring</a>\n",
    "<li> <a href=\"#qrisk2\">Cardiovascular Disease 10 Year Risk Assessment</a>\n",
    "<li> <a href=\"#cholesterol\">Cholesterol Testing</a>\n",
    "<li> <a href=\"#ALT\">Liver Function Testing - Alanine Transferaminase (ALT)</a>\n",
    "<li> <a href=\"#serum_tsh\">Thyroid Testing</a>\n",
    "<li> <a href=\"#rbc_fbc\">Full Blood Count - Red Blood Cell (RBC) Testing</a>\n",
    "<li> <a href=\"#hba1c\">Glycated Haemoglobin A1c Level (HbA1c)</a>\n",
    "<li> <a href=\"#serum_sodium\">Renal Function Assessment - Sodium Testing</a>\n",
    "<li> <a href=\"#asthma\">Asthma Reviews</a>\n",
    "<li> <a href=\"#copd\">Chronic Obstrutive Pulmonary Disease (COPD) Reviews</a>\n",
    "<li> <a href=\"#med_review\">Medication Review</a>\n",
    "\n",
    "</ul>"
   ]
  },
  {
   "cell_type": "code",
   "execution_count": null,
   "metadata": {},
   "outputs": [],
   "source": [
    "import pandas as pd\n",
    "from utilities import *\n",
    "from pandas.plotting import register_matplotlib_converters\n",
    "register_matplotlib_converters()\n",
    "\n",
    "%matplotlib inline\n",
    "%config InlineBackend.figure_format='png'"
   ]
  },
  {
   "cell_type": "code",
   "execution_count": null,
   "metadata": {},
   "outputs": [],
   "source": [
    "%%capture --no-display\n",
    "\n",
    "sentinel_measures = [\"qrisk2\", \"asthma\", \"copd\", \"sodium\", \"cholesterol\", \"alt\", \"tsh\", \"rbc\", 'hba1c', 'systolic_bp', 'medication_review']\n"
   ]
  },
  {
   "cell_type": "code",
   "execution_count": null,
   "metadata": {},
   "outputs": [],
   "source": [
    "import matplotlib.pyplot as plt\n",
    "import matplotlib\n",
    "import seaborn as sns\n",
    "\n",
    "def replace_with_correct_deciles(series):\n",
    "    series = pd.Series([10, 20, 30, 40, 50, 60, 70, 80, 90, 1, 2, 3, 4, 5, 6, 7, 8, 9, 91, 92, 93, 94, 95, 96, 97, 98, 99])\n",
    "    return series\n",
    "\n",
    "def deciles_chart_ebm(\n",
    "    df,\n",
    "    period_column=None,\n",
    "    column=None,\n",
    "    title=\"\",\n",
    "    ylabel=\"\",\n",
    "    show_outer_percentiles=True,\n",
    "    show_legend=True,\n",
    "    ax=None,\n",
    "):\n",
    "    \"\"\"period_column must be dates / datetimes\"\"\"\n",
    "    sns.set_style(\"whitegrid\", {\"grid.color\": \".9\"})\n",
    "    if not ax:\n",
    "        fig, ax = plt.subplots(1, 1)\n",
    "    \n",
    "    linestyles = {\n",
    "        \"decile\": {\n",
    "            \"line\": \"b--\",\n",
    "            \"linewidth\": 1,\n",
    "            \"label\": \"decile\",\n",
    "        },\n",
    "        \"median\": {\n",
    "            \"line\": \"b-\",\n",
    "            \"linewidth\": 1.5,\n",
    "            \"label\": \"median\",\n",
    "        },\n",
    "        \"percentile\": {\n",
    "            \"line\": \"b:\",\n",
    "            \"linewidth\": 0.8,\n",
    "            \"label\": \"1st-9th, 91st-99th percentile\",\n",
    "        },\n",
    "    }\n",
    "    label_seen = []\n",
    "    for percentile in range(1, 100):  # plot each decile line\n",
    "        data = df[df[\"percentile\"] == percentile]\n",
    "        add_label = False\n",
    "\n",
    "        if percentile == 50:\n",
    "            style = linestyles[\"median\"]\n",
    "            add_label = True\n",
    "        elif show_outer_percentiles and (percentile < 10 or percentile > 90):\n",
    "            style = linestyles[\"percentile\"]\n",
    "            if \"percentile\" not in label_seen:\n",
    "                label_seen.append(\"percentile\")\n",
    "                add_label = True\n",
    "        else:\n",
    "            style = linestyles[\"decile\"]\n",
    "            if \"decile\" not in label_seen:\n",
    "                label_seen.append(\"decile\")\n",
    "                add_label = True\n",
    "        if add_label:\n",
    "            label = style[\"label\"]\n",
    "        else:\n",
    "            label = \"_nolegend_\"\n",
    "\n",
    "        ax.plot(\n",
    "            data[period_column],\n",
    "            data[column],\n",
    "            style[\"line\"],\n",
    "            linewidth=style[\"linewidth\"],\n",
    "            label=label,\n",
    "        )\n",
    "    ax.set_ylabel(ylabel, size=15, alpha=0.6)\n",
    "    if title:\n",
    "        ax.set_title(title, size=18)\n",
    "    # set ymax across all subplots as largest value across dataset\n",
    "    ax.set_ylim([0, df[column].max() * 1.05])\n",
    "    ax.tick_params(labelsize=12)\n",
    "    ax.set_xlim(\n",
    "        [df[period_column].min(), df[period_column].max()]\n",
    "    )  # set x axis range as full date range\n",
    "\n",
    "    ax.xaxis.set_major_formatter(matplotlib.dates.DateFormatter(\"%B %Y\"))\n",
    "    ax.xaxis.set_major_locator(matplotlib.dates.MonthLocator(interval=1))\n",
    "    if show_legend:\n",
    "        ax.legend(\n",
    "            bbox_to_anchor=(1.05, 0.6),\n",
    "            ncol=1,\n",
    "            fontsize=12,\n",
    "            borderaxespad=0.0,\n",
    "            frameon=True,\n",
    "        )\n",
    "\n",
    "    # rotates and right aligns the x labels, and moves the bottom of the\n",
    "    # axes up to make room for them\n",
    "    plt.gcf().autofmt_xdate(rotation=90, ha=\"center\", which=\"both\")\n",
    "\n",
    "    return plt\n",
    "\n",
    "for m in sentinel_measures:\n",
    "    # Load deciles and generate deciles chart\n",
    "    deciles = pd.read_csv(f\"../output/{m}/deciles_table_counts_per_week_per_practice.csv\", parse_dates=['date'])\n",
    "\n",
    "    # fix deciles\n",
    "    deciles.loc[:, \"percentile\"] = deciles.groupby(by=[\"date\"])[[\"percentile\"]].transform(replace_with_correct_deciles)\n",
    "    \n",
    "    \n",
    "    px = 1 / plt.rcParams[\"figure.dpi\"]  # pixel in inches\n",
    "    fig, ax = plt.subplots(\n",
    "        1, 1, figsize=(800 * px, 400 * px), tight_layout=True\n",
    "    )\n",
    "\n",
    "\n",
    "\n",
    "    plot = deciles_chart_ebm(\n",
    "        deciles,\n",
    "        period_column=\"date\",\n",
    "        column=\"value\",\n",
    "        ylabel=\"rate per 1000\",\n",
    "        show_outer_percentiles=True,\n",
    "        ax=ax,\n",
    "    )\n",
    "    plt.savefig(f\"../output/{m}/deciles_chart_counts_per_week_per_practice.png\")\n",
    "    plt.close()\n",
    "    "
   ]
  },
  {
   "cell_type": "code",
   "execution_count": null,
   "metadata": {},
   "outputs": [],
   "source": [
    "%%capture\n",
    "# non-displayed initial run due to gridlines bug\n",
    "generate_sentinel_measure('systolic_bp', 'output')"
   ]
  },
  {
   "cell_type": "markdown",
   "metadata": {},
   "source": [
    "<a id=\"systolic_bp\"></a>\n",
    "## Blood Pressure Monitoring\n",
    "\n",
    "The codes used for this measure are available in <a href=\"https://www.opencodelists.org/codelist/opensafely/systolic-blood-pressure-qof/3572b5fb/\">this codelist</a>.\n",
    "\n",
    "<h3 class=\"details\">What is it and why does it matter?</h3>\n",
    "\n",
    "A commonly-used assessment used to identify patients with hypertension or to ensure optimal treatment for those with known hypertension.  This helps ensure appropriate treatment, with the aim of reducing long term risks of complications from hypertension such as stroke, myocardial infarction and kidney disease. \n",
    "\n",
    "<h3 class=\"details\">Caveats</h3>\n",
    "\n",
    "We use codes which represent results reported to GPs so tests requested but not yet reported are not included. Only test results returned to GPs are included, which will usually exclude tests requested while a person is in hospital and other settings like a private clinic."
   ]
  },
  {
   "cell_type": "code",
   "execution_count": null,
   "metadata": {},
   "outputs": [],
   "source": [
    "generate_sentinel_measure('systolic_bp', 'output')"
   ]
  },
  {
   "cell_type": "markdown",
   "metadata": {},
   "source": [
    "<a id=\"qrisk2\"></a>\n",
    "## Cardiovascular Disease 10 year Risk Assessment\n",
    "\n",
    "The codes used for this measure are available in <a href=\"https://www.opencodelists.org/codelist/opensafely/cvd-risk-assessment-score-qof/1adf44a5/\">this codelist</a>.\n",
    "\n",
    "<h3 class=\"details\">What is it and why does it matter? </h3>\n",
    "\n",
    "A commonly-used risk assessment used to identify patients with an increased risk of cardiovascular events in the next 10 years. This helps ensure appropriate treatment, with the aim of reducing long term risks of complications such as stroke or myocardial infarction. "
   ]
  },
  {
   "cell_type": "code",
   "execution_count": null,
   "metadata": {},
   "outputs": [],
   "source": [
    "generate_sentinel_measure('qrisk2', 'output')"
   ]
  },
  {
   "cell_type": "markdown",
   "metadata": {},
   "source": [
    "<a id=\"cholesterol\"></a>\n",
    "## Cholesterol Testing\n",
    "\n",
    "The codes used in this measure are available in <a href=\"https://www.opencodelists.org/codelist/opensafely/cholesterol-tests/09896c09/\">Codelist</a>.\n",
    "\n",
    "<h3 class=\"details\">What is it and why does it matter?</h3>\n",
    "\n",
    "A commonly-used blood test used as part of a routine cardiovascular disease 10 year risk assessment and also to identify patients with lipid disorders (e.g. familial hypercholesterolaemia). This helps ensure appropriate treatment, with the aim of reducing long term risks of complications such as stroke or myocardial infarction.\n",
    "\n",
    "<h3 class=\"details\">Caveats</h3>\n",
    "\n",
    "We use codes which represent results reported to GPs so tests requested but not yet reported are not included. Only test results returned to GPs are included, which will usually exclude tests requested while a person is in hospital and other settings like a private clinic."
   ]
  },
  {
   "cell_type": "code",
   "execution_count": null,
   "metadata": {},
   "outputs": [],
   "source": [
    "generate_sentinel_measure('cholesterol', 'output')"
   ]
  },
  {
   "cell_type": "markdown",
   "metadata": {},
   "source": [
    "<a id=\"ALT\"></a>\n",
    "## Liver Function Testing - Alanine Transferaminase (ALT)\n",
    "\n",
    "The codes used for this measure are available in <a href=\"https://www.opencodelists.org/codelist/opensafely/alanine-aminotransferase-alt-tests/2298df3e/\">this codelist</a>.\n",
    "\n",
    "<h3 class=\"details\">What is it and why does it matter?</h3>\n",
    "\n",
    "An ALT blood test is one of a group of liver function tests (LFTs) which are used to detect problems with the function of the liver.  It is often used to monitor patients on medications which may affect the liver or which rely on the liver to break them down within the body. They are also tested for patients with known or suspected liver dysfunction.  \n",
    "\n",
    "<h3 class=\"details\">Caveats</h3>\n",
    "\n",
    "**In a small number of places, an ALT test may NOT be included within a liver function test**. We use codes which represent results reported to GPs so tests requested but not yet reported are not included. Only test results returned to GPs are included, which will usually exclude tests requested while a person is in hospital and other settings like a private clinic."
   ]
  },
  {
   "cell_type": "code",
   "execution_count": null,
   "metadata": {},
   "outputs": [],
   "source": [
    "generate_sentinel_measure('alt', 'output')"
   ]
  },
  {
   "cell_type": "markdown",
   "metadata": {},
   "source": [
    "<a id=\"serum_tsh\"></a>\n",
    "## Thyroid Testing\n",
    "\n",
    "The codes used for this measure are available in <a href=\"https://www.opencodelists.org/codelist/opensafely/thyroid-stimulating-hormone-tsh-testing/11a1abeb/\">this codelist</a>.\n",
    "\n",
    "<h3 class=\"details\">What is it and why does it matter?</h3>\n",
    "\n",
    "TSH is used for the diagnosis and monitoring of hypothyroidism and hyperthyroidism, including making changes to thyroid replacement therapy dosing.\n",
    "\n",
    "<h3 class=\"details\">Caveats</h3>\n",
    "\n",
    "We use codes which represent results reported to GPs so tests requested but not yet reported are not included. Only test results returned to GPs are included, which will usually exclude tests requested while a person is in hospital and other settings like a private clinic."
   ]
  },
  {
   "cell_type": "code",
   "execution_count": null,
   "metadata": {},
   "outputs": [],
   "source": [
    "generate_sentinel_measure('tsh', 'output')"
   ]
  },
  {
   "cell_type": "markdown",
   "metadata": {},
   "source": [
    "<a id=\"rbc_fbc\"></a>\n",
    "## Full Blood Count - Red Blood Cell (RBC) Testing\n",
    "\n",
    "The codes used for this measure are available in <a href=\"https://www.opencodelists.org/codelist/opensafely/red-blood-cell-rbc-tests/576a859e/\">this codelist</a>.\n",
    "\n",
    "<h3 class=\"details\">What is it and why does it matter?</h3>\n",
    "\n",
    "RBC is completed as part of a group of tests referred to as a full blood count (FBC), used to detect a variety of disorders of the blood, such as anaemia and infection.\n",
    "\n",
    "<h3 class=\"details\">Caveats</h3>\n",
    "\n",
    "We use codes which represent results reported to GPs so tests requested but not yet reported are not included. Only test results returned to GPs are included, which will usually exclude tests requested while a person is in hospital and other settings like a private clinic."
   ]
  },
  {
   "cell_type": "code",
   "execution_count": null,
   "metadata": {},
   "outputs": [],
   "source": [
    "generate_sentinel_measure('rbc', 'output')"
   ]
  },
  {
   "cell_type": "markdown",
   "metadata": {},
   "source": [
    "<a id=\"hba1c\"></a>\n",
    "## Glycated Haemoglobin A1c Level (HbA1c)\n",
    "\n",
    "The codes used for this measure are available in <a href=\"https://www.opencodelists.org/codelist/opensafely/glycated-haemoglobin-hba1c-tests/62358576/\">this codelist</a>.\n",
    "\n",
    "<h3 class=\"details\">What is it and why does it matter?</h3>\n",
    "\n",
    "HbA1c is a long term indicator of diabetes control. NICE guidelines recommend that individuals with diabetes have their HbA1c measured at least twice a year. Poor diabetic control can place individuals living with diabetes at an increased risk of the complications of diabetes.\n",
    "\n",
    "<h3 class=\"details\">Caveats</h3>\n",
    "\n",
    "We use codes which represent results reported to GPs so tests requested but not yet reported are not included. Only test results returned to GPs are included, which will usually exclude tests requested while a person is in hospital and other settings like a private clinic."
   ]
  },
  {
   "cell_type": "code",
   "execution_count": null,
   "metadata": {},
   "outputs": [],
   "source": [
    "generate_sentinel_measure('hba1c', 'output')\n"
   ]
  },
  {
   "cell_type": "markdown",
   "metadata": {},
   "source": [
    "<a id=\"serum_sodium\"></a>\n",
    "## Renal Function Assessment - Sodium Testing\n",
    "\n",
    "The codes used for this measure are available in <a href=\"https://www.opencodelists.org/codelist/opensafely/sodium-tests-numerical-value/32bff605/\">this codelist</a>.\n",
    "\n",
    "<h3 class=\"details\">What is it and why does it matter?</h3>\n",
    "\n",
    "Sodium is completed as part of a group of tests referred to as a renal profile, used to detect a variety of disorders of the kidneys. A renal profile is also often used to monitor patients on medications which may affect the kidneys or which rely on the kidneys to remove them from the body.\n",
    "\n",
    "<h3 class=\"details\">Caveats</h3>\n",
    "\n",
    "We use codes which represent results reported to GPs so tests requested but not yet reported are not included. Only test results returned to GPs are included, which will usually exclude tests requested while a person is in hospital and other settings like a private clinic."
   ]
  },
  {
   "cell_type": "code",
   "execution_count": null,
   "metadata": {},
   "outputs": [],
   "source": [
    "generate_sentinel_measure('sodium', 'output')"
   ]
  },
  {
   "cell_type": "markdown",
   "metadata": {},
   "source": [
    "<a id=\"asthma\"></a>\n",
    "## Asthma Reviews\n",
    "\n",
    "The codes used for this measure are available in <a href=\"https://www.opencodelists.org/codelist/opensafely/asthma-annual-review-qof/33eeb7da/\">this codelist</a>.\n",
    "\n",
    "<h3 class=\"details\">What is it and why does it matter?</h3>\n",
    "\n",
    "The British Thoracic Society and Scottish Intercollegiate Guidelines Network on the management of asthma recommend that people with asthma receive a review of their condition at least annually. If a patient has not been reviewed, it is possible that their asthma control may have worsened, leading to a greater chance of symptoms and admission to hospital."
   ]
  },
  {
   "cell_type": "code",
   "execution_count": null,
   "metadata": {},
   "outputs": [],
   "source": [
    "generate_sentinel_measure('asthma', 'output')\n"
   ]
  },
  {
   "cell_type": "markdown",
   "metadata": {},
   "source": [
    "<a id=\"copd\"></a>\n",
    "## Chronic Obstructive Pulmonary Disease (COPD) Reviews\n",
    "\n",
    "The codes used for this measure are available in <a href=\"https://www.opencodelists.org/codelist/opensafely/chronic-obstructive-pulmonary-disease-copd-review-qof/01cfd170/\">this codelist</a>.  \n",
    "\n",
    "<h3 class=\"details\">What is it and why does it matter?</h3>\n",
    "\n",
    "It is recommended by NICE that all individuals living with COPD have an annual review with the exception of individuals living with very severe (stage 4) COPD being reviewed at least twice a year.\n",
    "If a patient has not been reviewed, it is possible that their COPD control may have worsened, leading to a greater chance of symptoms and admission to hospital.\n"
   ]
  },
  {
   "cell_type": "code",
   "execution_count": null,
   "metadata": {},
   "outputs": [],
   "source": [
    "generate_sentinel_measure('copd', 'output')"
   ]
  },
  {
   "cell_type": "markdown",
   "metadata": {},
   "source": [
    "<a id=\"med_review\"></a>\n",
    "## Medication Reviews\n",
    "\n",
    "The codes used in for this measure are a combination of codes available in <a href=\"https://www.opencodelists.org/codelist/opensafely/care-planning-medication-review-simple-reference-set-nhs-digital/61b13c39/\"> this NHS Digital care planning medication review refset</a> and <a href=\"https://www.opencodelists.org/codelist/nhsd-primary-care-domain-refsets/medrvw_cod/20200812/\">this primary care domain medication review refset</a>.\n",
    " \n",
    "<h3 class=\"details\">What is it and why does it matter?</h3>\n",
    "\n",
    "Many medicines are used long-term and they should be reviewed regularly to ensure they are still safe, effective and appropriate.\n",
    "Medication review is a broad term ranging from a notes-led review without a patient, to an in-depth Structured Medication Review with multiple appointments and follow-up. The codelist provided captures all types of reviews to give an overview of medication reviews in primary care."
   ]
  },
  {
   "cell_type": "code",
   "execution_count": null,
   "metadata": {},
   "outputs": [],
   "source": [
    "generate_sentinel_measure('medication_review', 'output')"
   ]
  }
 ],
 "metadata": {
  "kernelspec": {
   "display_name": "Python 3.10.4 64-bit",
   "language": "python",
   "name": "python3"
  },
  "language_info": {
   "codemirror_mode": {
    "name": "ipython",
    "version": 3
   },
   "file_extension": ".py",
   "mimetype": "text/x-python",
   "name": "python",
   "nbconvert_exporter": "python",
   "pygments_lexer": "ipython3",
   "version": "3.10.8"
  },
  "vscode": {
   "interpreter": {
    "hash": "b460384b52104c1e5b9cf54bee46a255d22b2bef338f75ac4ad5d48196028d3c"
   }
  }
 },
 "nbformat": 4,
 "nbformat_minor": 4
}
