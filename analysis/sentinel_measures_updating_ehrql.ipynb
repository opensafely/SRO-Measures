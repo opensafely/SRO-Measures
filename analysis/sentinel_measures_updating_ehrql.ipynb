{
 "cells": [
  {
   "attachments": {},
   "cell_type": "markdown",
   "metadata": {},
   "source": [
    "The following key measures are provided:\n",
    "\n",
    "<ul id=\"docNav\">\n",
    "\n",
    "<li> <a href=\"#systolic_bp\">Blood Pressure Monitoring</a>\n",
    "<li> <a href=\"#qrisk2\">Cardiovascular Disease 10 Year Risk Assessment</a>\n",
    "<li> <a href=\"#cholesterol\">Cholesterol Testing</a>\n",
    "<li> <a href=\"#ALT\">Liver Function Testing - Alanine Transferaminase (ALT)</a>\n",
    "<li> <a href=\"#serum_tsh\">Thyroid Testing</a>\n",
    "<li> <a href=\"#rbc_fbc\">Full Blood Count - Red Blood Cell (RBC) Testing</a>\n",
    "<li> <a href=\"#hba1c\">Glycated Haemoglobin A1c Level (HbA1c)</a>\n",
    "<li> <a href=\"#serum_sodium\">Renal Function Assessment - Sodium Testing</a>\n",
    "<li> <a href=\"#asthma\">Asthma Reviews</a>\n",
    "<li> <a href=\"#copd\">Chronic Obstrutive Pulmonary Disease (COPD) Reviews</a>\n",
    "<li> <a href=\"#med_review\">Medication Review</a>\n",
    "\n",
    "</ul>"
   ]
  },
  {
   "cell_type": "markdown",
   "metadata": {},
   "source": [
    "<h3 class=\"details\">Summary of results</h3>\n",
    "\n",
    "These key measures demonstrated substantial changes in clinical activity throughout the COVID-19 pandemic. Using our [classification of activity change methods](https://reports.opensafely.org/reports/sro-measures/), six of the measures recovered to their pre-pandemic baseline within a year of the pandemic, showing a rapid, adaptive response by primary care in the midst of a global health pandemic. The remaining five measures showed a more sustained drop in activity; asthma and COPD reviews did not recover to their pre-pandemic baseline until around August 2021 and blood pressure monitoring, cardiovascular disease risk assessment and medication reviews had a sustained drop in activity that persisted up to December 2021. Since December 2021 activity rates for all measures have recovered and in some cases are now above the pre-pandemic baseline."
   ]
  },
  {
   "cell_type": "markdown",
   "metadata": {},
   "source": [
    "<h3 class=\"details\">Findings in context</h3>\n",
    "\n",
    "Discussion of the specific causes and reasons for the changes in narrow measures of clinical activity we have described is best addressed through quantitative analyses that identify practices in high and low deciles to approach for targeted qualitative interviews with patients and front line staff. However we believe the following broad points may help aid interpretation. Our measures reflect only a few areas of high volume clinical activity; decreases may reflect appropriate prioritisation of other clinical activity. For example NHS Health Checks, which are used to detect early signs of high blood pressure, heart disease or type 2 diabetes, were paused during the pandemic; this is likely to explain the sustained drop in activity in cardiovascular disease risk assessment and blood pressure monitoring. However, in specific cases this may reflect changes in the style of delivery of a clinical activity, rather than the volume: for example, where patients record their own blood pressure at home since, as we have previously highlighted, home monitoring of blood pressure may not be recorded completely or consistently in GP records. In addition, not all reductions should be interpreted as problematic: as part of the COVID-19 recovery, health systems are aiming to be more resilient, responsive and sustainable; complete recovery may not always be appropriate and reductions in clinical activity across some domains may reflect rational reprioritisation of activity. Where these changes in priority have not been nationally planned, data analyses such as ours may help to rapidly identify the pragmatic changes in prioritisation being made by individual dispersed organisations or people across the healthcare ecosystem before those changes are explicitly surfaced or discussed through other mechanisms. For more detail, please see our published manuscript [here](https://doi.org/10.7554/eLife.84673)."
   ]
  },
  {
   "cell_type": "code",
   "execution_count": null,
   "metadata": {},
   "outputs": [],
   "source": [
    "import pandas as pd\n",
    "import numpy as np\n",
    "\n",
    "from pandas.plotting import register_matplotlib_converters\n",
    "\n",
    "from utilities import get_number_practices, get_percentage_practices, deciles_chart, OUTPUT_DIR\n",
    "\n",
    "from IPython.display import HTML, display, Markdown\n",
    "import matplotlib.pyplot as plt\n",
    "register_matplotlib_converters()\n",
    "\n",
    "%matplotlib inline\n",
    "%config InlineBackend.figure_format='png'\n",
    "plt.rcParams[\"axes.grid\"] = True"
   ]
  },
  {
   "cell_type": "code",
   "execution_count": null,
   "metadata": {},
   "outputs": [],
   "source": [
    "measures_df = pd.read_csv('../output/measures.csv', parse_dates=[\"interval_start\", \"interval_end\"])"
   ]
  },
  {
   "cell_type": "code",
   "execution_count": null,
   "metadata": {},
   "outputs": [],
   "source": [
    "%%capture --no-display\n",
    "\n",
    "sentinel_measures = [\"qrisk2\", \"asthma\", \"copd\", \"sodium\", \"cholesterol\", \"alt\", \"tsh\", \"rbc\", 'hba1c', 'systolic_bp', 'medication_review']\n",
    "\n",
    "sentinel_measure_codelist_mapping_dict = {\"systolic_bp\":\"opensafely-systolic-blood-pressure-qof\", \"qrisk\":\"opensafely-cvd-risk-assessment-score-qof\", \"cholesterol\": \"opensafely-cholesterol-tests\", \"alt\": \"opensafely-alanine-aminotransferase-alt-tests\", \"tsh\": \"opensafely-thyroid-stimulating-hormone-tsh-testing\", \"rbc\": \"opensafely-red-blood-cell-rbc-tests\", \"hba1c\": \"opensafely-glycated-haemoglobin-hba1c-tests\", \"sodium\": \"opensafely-sodium-tests-numerical-value\", \"asthma\": \"opensafely-asthma-annual-review-qof\", \"copd\": \"opensafely-chronic-obstructive-pulmonary-disease-copd-review-qof\"}\n",
    "\n",
    "codelist_dict = {}\n",
    "for measure in sentinel_measures:\n",
    "\n",
    "    if measure ==\"qrisk2\":\n",
    "        measure= \"qrisk\"\n",
    "    \n",
    "    if measure == 'medication_review':\n",
    "        codelist_1 = pd.read_csv('../codelists/opensafely-care-planning-medication-review-simple-reference-set-nhs-digital.csv')\n",
    "        codelist_1['term'] = codelist_1['term'].str.rstrip('(procedure)').str.rstrip()\n",
    "        codelist_2 = pd.read_csv('../codelists/nhsd-primary-care-domain-refsets-medrvw_cod.csv')\n",
    "        codelist_dict[measure] = codelist_1.merge(codelist_2, on=['code', 'term'], how='outer')\n",
    "    else:\n",
    "        codelist_name = sentinel_measure_codelist_mapping_dict[measure]\n",
    "        codelist = pd.read_csv(f'../codelists/{codelist_name}.csv')\n",
    "        codelist_dict[measure] = codelist"
   ]
  },
  {
   "cell_type": "code",
   "execution_count": null,
   "metadata": {},
   "outputs": [],
   "source": [
    "def drop_irrelevant_practices(df):\n",
    "    \"\"\"Drops irrelevant practices from the given measure table.\n",
    "\n",
    "    An irrelevant practice has zero events during the study period.\n",
    "\n",
    "    Args:\n",
    "        df: A measure table.\n",
    "\n",
    "    Returns:\n",
    "        A copy of the given measure table with irrelevant practices dropped.\n",
    "    \"\"\"\n",
    "\n",
    "    is_relevant = df.groupby(\"practice\").ratio.any()\n",
    "    return df[df.practice.isin(is_relevant[is_relevant == True].index)]\n",
    "\n",
    "def create_child_table(df, code_df, code_column, term_column, measure, nrows=5):\n",
    "    \"\"\"\n",
    "    Args:\n",
    "        df: A measure table.\n",
    "        code_df: A codelist table.\n",
    "        code_column: The name of the code column in the codelist table.\n",
    "        term_column: The name of the term column in the codelist table.\n",
    "        measure: The measure ID.\n",
    "        nrows: The number of rows to display.\n",
    "\n",
    "    Returns:\n",
    "        A table of the top `nrows` codes.\n",
    "    \"\"\"\n",
    "    event_counts = (\n",
    "        df.groupby(f\"{measure}_code\")[\"numerator\"]\n",
    "        .sum()  # We can't use .count() because the measure column contains zeros.\n",
    "        .rename_axis(code_column)\n",
    "        .rename(\"Events\")\n",
    "        .reset_index()\n",
    "        .sort_values(\"Events\", ascending=False)\n",
    "    )\n",
    "\n",
    "    # round events to nearest 5\n",
    "    event_counts[\"Events\"] = np.round(event_counts[\"Events\"] / 5) * 5\n",
    "\n",
    "    # calculate % makeup of each code\n",
    "    total_events = event_counts[\"Events\"].sum()\n",
    "    event_counts[\"Proportion of codes (%)\"] = round(\n",
    "        (event_counts[\"Events\"] / total_events) * 100, 2\n",
    "    )\n",
    "\n",
    "    # Gets the human-friendly description of the code for the given row\n",
    "    # e.g. \"Systolic blood pressure\".\n",
    "    code_df = code_df.set_index(code_column).rename(\n",
    "        columns={term_column: \"Description\"}\n",
    "    )\n",
    "    event_counts = event_counts.set_index(code_column).join(code_df).reset_index()\n",
    "\n",
    "    # Cast the code to an integer.\n",
    "    event_counts[code_column] = event_counts[code_column].astype(int)\n",
    "\n",
    "    # check that codes not in the top 5 rows have >5 events\n",
    "    outside_top_5_percent = 1 - ((event_counts.head(5)[\"Events\"].sum()) / total_events)\n",
    "\n",
    "    if 0 < (outside_top_5_percent * total_events) <= 5:\n",
    "        # drop percent column\n",
    "        event_counts = event_counts.loc[:, [\"code\", \"Description\"]]\n",
    "\n",
    "    else:\n",
    "        # give more logical column ordering\n",
    "        event_counts_with_count = event_counts.loc[\n",
    "            :, [\"code\", \"Description\", \"Events\", \"Proportion of codes (%)\"]\n",
    "        ]\n",
    "\n",
    "        event_counts = event_counts.loc[\n",
    "            :, [\"code\", \"Description\", \"Proportion of codes (%)\"]\n",
    "        ]\n",
    "\n",
    "    if len(event_counts[\"code\"]) > 1:\n",
    "        event_counts.loc[\n",
    "            event_counts[\"Proportion of codes (%)\"] == 0, \"Proportion of codes (%)\"\n",
    "        ] = \"< 0.005\"\n",
    "        event_counts.loc[\n",
    "            event_counts[\"Proportion of codes (%)\"] == 100, \"Proportion of codes (%)\"\n",
    "        ] = \"> 99.995\"\n",
    "\n",
    "        event_counts_with_count.loc[\n",
    "            event_counts_with_count[\"Proportion of codes (%)\"] == 0,\n",
    "            \"Proportion of codes (%)\",\n",
    "        ] = \"< 0.005\"\n",
    "        event_counts_with_count.loc[\n",
    "            event_counts_with_count[\"Proportion of codes (%)\"] == 100,\n",
    "            \"Proportion of codes (%)\",\n",
    "        ] = \"> 99.995\"\n",
    "\n",
    "    # return top n rows\n",
    "    return event_counts.head(5), event_counts_with_count.head()\n",
    "\n",
    "\n",
    "def get_number_events_mil(measure_table):\n",
    "    \"\"\"Gets the number of events per million, rounded to 2DP.\n",
    "\n",
    "    Args:\n",
    "        measure_table: A measure table.\n",
    "        measure_id: The measure ID.\n",
    "    \"\"\"\n",
    "    num_events = measure_table[\"numerator\"].sum()\n",
    "    return num_events, np.round(num_events / 1_000_000, 2)"
   ]
  },
  {
   "cell_type": "code",
   "execution_count": null,
   "metadata": {},
   "outputs": [],
   "source": [
    "measure_dfs = {}\n",
    "child_tables = {}\n",
    "\n",
    "for measure in sentinel_measures:\n",
    "    if measure ==\"qrisk2\":\n",
    "        measure = \"qrisk\"\n",
    "    \n",
    "    measure_subset_practice = measures_df.loc[measures_df['measure'] == f\"{measure}_practice\", [\"measure\", \"interval_start\", \"interval_end\", \"ratio\", \"numerator\", \"denominator\", \"practice\"]]\n",
    "    measure_subset_code = measures_df.loc[measures_df['measure'] == f\"{measure}_code\", [\"measure\", \"interval_start\", \"interval_end\", \"ratio\", \"numerator\", \"denominator\", f\"{measure}_code\"]]\n",
    "    \n",
    "\n",
    "    measure_subset_practice = drop_irrelevant_practices(measure_subset_practice)\n",
    "\n",
    "    measure_dfs[measure] = {\"practice\": measure_subset_practice, \"code\": measure_subset_code}\n",
    "\n",
    "\n",
    "\n",
    "    event_counts, event_count_with_count = create_child_table(measure_subset_code, codelist_dict[measure], 'code', 'term', measure)\n",
    "    child_tables[measure] = event_counts, event_count_with_count"
   ]
  },
  {
   "cell_type": "code",
   "execution_count": null,
   "metadata": {},
   "outputs": [],
   "source": [
    "def generate_sentinel_measure(\n",
    "        measure_df,\n",
    "        measure,\n",
    "        code_column,\n",
    "        codelist_links,\n",
    "    ):\n",
    "    \"\"\"Generates tables and charts for the measure with the given ID.\n",
    "\n",
    "    Args:\n",
    "        data_dict: A mapping of measure IDs to measure tables.\n",
    "        data_dict_practice: A mapping of measure IDs to \"practice only\" measure tables.\n",
    "        codelist_dict: A mapping of measure IDs to codelist tables.\n",
    "        measure: A measure ID.\n",
    "        code_column: The name of the code column in the codelist table.\n",
    "        term_column: The name of the term column in the codelist table.\n",
    "        dates_list: Not used.\n",
    "        interactive: Flag indicating whether or not the chart should be interactive.\n",
    "    \"\"\"\n",
    "\n",
    "    practices_included = get_number_practices(measure_df)\n",
    "    num_events, num_events_mil = get_number_events_mil(measure_df)\n",
    "    measure_df[\"rate_per_1000\"] = measure_df[\"ratio\"] * 1000\n",
    "    deciles_chart(\n",
    "        measure_df,\n",
    "        \"interval_start\",\n",
    "        \"rate_per_1000\",\n",
    "        interactive=False,\n",
    "        height=600,\n",
    "        width=1000,\n",
    "        output_path=f\"{OUTPUT_DIR}/deciles_chart_{measure}.png\",\n",
    "    )\n",
    "\n",
    "    childs_df, childs_df_with_count = child_tables[measure]\n",
    "\n",
    "  \n",
    "    display(\n",
    "        Markdown(f\"Practices included: {practices_included}\"),\n",
    "    )\n",
    "\n",
    "    childs_df = childs_df.rename(columns={code_column: code_column.title()})\n",
    "    childs_df.to_csv(f\"{OUTPUT_DIR}/code_table_{measure}.csv\")\n",
    "\n",
    "    childs_df_with_count = childs_df_with_count.rename(\n",
    "        columns={code_column: code_column.title()}\n",
    "    )\n",
    "    childs_df_with_count.to_csv(f\"{OUTPUT_DIR}/code_table_{measure}_with_count.csv\")\n",
    "\n",
    "    if len(codelist_links)>1:\n",
    "        display(\n",
    "            Markdown(f\"#### Most Common Codes <a href={codelist_links[0]}>(Codelist 1)</a>, <a href={codelist_links[1]}>(Codelist 2)</a>\"),\n",
    "            HTML(childs_df.to_html(index=False)),\n",
    "        )\n",
    "\n",
    "    else:\n",
    "        display(\n",
    "            Markdown(f\"#### Most Common Codes <a href={codelist_links[0]}>(Codelist)</a>\"),\n",
    "            HTML(childs_df.to_html(index=False)),\n",
    "        )\n",
    "\n",
    "    display(\n",
    "        Markdown(f\"Total events: {num_events_mil:.2f}M\"),\n",
    "    )\n",
    "\n",
    "    return"
   ]
  },
  {
   "attachments": {},
   "cell_type": "markdown",
   "metadata": {},
   "source": [
    "<a id=\"systolic_bp\"></a>\n",
    "## Blood Pressure Monitoring\n",
    "\n",
    "The codes used for this measure are available in <a href=\"https://www.opencodelists.org/codelist/opensafely/systolic-blood-pressure-qof/3572b5fb/\">this codelist</a>.\n",
    "\n",
    "<h3 class=\"details\">What is it and why does it matter?</h3>\n",
    "\n",
    "A commonly-used assessment used to identify patients with hypertension or to ensure optimal treatment for those with known hypertension.  This helps ensure appropriate treatment, with the aim of reducing long term risks of complications from hypertension such as stroke, myocardial infarction and kidney disease. \n",
    "\n",
    "<h3 class=\"details\">Caveats</h3>\n",
    "\n",
    "We use codes which represent results reported to GPs so tests requested but not yet reported are not included. Only test results returned to GPs are included, which will usually exclude tests requested while a person is in hospital and other settings like a private clinic. "
   ]
  },
  {
   "cell_type": "code",
   "execution_count": null,
   "metadata": {},
   "outputs": [],
   "source": [
    "generate_sentinel_measure(\n",
    "    measure_dfs['systolic_bp']['practice'],\n",
    "    'systolic_bp',\n",
    "    'code',\n",
    "    codelist_links=[\"https://www.opencodelists.org/codelist/opensafely/systolic-blood-pressure-qof/3572b5fb/\"]\n",
    ")"
   ]
  },
  {
   "attachments": {},
   "cell_type": "markdown",
   "metadata": {},
   "source": [
    "<a id=\"qrisk2\"></a>\n",
    "## Cardiovascular Disease 10 year Risk Assessment\n",
    "\n",
    "The codes used for this measure are available in <a href=\"https://www.opencodelists.org/codelist/opensafely/cvd-risk-assessment-score-qof/1adf44a5/\">this codelist</a>.\n",
    "\n",
    "<h3 class=\"details\">What is it and why does it matter? </h3>\n",
    "\n",
    "A commonly-used risk assessment used to identify patients with an increased risk of cardiovascular events in the next 10 years. This helps ensure appropriate treatment, with the aim of reducing long term risks of complications such as stroke or myocardial infarction. "
   ]
  },
  {
   "cell_type": "code",
   "execution_count": null,
   "metadata": {},
   "outputs": [],
   "source": [
    "generate_sentinel_measure(\n",
    "    measure_dfs['qrisk']['practice'],\n",
    "    'qrisk',\n",
    "    'code',\n",
    "    codelist_links=[\"https://www.opencodelists.org/codelist/opensafely/cvd-risk-assessment-score-qof/1adf44a5/\"]\n",
    ")"
   ]
  },
  {
   "attachments": {},
   "cell_type": "markdown",
   "metadata": {},
   "source": [
    "<a id=\"cholesterol\"></a>\n",
    "## Cholesterol Testing\n",
    "\n",
    "The codes used this measure are available in <a href=\"https://www.opencodelists.org/codelist/opensafely/cholesterol-tests/09896c09/\">Codelist</a>.\n",
    "\n",
    "<h3 class=\"details\">What is it and why does it matter?</h3>\n",
    "\n",
    "A commonly-used blood test used as part of a routine cardiovascular disease 10 year risk assessment and also to identify patients with lipid disorders (e.g. familial hypercholesterolaemia). This helps ensure appropriate treatment, with the aim of reducing long term risks of complications such as stroke or myocardial infarction.\n",
    "\n",
    "<h3 class=\"details\">Caveats</h3>\n",
    "\n",
    "We use codes which represent results reported to GPs so tests requested but not yet reported are not included. Only test results returned to GPs are included, which will usually exclude tests requested while a person is in hospital and other settings like a private clinic."
   ]
  },
  {
   "cell_type": "code",
   "execution_count": null,
   "metadata": {},
   "outputs": [],
   "source": [
    "generate_sentinel_measure(\n",
    "    measure_dfs['cholesterol']['practice'],\n",
    "    'cholesterol',\n",
    "    'code',\n",
    "    codelist_links=[\"https://www.opencodelists.org/codelist/opensafely/cholesterol-tests/09896c09/\"]\n",
    ")"
   ]
  },
  {
   "attachments": {},
   "cell_type": "markdown",
   "metadata": {},
   "source": [
    "<a id=\"ALT\"></a>\n",
    "## Liver Function Testing - Alanine Transferaminase (ALT)\n",
    "\n",
    "The codes used for this measure are available in <a href=\"https://www.opencodelists.org/codelist/opensafely/alanine-aminotransferase-alt-tests/2298df3e/\">this codelist</a>.\n",
    "\n",
    "<h3 class=\"details\">What is it and why does it matter?</h3>\n",
    "\n",
    "An ALT blood test is one of a group of liver function tests (LFTs) which are used to detect problems with the function of the liver.  It is often used to monitor patients on medications which may affect the liver or which rely on the liver to break them down within the body. They are also tested for patients with known or suspected liver dysfunction.  \n",
    "\n",
    "<h3 class=\"details\">Caveats</h3>\n",
    "\n",
    "**In a small number of places, an ALT test may NOT be included within a liver function test**. We use codes which represent results reported to GPs so tests requested but not yet reported are not included. Only test results returned to GPs are included, which will usually exclude tests requested while a person is in hospital and other settings like a private clinic."
   ]
  },
  {
   "cell_type": "code",
   "execution_count": null,
   "metadata": {},
   "outputs": [],
   "source": [
    "generate_sentinel_measure(\n",
    "    measure_dfs['alt']['practice'],\n",
    "    'alt',\n",
    "    'code',\n",
    "    codelist_links=[\"https://www.opencodelists.org/codelist/opensafely/alanine-aminotransferase-alt-tests/2298df3e/\"]\n",
    ")"
   ]
  },
  {
   "attachments": {},
   "cell_type": "markdown",
   "metadata": {},
   "source": [
    "<a id=\"serum_tsh\"></a>\n",
    "## Thyroid Testing\n",
    "\n",
    "The codes used for this measure are available in <a href=\"https://www.opencodelists.org/codelist/opensafely/thyroid-stimulating-hormone-tsh-testing/11a1abeb/\">this codelist</a>.\n",
    "\n",
    "<h3 class=\"details\">What is it and why does it matter?</h3>\n",
    "\n",
    "TSH is used for the diagnosis and monitoring of hypothyroidism and hyperthyroidism, including making changes to thyroid replacement therapy dosing.\n",
    "\n",
    "<h3 class=\"details\">Caveats</h3>\n",
    "\n",
    "We use codes which represent results reported to GPs so tests requested but not yet reported are not included. Only test results returned to GPs are included, which will usually exclude tests requested while a person is in hospital and other settings like a private clinic."
   ]
  },
  {
   "cell_type": "code",
   "execution_count": null,
   "metadata": {},
   "outputs": [],
   "source": [
    "generate_sentinel_measure(\n",
    "    measure_dfs['tsh']['practice'],\n",
    "    'tsh',\n",
    "    'code',\n",
    "    codelist_links=[\"https://www.opencodelists.org/codelist/opensafely/thyroid-stimulating-hormone-tsh-testing/11a1abeb/\"]\n",
    ")"
   ]
  },
  {
   "attachments": {},
   "cell_type": "markdown",
   "metadata": {},
   "source": [
    "<a id=\"rbc_fbc\"></a>\n",
    "## Full Blood Count - Red Blood Cell (RBC) Testing\n",
    "\n",
    "The codes used for this measure are available in <a href=\"https://www.opencodelists.org/codelist/opensafely/red-blood-cell-rbc-tests/576a859e/\">this codelist</a>.\n",
    "\n",
    "<h3 class=\"details\">What is it and why does it matter?</h3>\n",
    "\n",
    "RBC is completed as part of a group of tests referred to as a full blood count (FBC), used to detect a variety of disorders of the blood, such as anaemia and infection.\n",
    "\n",
    "<h3 class=\"details\">Caveats</h3>\n",
    "\n",
    "We use codes which represent results reported to GPs so tests requested but not yet reported are not included. Only test results returned to GPs are included, which will usually exclude tests requested while a person is in hospital and other settings like a private clinic."
   ]
  },
  {
   "cell_type": "code",
   "execution_count": null,
   "metadata": {},
   "outputs": [],
   "source": [
    "generate_sentinel_measure(\n",
    "    measure_dfs['rbc']['practice'],\n",
    "    'rbc',\n",
    "    'code',\n",
    "    codelist_links=[\"https://www.opencodelists.org/codelist/opensafely/red-blood-cell-rbc-tests/576a859e/\"]\n",
    ")"
   ]
  },
  {
   "attachments": {},
   "cell_type": "markdown",
   "metadata": {},
   "source": [
    "<a id=\"hba1c\"></a>\n",
    "## Glycated Haemoglobin A1c Level (HbA1c)\n",
    "\n",
    "The codes used for this measure are available in <a href=\"https://www.opencodelists.org/codelist/opensafely/glycated-haemoglobin-hba1c-tests/62358576/\">this codelist</a>.\n",
    "\n",
    "<h3 class=\"details\">What is it and why does it matter?</h3>\n",
    "\n",
    "HbA1c is a long term indicator of diabetes control. NICE guidelines recommend that individuals with diabetes have their HbA1c measured at least twice a year. Poor diabetic control can place individuals living with diabetes at an increased risk of the complications of diabetes.\n",
    "\n",
    "<h3 class=\"details\">Caveats</h3>\n",
    "\n",
    "We use codes which represent results reported to GPs so tests requested but not yet reported are not included. Only test results returned to GPs are included, which will usually exclude tests requested while a person is in hospital and other settings like a private clinic."
   ]
  },
  {
   "cell_type": "code",
   "execution_count": null,
   "metadata": {},
   "outputs": [],
   "source": [
    "generate_sentinel_measure(\n",
    "    measure_dfs['hba1c']['practice'],\n",
    "    'hba1c',\n",
    "    'code',\n",
    "    codelist_links=[\"https://www.opencodelists.org/codelist/opensafely/glycated-haemoglobin-hba1c-tests/62358576/\"]\n",
    ")"
   ]
  },
  {
   "attachments": {},
   "cell_type": "markdown",
   "metadata": {},
   "source": [
    "<a id=\"serum_sodium\"></a>\n",
    "## Renal Function Assessment - Sodium Testing\n",
    "\n",
    "The codes used for this measure are available in <a href=\"https://www.opencodelists.org/codelist/opensafely/sodium-tests-numerical-value/32bff605/\">this codelist</a>.\n",
    "\n",
    "<h3 class=\"details\">What is it and why does it matter?</h3>\n",
    "\n",
    "Sodium is completed as part of a group of tests referred to as a renal profile, used to detect a variety of disorders of the kidneys. A renal profile is also often used to monitor patients on medications which may affect the kidneys or which rely on the kidneys to remove them from the body.\n",
    "\n",
    "<h3 class=\"details\">Caveats</h3>\n",
    "\n",
    "We use codes which represent results reported to GPs so tests requested but not yet reported are not included. Only test results returned to GPs are included, which will usually exclude tests requested while a person is in hospital and other settings like a private clinic."
   ]
  },
  {
   "cell_type": "code",
   "execution_count": null,
   "metadata": {},
   "outputs": [],
   "source": [
    "generate_sentinel_measure(\n",
    "    measure_dfs['sodium']['practice'],\n",
    "    'sodium',\n",
    "    'code',\n",
    "    codelist_links=[\"https://www.opencodelists.org/codelist/opensafely/sodium-tests-numerical-value/32bff605/\"]\n",
    ")"
   ]
  },
  {
   "attachments": {},
   "cell_type": "markdown",
   "metadata": {},
   "source": [
    "<a id=\"asthma\"></a>\n",
    "## Asthma Reviews\n",
    "\n",
    "The codes used for this measure are available in <a href=\"https://www.opencodelists.org/codelist/opensafely/asthma-annual-review-qof/33eeb7da/\">this codelist</a>.\n",
    "\n",
    "<h3 class=\"details\">What is it and why does it matter?</h3>\n",
    "\n",
    "The British Thoracic Society and Scottish Intercollegiate Guidelines Network on the management of asthma recommend that people with asthma receive a review of their condition at least annually. If a patient has not been reviewed, it is possible that their asthma control may have worsened, leading to a greater chance of symptoms and admission to hospital."
   ]
  },
  {
   "cell_type": "code",
   "execution_count": null,
   "metadata": {},
   "outputs": [],
   "source": [
    "generate_sentinel_measure(\n",
    "    measure_dfs['asthma']['practice'],\n",
    "    'asthma',\n",
    "    'code',\n",
    "    codelist_links=[\"https://www.opencodelists.org/codelist/opensafely/asthma-annual-review-qof/33eeb7da/\"]\n",
    ")"
   ]
  },
  {
   "attachments": {},
   "cell_type": "markdown",
   "metadata": {},
   "source": [
    "<a id=\"copd\"></a>\n",
    "## Chronic Obstructive Pulmonary Disease (COPD) Reviews\n",
    "\n",
    "The codes used for this measure are available in <a href=\"https://www.opencodelists.org/codelist/opensafely/chronic-obstructive-pulmonary-disease-copd-review-qof/01cfd170/\">this codelist</a>.  \n",
    "\n",
    "<h3 class=\"details\">What is it and why does it matter?</h3>\n",
    "\n",
    "It is recommended by NICE that all individuals living with COPD have an annual review with the exception of individuals living with very severe (stage 4) COPD being reviewed at least twice a year.\n",
    "If a patient has not been reviewed, it is possible that their COPD control may have worsened, leading to a greater chance of symptoms and admission to hospital."
   ]
  },
  {
   "cell_type": "code",
   "execution_count": null,
   "metadata": {},
   "outputs": [],
   "source": [
    "generate_sentinel_measure(\n",
    "    measure_dfs['copd']['practice'],\n",
    "    'copd',\n",
    "    'code',\n",
    "    codelist_links=[\"https://www.opencodelists.org/codelist/opensafely/chronic-obstructive-pulmonary-disease-copd-review-qof/01cfd170/\"]\n",
    ")"
   ]
  },
  {
   "attachments": {},
   "cell_type": "markdown",
   "metadata": {},
   "source": [
    "<a id=\"med_review\"></a>\n",
    "## Medication Reviews\n",
    "\n",
    "The codes used for this measure are a combination of codes available in <a href=\"https://www.opencodelists.org/codelist/opensafely/care-planning-medication-review-simple-reference-set-nhs-digital/61b13c39/\"> this NHS Digital care planning medication review refset (Note refset now inactive, but codes within refset are frequently used and so continue to be included within this report)</a> and <a href=\"https://www.opencodelists.org/codelist/nhsd-primary-care-domain-refsets/medrvw_cod/20200812/\">this primary care domain medication review refset</a>.\n",
    " \n",
    "<h3 class=\"details\">What is it and why does it matter?</h3>\n",
    "\n",
    "Many medicines are used long-term and they should be reviewed regularly to ensure they are still safe, effective and appropriate.\n",
    "Medication review is a broad term ranging from a notes-led review without a patient, to an in-depth Structured Medication Review with multiple appointments and follow-up. The codelist provided captures all types of reviews to give an overview of medication reviews in primary care."
   ]
  },
  {
   "cell_type": "code",
   "execution_count": null,
   "metadata": {},
   "outputs": [],
   "source": [
    "generate_sentinel_measure(\n",
    "    measure_dfs['medication_review']['practice'],\n",
    "    'medication_review',\n",
    "    'code',\n",
    "    codelist_links=[\"https://www.opencodelists.org/codelist/opensafely/care-planning-medication-review-simple-reference-set-nhs-digital/61b13c39/\"]\n",
    ")"
   ]
  }
 ],
 "metadata": {
  "kernelspec": {
   "display_name": "Python 3",
   "language": "python",
   "name": "python3"
  },
  "language_info": {
   "codemirror_mode": {
    "name": "ipython",
    "version": 3
   },
   "file_extension": ".py",
   "mimetype": "text/x-python",
   "name": "python",
   "nbconvert_exporter": "python",
   "pygments_lexer": "ipython3",
   "version": "3.9.6"
  },
  "orig_nbformat": 4
 },
 "nbformat": 4,
 "nbformat_minor": 2
}
