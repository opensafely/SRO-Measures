{
 "cells": [],
 "metadata": {
  "jupytext": {
   "cell_metadata_filter": "all",
   "notebook_metadata_filter": "all,-language_info"
  }
 },
 "nbformat": 4,
 "nbformat_minor": 4
}
