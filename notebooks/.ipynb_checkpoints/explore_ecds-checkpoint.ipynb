{
 "cells": [
  {
   "cell_type": "code",
   "execution_count": 1,
   "metadata": {},
   "outputs": [],
   "source": [
    "import pyodbc\n",
    "import pandas as pd\n",
    "from IPython.display import display, Markdown\n",
    "import numpy as np\n",
    "from datetime import date\n",
    "from datetime import datetime\n",
    "import os"
   ]
  },
  {
   "cell_type": "code",
   "execution_count": 2,
   "metadata": {},
   "outputs": [],
   "source": [
    "server = 'covid.ebmdatalab.net,1433'\n",
    "database = 'OPENCoronaExport' \n",
    "username = 'SA'\n",
    "password = 'ahsjdkaJAMSHDA123[' \n",
    "cnxn = pyodbc.connect('DRIVER={ODBC Driver 17 for SQL Server};SERVER='+server+';DATABASE='+database+';UID='+username+';PWD='+ password)\n",
    "cursor = cnxn.cursor()"
   ]
  },
  {
   "cell_type": "markdown",
   "metadata": {},
   "source": [
    "### Inspect columns"
   ]
  },
  {
   "cell_type": "code",
   "execution_count": 3,
   "metadata": {},
   "outputs": [
    {
     "data": {
      "text/plain": [
       "0                                             Patient_ID\n",
       "1                                               EC_Ident\n",
       "2                                       EC_PCD_Indicator\n",
       "3                                               CDS_Type\n",
       "4                                    CDS_Group_Indicator\n",
       "5                                     Finished_Indicator\n",
       "6                                      CDS_Activity_Date\n",
       "7                        CDS_Interchange_Sender_Identity\n",
       "8                           CDS_Prime_Recipient_Identity\n",
       "9                                          Provider_Code\n",
       "10                                     Commissioner_Code\n",
       "11                                        SNOMED_Version\n",
       "12                                     RTT_Period_Status\n",
       "13                            Wait_Time_Measurement_Type\n",
       "14                                 RTT_Period_Start_Date\n",
       "15                                   RTT_Period_End_Date\n",
       "16                                     RTT_Period_Length\n",
       "17                      NHS_Number_Status_Indicator_Code\n",
       "18                                   NHS_Number_Is_Valid\n",
       "19                              Withheld_Identity_Reason\n",
       "20                                        Month_of_Birth\n",
       "21                                         Year_of_Birth\n",
       "22                                          Patient_Type\n",
       "23                              Age_at_CDS_Activity_Date\n",
       "24                                        Age_At_Arrival\n",
       "25                             Fractional_Age_At_Arrival\n",
       "26                                    HES_Age_At_Arrival\n",
       "27                                  HES_Age_At_Departure\n",
       "28                  Index_Of_Multiple_Deprivation_Decile\n",
       "29      Index_Of_Multiple_Deprivation_Decile_Description\n",
       "30                                 Rural_Urban_Indicator\n",
       "31                                       Cancer_Registry\n",
       "32                                                   Sex\n",
       "33                                       Ethnic_Category\n",
       "34                        Accommodation_Status_SNOMED_CT\n",
       "35                    Accommodation_Status_Code_Approved\n",
       "36                   Preferred_Spoken_Language_SNOMED_CT\n",
       "37               Preferred_Spoken_Language_Code_Approved\n",
       "38     Accessible_Information_Professional_Required_S...\n",
       "39     Accessible_Information_Professional_Required_C...\n",
       "40                        Interpreter_Language_SNOMED_CT\n",
       "41                    Interpreter_Language_Code_Approved\n",
       "42                    Overseas_Visitor_Charging_Category\n",
       "43                                Site_Code_of_Treatment\n",
       "44                                    EC_Department_Type\n",
       "45                                          Arrival_Date\n",
       "46                                          Arrival_Time\n",
       "47                                         Arrival_Month\n",
       "48                             EC_Arrival_Mode_SNOMED_CT\n",
       "49                                 Arrival_Mode_Approved\n",
       "50                                 EC_AttendanceCategory\n",
       "51                                       Arrival_Planned\n",
       "52                        EC_Attendance_Source_SNOMED_CT\n",
       "53                        Attendance_Source_Organisation\n",
       "54                            EC_Initial_Assessment_Date\n",
       "55                            EC_Initial_Assessment_Time\n",
       "56              EC_Initial_Assessment_Time_Since_Arrival\n",
       "57                            EC_Seen_For_Treatment_Date\n",
       "58                            EC_Seen_For_Treatment_Time\n",
       "59              EC_Seen_For_Treatment_Time_Since_Arrival\n",
       "60                                    EC_Conclusion_Date\n",
       "61                                    EC_Conclusion_Time\n",
       "62                      EC_Conclusion_Time_Since_Arrival\n",
       "63                                     EC_Departure_Date\n",
       "64                                     EC_Departure_Time\n",
       "65                       EC_Departure_Time_Since_Arrival\n",
       "66                             EC_Decision_To_Admit_Date\n",
       "67                             EC_Decision_To_Admit_Time\n",
       "68               EC_Decision_To_Admit_Time_Since_Arrival\n",
       "69             Decision_To_Admit_Treatment_Function_Code\n",
       "70                      Decision_To_Admit_Receiving_Site\n",
       "71                         EC_Discharge_Status_SNOMED_CT\n",
       "72                          EC_Discharge_Status_Approved\n",
       "73                       Discharge_Destination_SNOMED_CT\n",
       "74                          DischargeDestinationApproved\n",
       "75                         Discharge_Follow_Up_SNOMED_CT\n",
       "76                          Discharge_Follow_Up_Approved\n",
       "77                 Discharge_Information_Given_SNOMED_CT\n",
       "78                  Discharge_Information_Given_Approved\n",
       "79                          EC_Chief_Complaint_SNOMED_CT\n",
       "80                                   EC_Acuity_SNOMED_CT\n",
       "81                                        EC_Injury_Date\n",
       "82                                        EC_Injury_Time\n",
       "83                   EC_Injury_Activity_Status_SNOMED_CT\n",
       "84                     EC_Injury_Activity_Type_SNOMED_CT\n",
       "85                            EC_Injury_Intent_SNOMED_CT\n",
       "86                         EC_Injury_Mechanism_SNOMED_CT\n",
       "87                          EC_Place_Of_Injury_SNOMED_CT\n",
       "88                           EC_Place_Of_Injury_Latitude\n",
       "89                          EC_Place_Of_Injury_Longitude\n",
       "90                                   Clinical_Trial_Code\n",
       "91                         Clinical_Disease_Notification\n",
       "92                                   SUS_Grouper_Version\n",
       "93                             SUS_Code_Cleaning_Applied\n",
       "94                                          SUS_HRG_Code\n",
       "95                                    SUS_Costing_Period\n",
       "96                                          SUS_Excluded\n",
       "97                                            SUS_Tariff\n",
       "98                                SUS_Tariff_Description\n",
       "99                                               SUS_MFF\n",
       "100                                     SUS_MFAdjustment\n",
       "101                                      SUS_Final_Price\n",
       "102                                            Age_Range\n",
       "103               Clinical_Chief_Complaint_Code_Approved\n",
       "104              Clinical_Chief_Complaint_Injury_Related\n",
       "105               Clinical_Chief_Complaint_Extended_Code\n",
       "106                        Clinical_Acuity_Code_Approved\n",
       "107        Clinical_Injury_Activity_Status_Code_Approved\n",
       "108          Clinical_Injury_Activity_Type_Code_Approved\n",
       "109                 Clinical_Injury_Intent_Code_Approved\n",
       "110                  Clinical_Injury_Place_Type_Approved\n",
       "111                          DQ_Chief_Complaint_Expected\n",
       "112                         DQ_Chief_Complaint_Completed\n",
       "113                             DQ_Chief_Complaint_Valid\n",
       "114                        DQ_Primary_Diagnosis_Expected\n",
       "115                       DQ_Primary_Diagnosis_Completed\n",
       "116                           DQ_Primary_Diagnosis_Valid\n",
       "117                                           Exclusions\n",
       "118                                    Reason_For_Access\n",
       "119                                    Der_Provider_Code\n",
       "120                               Der_Provider_Site_Code\n",
       "121                                Der_Commissioner_Code\n",
       "122                         Der_Age_At_CDS_Activity_Date\n",
       "123                                   Der_Activity_Month\n",
       "124                                   Der_Financial_Year\n",
       "125                             Der_Number_AEA_Diagnosis\n",
       "126                              Der_Number_EC_Diagnosis\n",
       "127                         Der_Number_AEA_Investigation\n",
       "128                          Der_Number_EC_Investigation\n",
       "129                             Der_Number_AEA_Treatment\n",
       "130                              Der_Number_EC_Treatment\n",
       "131                                Der_AEA_Diagnosis_All\n",
       "132                                 Der_EC_Diagnosis_All\n",
       "133                            Der_AEA_Investigation_All\n",
       "134                             Der_EC_Investigation_All\n",
       "135                                Der_AEA_Treatment_All\n",
       "136                                 Der_EC_Treatment_All\n",
       "137                             Der_EC_Arrival_Date_Time\n",
       "138                           Der_EC_Departure_Date_Time\n",
       "139                                      Der_EC_Duration\n",
       "140                                        Der_Dupe_Flag\n",
       "141                                      Der_Record_Type\n",
       "142                                Der_AEA_Patient_Group\n",
       "dtype: object"
      ]
     },
     "execution_count": 3,
     "metadata": {},
     "output_type": "execute_result"
    }
   ],
   "source": [
    "# increase column display limit so that we can see all rows in summary data\n",
    "sql = '''-- main ecds table\n",
    "select TOP 1 *\n",
    "from ECDS\n",
    "'''\n",
    "\n",
    "ecds = pd.read_sql(sql, cnxn)\n",
    "pd.set_option('display.max_rows', 200)\n",
    "\n",
    "pd.Series(ecds.columns)"
   ]
  },
  {
   "cell_type": "markdown",
   "metadata": {},
   "source": [
    "### Main ECDS table"
   ]
  },
  {
   "cell_type": "code",
   "execution_count": 4,
   "metadata": {},
   "outputs": [
    {
     "data": {
      "text/markdown": [
       "**ECDS Summary**"
      ],
      "text/plain": [
       "<IPython.core.display.Markdown object>"
      ]
     },
     "metadata": {},
     "output_type": "display_data"
    },
    {
     "name": "stdout",
     "output_type": "stream",
     "text": [
      "No of patients:  1\n",
      "No of patients admitted:  0\n",
      "Latest date:  2018-09-23 00:00:00\n"
     ]
    }
   ],
   "source": [
    "sql = '''-- main ecds table\n",
    "select Patient_ID, \n",
    "EC_Conclusion_Date,\n",
    "EC_Decision_To_Admit_Date as EC_admit_date\n",
    "from ECDS e\n",
    "'''\n",
    "\n",
    "ecds = pd.read_sql(sql, cnxn)\n",
    "ecds[\"ecds_flag\"] = 1\n",
    "ecds[\"admit_flag\"] = np.where(pd.notnull(ecds[\"EC_admit_date\"]), 1, 0)\n",
    "ecds[\"EC_Conclusion_Date\"] = pd.to_datetime(ecds[\"EC_Conclusion_Date\"])\n",
    "ecds[\"EC_admit_date\"] = pd.to_datetime(ecds[\"EC_admit_date\"])\n",
    "\n",
    "# make a copy of table grouped by patient\n",
    "ecds2 = ecds.copy().groupby(\"Patient_ID\").max().reset_index()\n",
    "ecds2 = ecds2.rename(columns={\"EC_Conclusion_Date\":\"EC_Conclusion_Date_latest\",\"EC_admit_date\":\"EC_admit_date_latest\"})\n",
    "\n",
    "display(Markdown(f\"**ECDS Summary**\"))\n",
    "print(\"No of patients: \", ecds2[\"Patient_ID\"].nunique())\n",
    "print(\"No of patients admitted: \", ecds2[\"admit_flag\"].sum())\n",
    "print(\"Latest date: \", ecds2[\"EC_Conclusion_Date_latest\"].max())"
   ]
  },
  {
   "cell_type": "markdown",
   "metadata": {},
   "source": [
    "# Add linkable data if using dummy data"
   ]
  },
  {
   "cell_type": "code",
   "execution_count": 5,
   "metadata": {},
   "outputs": [
    {
     "data": {
      "text/html": [
       "<div>\n",
       "<style scoped>\n",
       "    .dataframe tbody tr th:only-of-type {\n",
       "        vertical-align: middle;\n",
       "    }\n",
       "\n",
       "    .dataframe tbody tr th {\n",
       "        vertical-align: top;\n",
       "    }\n",
       "\n",
       "    .dataframe thead th {\n",
       "        text-align: right;\n",
       "    }\n",
       "</style>\n",
       "<table border=\"1\" class=\"dataframe\">\n",
       "  <thead>\n",
       "    <tr style=\"text-align: right;\">\n",
       "      <th></th>\n",
       "      <th>Patient_ID</th>\n",
       "      <th>EC_Conclusion_Date</th>\n",
       "      <th>EC_admit_date</th>\n",
       "      <th>ecds_flag</th>\n",
       "      <th>admit_flag</th>\n",
       "    </tr>\n",
       "  </thead>\n",
       "  <tbody>\n",
       "    <tr>\n",
       "      <th>0</th>\n",
       "      <td>1314620</td>\n",
       "      <td>2018-09-23</td>\n",
       "      <td>NaT</td>\n",
       "      <td>1</td>\n",
       "      <td>0</td>\n",
       "    </tr>\n",
       "    <tr>\n",
       "      <th>0</th>\n",
       "      <td>10007</td>\n",
       "      <td>2020-03-25</td>\n",
       "      <td>2020-03-25</td>\n",
       "      <td>1</td>\n",
       "      <td>1</td>\n",
       "    </tr>\n",
       "  </tbody>\n",
       "</table>\n",
       "</div>"
      ],
      "text/plain": [
       "   Patient_ID EC_Conclusion_Date EC_admit_date  ecds_flag  admit_flag\n",
       "0     1314620         2018-09-23           NaT          1           0\n",
       "0       10007         2020-03-25    2020-03-25          1           1"
      ]
     },
     "execution_count": 5,
     "metadata": {},
     "output_type": "execute_result"
    }
   ],
   "source": [
    "dummy = pd.DataFrame([[10007,'2020-03-25','2020-03-25',1,1]], columns=['Patient_ID', 'EC_Conclusion_Date','EC_admit_date','admit_flag','ecds_flag'])\n",
    "\n",
    "if password == 'ahsjdkaJAMSHDA123[':\n",
    "    ecds = ecds.append(dummy)\n",
    "    ecds[\"EC_Conclusion_Date\"] = pd.to_datetime(ecds[\"EC_Conclusion_Date\"])\n",
    "    ecds[\"EC_admit_date\"] = pd.to_datetime(ecds[\"EC_admit_date\"])\n",
    "\n",
    "ecds.head()"
   ]
  },
  {
   "cell_type": "markdown",
   "metadata": {},
   "source": [
    "### ECDS diagnosis"
   ]
  },
  {
   "cell_type": "code",
   "execution_count": 6,
   "metadata": {},
   "outputs": [
    {
     "data": {
      "text/markdown": [
       "**ECDS Diagnosis Summary**"
      ],
      "text/plain": [
       "<IPython.core.display.Markdown object>"
      ]
     },
     "metadata": {},
     "output_type": "display_data"
    },
    {
     "name": "stdout",
     "output_type": "stream",
     "text": [
      "No of patients:  1\n"
     ]
    }
   ],
   "source": [
    "sql = '''-- ecds diagnoses:\n",
    "select Patient_ID,\n",
    "DiagnosisCode,\n",
    "CASE WHEN LEFT(DiagnosisCode,15) = '124075100000010' THEN 1 ELSE 0 END AS diagnosis_flag,\n",
    "count(*) as diagnosis_code_count\n",
    "from ECDS_EC_Diagnoses\n",
    "GROUP BY patient_ID, DiagnosisCode\n",
    "'''\n",
    "\n",
    "d = pd.read_sql(sql, cnxn)\n",
    "d[\"diagnosis_flag\"] = 1\n",
    "\n",
    "display(Markdown(f\"**ECDS Diagnosis Summary**\"))\n",
    "print(\"No of patients: \", d[\"Patient_ID\"].nunique())\n"
   ]
  },
  {
   "cell_type": "markdown",
   "metadata": {},
   "source": [
    "# Link to other datasets"
   ]
  },
  {
   "cell_type": "markdown",
   "metadata": {},
   "source": [
    "### Positive in SGSS"
   ]
  },
  {
   "cell_type": "code",
   "execution_count": 7,
   "metadata": {},
   "outputs": [
    {
     "data": {
      "text/markdown": [
       "**SGSS Positive Summary**"
      ],
      "text/plain": [
       "<IPython.core.display.Markdown object>"
      ]
     },
     "metadata": {},
     "output_type": "display_data"
    },
    {
     "name": "stdout",
     "output_type": "stream",
     "text": [
      "No of patients:  7\n",
      "Latest lab result date:  2020-04-23 00:00:00\n"
     ]
    }
   ],
   "source": [
    "sql = '''-- SGSS positives:\n",
    "select Patient_ID, max(Lab_Report_Date) as pos_Lab_Report_Date_latest, count(*) AS positives\n",
    "from SGSS_Positive\n",
    "group by Patient_ID\n",
    "'''\n",
    "p = pd.read_sql(sql, cnxn)\n",
    "p[\"positive_flag\"] = 1\n",
    "p[\"pos_Lab_Report_Date_latest\"] = pd.to_datetime(p[\"pos_Lab_Report_Date_latest\"])\n",
    "\n",
    "display(Markdown(f\"**SGSS Positive Summary**\"))\n",
    "print(\"No of patients: \", p[\"Patient_ID\"].nunique())\n",
    "print(\"Latest lab result date: \", p[\"pos_Lab_Report_Date_latest\"].max())"
   ]
  },
  {
   "cell_type": "markdown",
   "metadata": {},
   "source": [
    "### Negative in SGSS"
   ]
  },
  {
   "cell_type": "code",
   "execution_count": 8,
   "metadata": {},
   "outputs": [
    {
     "data": {
      "text/markdown": [
       "**SGSS Negative Summary**"
      ],
      "text/plain": [
       "<IPython.core.display.Markdown object>"
      ]
     },
     "metadata": {},
     "output_type": "display_data"
    },
    {
     "name": "stdout",
     "output_type": "stream",
     "text": [
      "No of patients:  7\n",
      "Latest lab result date:  2020-04-23 00:00:00\n"
     ]
    }
   ],
   "source": [
    "sql = '''\n",
    "-- SGSS negatives:\n",
    "select Patient_ID, max(Lab_Report_Date) as neg_Lab_Report_Date_latest, count(*) AS negatives\n",
    "from SGSS_Negative\n",
    "group by Patient_ID\n",
    "'''\n",
    "\n",
    "n = pd.read_sql(sql, cnxn)\n",
    "n[\"negative_flag\"] = 1\n",
    "n[\"neg_Lab_Report_Date_latest\"] = pd.to_datetime(n[\"neg_Lab_Report_Date_latest\"])\n",
    "\n",
    "display(Markdown(f\"**SGSS Negative Summary**\"))\n",
    "print(\"No of patients: \", n[\"Patient_ID\"].nunique())\n",
    "print(\"Latest lab result date: \", n[\"neg_Lab_Report_Date_latest\"].max())"
   ]
  },
  {
   "cell_type": "markdown",
   "metadata": {},
   "source": [
    "## ICU"
   ]
  },
  {
   "cell_type": "code",
   "execution_count": 9,
   "metadata": {},
   "outputs": [
    {
     "data": {
      "text/markdown": [
       "**ICNARC (ICU) Summary**"
      ],
      "text/plain": [
       "<IPython.core.display.Markdown object>"
      ]
     },
     "metadata": {},
     "output_type": "display_data"
    },
    {
     "name": "stdout",
     "output_type": "stream",
     "text": [
      "No of patients:  6\n",
      "Latest date:  2020-03-03 14:30:00\n"
     ]
    }
   ],
   "source": [
    "sql = '''-- icnarc ICU admissions\n",
    "select Patient_ID, \n",
    "max(IcuAdmissionDateTime) as IcuAdmissionDateTime_latest\n",
    "from ICNARC\n",
    "group by Patient_ID\n",
    "'''\n",
    "\n",
    "icu = pd.read_sql(sql, cnxn)\n",
    "icu[\"icu_flag\"] = 1\n",
    "icu[\"IcuAdmissionDateTime_latest\"] = pd.to_datetime(icu[\"IcuAdmissionDateTime_latest\"])\n",
    "\n",
    "display(Markdown(f\"**ICNARC (ICU) Summary**\"))\n",
    "print(\"No of patients: \", icu[\"Patient_ID\"].nunique())\n",
    "print(\"Latest date: \", icu[\"IcuAdmissionDateTime_latest\"].max())"
   ]
  },
  {
   "cell_type": "markdown",
   "metadata": {},
   "source": [
    "# Compare latest dates found in each dataset"
   ]
  },
  {
   "cell_type": "code",
   "execution_count": 10,
   "metadata": {},
   "outputs": [
    {
     "name": "stdout",
     "output_type": "stream",
     "text": [
      "ECDS max date:  2018-09-23 00:00:00 ,   598  days ago\n",
      "SGSS max date:  2020-04-23 00:00:00 ,   20  days ago\n",
      "ICU max admit date:  2020-03-03 14:30:00 ,   71  days ago\n"
     ]
    }
   ],
   "source": [
    "def days_ago(DT=datetime(2020,3,3)):\n",
    "    return (date.today()-datetime.date(DT)).days\n",
    "\n",
    "print (\"ECDS max date: \", ecds2[\"EC_Conclusion_Date_latest\"].max(), \",  \", days_ago(ecds2[\"EC_Conclusion_Date_latest\"].max()), \" days ago\")\n",
    "print (\"SGSS max date: \", p[\"pos_Lab_Report_Date_latest\"].max(), \",  \", days_ago(p[\"pos_Lab_Report_Date_latest\"].max()), \" days ago\")\n",
    "print (\"ICU max admit date: \", icu[\"IcuAdmissionDateTime_latest\"].max(), \",  \", days_ago(icu[\"IcuAdmissionDateTime_latest\"].max()), \" days ago\")"
   ]
  },
  {
   "cell_type": "markdown",
   "metadata": {},
   "source": [
    "# What are common diagnoses?"
   ]
  },
  {
   "cell_type": "markdown",
   "metadata": {},
   "source": [
    "**Basic frequency of diagnosis codes (note not restricted on date of attendance)**"
   ]
  },
  {
   "cell_type": "code",
   "execution_count": 11,
   "metadata": {},
   "outputs": [
    {
     "data": {
      "text/html": [
       "<div>\n",
       "<style scoped>\n",
       "    .dataframe tbody tr th:only-of-type {\n",
       "        vertical-align: middle;\n",
       "    }\n",
       "\n",
       "    .dataframe tbody tr th {\n",
       "        vertical-align: top;\n",
       "    }\n",
       "\n",
       "    .dataframe thead th {\n",
       "        text-align: right;\n",
       "    }\n",
       "</style>\n",
       "<table border=\"1\" class=\"dataframe\">\n",
       "  <thead>\n",
       "    <tr style=\"text-align: right;\">\n",
       "      <th></th>\n",
       "      <th>diagnosis_code_count</th>\n",
       "    </tr>\n",
       "    <tr>\n",
       "      <th>DiagnosisCode</th>\n",
       "      <th></th>\n",
       "    </tr>\n",
       "  </thead>\n",
       "  <tbody>\n",
       "    <tr>\n",
       "      <th>197480006</th>\n",
       "      <td>1-5</td>\n",
       "    </tr>\n",
       "    <tr>\n",
       "      <th>197480007</th>\n",
       "      <td>1-5</td>\n",
       "    </tr>\n",
       "    <tr>\n",
       "      <th>197480008</th>\n",
       "      <td>1-5</td>\n",
       "    </tr>\n",
       "  </tbody>\n",
       "</table>\n",
       "</div>"
      ],
      "text/plain": [
       "              diagnosis_code_count\n",
       "DiagnosisCode                     \n",
       "197480006                      1-5\n",
       "197480007                      1-5\n",
       "197480008                      1-5"
      ]
     },
     "execution_count": 11,
     "metadata": {},
     "output_type": "execute_result"
    }
   ],
   "source": [
    "d2 = d.groupby(\"DiagnosisCode\")[[\"diagnosis_code_count\"]].sum()\n",
    "\n",
    "# suppress low values\n",
    "d2.loc[d2[\"diagnosis_code_count\"]<=5, \"diagnosis_code_count\"] = \"1-5\"\n",
    "# show top 20 diagnoses\n",
    "d2.sort_values(by=\"diagnosis_code_count\", ascending=False).head(20)"
   ]
  },
  {
   "cell_type": "markdown",
   "metadata": {},
   "source": [
    "## Patients with positive test results near time of attendance"
   ]
  },
  {
   "cell_type": "code",
   "execution_count": 12,
   "metadata": {},
   "outputs": [
    {
     "data": {
      "text/html": [
       "<div>\n",
       "<style scoped>\n",
       "    .dataframe tbody tr th:only-of-type {\n",
       "        vertical-align: middle;\n",
       "    }\n",
       "\n",
       "    .dataframe tbody tr th {\n",
       "        vertical-align: top;\n",
       "    }\n",
       "\n",
       "    .dataframe thead th {\n",
       "        text-align: right;\n",
       "    }\n",
       "</style>\n",
       "<table border=\"1\" class=\"dataframe\">\n",
       "  <thead>\n",
       "    <tr style=\"text-align: right;\">\n",
       "      <th></th>\n",
       "      <th>ecds_flag</th>\n",
       "      <th>admit_flag</th>\n",
       "    </tr>\n",
       "    <tr>\n",
       "      <th>week</th>\n",
       "      <th></th>\n",
       "      <th></th>\n",
       "    </tr>\n",
       "  </thead>\n",
       "  <tbody>\n",
       "    <tr>\n",
       "      <th>13</th>\n",
       "      <td>1-5</td>\n",
       "      <td>1-5</td>\n",
       "    </tr>\n",
       "  </tbody>\n",
       "</table>\n",
       "</div>"
      ],
      "text/plain": [
       "     ecds_flag admit_flag\n",
       "week                     \n",
       "13         1-5        1-5"
      ]
     },
     "execution_count": 12,
     "metadata": {},
     "output_type": "execute_result"
    }
   ],
   "source": [
    "ep = ecds.merge(p, on=\"Patient_ID\", how=\"inner\")\n",
    "\n",
    "# restrict to matched testing/A&E dates\n",
    "# attending A&E within 30d of positive test / positive test within 7 days of attending A&E\n",
    "ep = ep.loc[(ep[\"EC_Conclusion_Date\"] - ep[\"pos_Lab_Report_Date_latest\"] < \"30 days\") & (ep[\"pos_Lab_Report_Date_latest\"] - ep[\"EC_Conclusion_Date\"] < \"7 days\")]\n",
    "\n",
    "# remove remaining duplicates (people with multiple positive tests and/or attendances within the limits above)\n",
    "ep = ep.groupby(\"Patient_ID\").max().reset_index().drop(\"positives\", axis=1)\n",
    "\n",
    "# summarise data by week\n",
    "ep = ep.loc[ep[\"EC_Conclusion_Date\"].dt.year == 2020]\n",
    "ep[\"week\"] = ep[\"EC_Conclusion_Date\"].dt.week\n",
    "ep2 = ep.groupby(\"week\")[[\"ecds_flag\",\"admit_flag\"]].sum()\n",
    "\n",
    "# suppress low values\n",
    "ep2.loc[ep2[\"ecds_flag\"]<=5, \"ecds_flag\"] = \"1-5\"\n",
    "ep2.loc[ep2[\"admit_flag\"]<=5, \"admit_flag\"] = \"1-5\"\n",
    "ep2"
   ]
  },
  {
   "cell_type": "markdown",
   "metadata": {},
   "source": [
    "# What diagnoses are recorded in A&E for patients testing positive?"
   ]
  },
  {
   "cell_type": "code",
   "execution_count": 13,
   "metadata": {},
   "outputs": [
    {
     "data": {
      "text/html": [
       "<div>\n",
       "<style scoped>\n",
       "    .dataframe tbody tr th:only-of-type {\n",
       "        vertical-align: middle;\n",
       "    }\n",
       "\n",
       "    .dataframe tbody tr th {\n",
       "        vertical-align: top;\n",
       "    }\n",
       "\n",
       "    .dataframe thead th {\n",
       "        text-align: right;\n",
       "    }\n",
       "</style>\n",
       "<table border=\"1\" class=\"dataframe\">\n",
       "  <thead>\n",
       "    <tr style=\"text-align: right;\">\n",
       "      <th></th>\n",
       "      <th>diagnosis_code_count</th>\n",
       "    </tr>\n",
       "    <tr>\n",
       "      <th>DiagnosisCode</th>\n",
       "      <th></th>\n",
       "    </tr>\n",
       "  </thead>\n",
       "  <tbody>\n",
       "  </tbody>\n",
       "</table>\n",
       "</div>"
      ],
      "text/plain": [
       "Empty DataFrame\n",
       "Columns: [diagnosis_code_count]\n",
       "Index: []"
      ]
     },
     "execution_count": 13,
     "metadata": {},
     "output_type": "execute_result"
    }
   ],
   "source": [
    "epd = ep.merge(d, on=\"Patient_ID\", how=\"left\")\n",
    "\n",
    "epd2 = epd.groupby(\"DiagnosisCode\")[[\"diagnosis_code_count\"]].sum()\n",
    "\n",
    "# suppress low values\n",
    "epd2.loc[epd2[\"diagnosis_code_count\"]<=5, \"diagnosis_code_count\"] = \"1-5\"\n",
    "\n",
    "# show top 20 diagnoses\n",
    "epd2.sort_values(by=\"diagnosis_code_count\", ascending=False).head(20)"
   ]
  },
  {
   "cell_type": "markdown",
   "metadata": {},
   "source": [
    "# What ethnicities and ages are found in A&E?"
   ]
  },
  {
   "cell_type": "code",
   "execution_count": 14,
   "metadata": {},
   "outputs": [
    {
     "data": {
      "text/markdown": [
       "**Population Age Group Summary**"
      ],
      "text/plain": [
       "<IPython.core.display.Markdown object>"
      ]
     },
     "metadata": {},
     "output_type": "display_data"
    },
    {
     "data": {
      "text/html": [
       "<div>\n",
       "<style scoped>\n",
       "    .dataframe tbody tr th:only-of-type {\n",
       "        vertical-align: middle;\n",
       "    }\n",
       "\n",
       "    .dataframe tbody tr th {\n",
       "        vertical-align: top;\n",
       "    }\n",
       "\n",
       "    .dataframe thead th {\n",
       "        text-align: right;\n",
       "    }\n",
       "</style>\n",
       "<table border=\"1\" class=\"dataframe\">\n",
       "  <thead>\n",
       "    <tr style=\"text-align: right;\">\n",
       "      <th></th>\n",
       "      <th>Patient_ID</th>\n",
       "    </tr>\n",
       "    <tr>\n",
       "      <th>ethnicity</th>\n",
       "      <th></th>\n",
       "    </tr>\n",
       "  </thead>\n",
       "  <tbody>\n",
       "    <tr>\n",
       "      <th>Asian or Asian British</th>\n",
       "      <td>27</td>\n",
       "    </tr>\n",
       "    <tr>\n",
       "      <th>Black</th>\n",
       "      <td>107</td>\n",
       "    </tr>\n",
       "    <tr>\n",
       "      <th>Mixed</th>\n",
       "      <td>182</td>\n",
       "    </tr>\n",
       "    <tr>\n",
       "      <th>Other</th>\n",
       "      <td>10035</td>\n",
       "    </tr>\n",
       "    <tr>\n",
       "      <th>White</th>\n",
       "      <td>10399</td>\n",
       "    </tr>\n",
       "  </tbody>\n",
       "</table>\n",
       "</div>"
      ],
      "text/plain": [
       "                        Patient_ID\n",
       "ethnicity                         \n",
       "Asian or Asian British          27\n",
       "Black                          107\n",
       "Mixed                          182\n",
       "Other                        10035\n",
       "White                        10399"
      ]
     },
     "execution_count": 14,
     "metadata": {},
     "output_type": "execute_result"
    }
   ],
   "source": [
    "sql = '''-- Ethnicity:\n",
    "select Patient_ID, \n",
    "CTV3Code, \n",
    "ConsultationDate,\n",
    "MAX(ConsultationDate) OVER (PARTITION BY Patient_ID) as latest_date\n",
    "from EthnicityCodedEvent\n",
    "WHERE CTV3Code NOT IN ('9SZ..','XaJRB','XE0oc','XaE4B','XactD','9S...','XaBEN','134O.')-- exclude unknown codes\n",
    "group by Patient_ID, CTV3Code, ConsultationDate\n",
    "'''\n",
    "eth = pd.read_sql(sql, cnxn)\n",
    "# take only the latest recorded ethnicity for each patient\n",
    "eth = eth.loc[eth['ConsultationDate']==eth['latest_date']]\n",
    "eth = eth.drop(['ConsultationDate','latest_date'], axis=1)\n",
    "\n",
    "eth_groups = pd.read_csv(os.path.join('..','data','opensafely-ethnicity.csv'))\n",
    "# descriptions:\n",
    "eth_groups2 = pd.DataFrame([[1, \"White\"], [2, \"Mixed\"], [3, \"Black\"], [4, \"Asian or Asian British\"], [5, \"Other\"]], columns=[\"Grouping_6\",\"ethnicity\"])\n",
    "eth_groups = eth_groups.merge(eth_groups2, on=\"Grouping_6\").drop([\"Grouping_16\",\"Grouping_6\"], axis=1)\n",
    "\n",
    "# find patient ethnicity groups\n",
    "eth2 = eth.merge(eth_groups[[\"Code\", \"ethnicity\"]], left_on=\"CTV3Code\", right_on=\"Code\", how=\"left\").drop([\"Code\",\"CTV3Code\"], axis=1)\n",
    "eth2[\"ethnicity\"].fillna(\"Unknown\", inplace=True)\n",
    "\n",
    "# add useful dummy data\n",
    "dummy = pd.DataFrame([[10007,\"Asian or Asian British\"]], columns=['Patient_ID', 'ethnicity'])\n",
    "if password == 'ahsjdkaJAMSHDA123[':\n",
    "    eth2 = eth2.append(dummy)\n",
    "\n",
    "display(Markdown(f\"**Population Age Group Summary**\"))\n",
    "eth2.groupby(\"ethnicity\").count()"
   ]
  },
  {
   "cell_type": "code",
   "execution_count": 15,
   "metadata": {},
   "outputs": [
    {
     "data": {
      "text/markdown": [
       "**Population Age Group Summary**"
      ],
      "text/plain": [
       "<IPython.core.display.Markdown object>"
      ]
     },
     "metadata": {},
     "output_type": "display_data"
    },
    {
     "data": {
      "text/html": [
       "<div>\n",
       "<style scoped>\n",
       "    .dataframe tbody tr th:only-of-type {\n",
       "        vertical-align: middle;\n",
       "    }\n",
       "\n",
       "    .dataframe tbody tr th {\n",
       "        vertical-align: top;\n",
       "    }\n",
       "\n",
       "    .dataframe thead th {\n",
       "        text-align: right;\n",
       "    }\n",
       "</style>\n",
       "<table border=\"1\" class=\"dataframe\">\n",
       "  <thead>\n",
       "    <tr style=\"text-align: right;\">\n",
       "      <th></th>\n",
       "      <th>Patient_ID</th>\n",
       "    </tr>\n",
       "    <tr>\n",
       "      <th>age_group</th>\n",
       "      <th></th>\n",
       "    </tr>\n",
       "  </thead>\n",
       "  <tbody>\n",
       "    <tr>\n",
       "      <th>0_&lt;18</th>\n",
       "      <td>1755</td>\n",
       "    </tr>\n",
       "    <tr>\n",
       "      <th>18_&lt;65</th>\n",
       "      <td>72898</td>\n",
       "    </tr>\n",
       "    <tr>\n",
       "      <th>65_&lt;80</th>\n",
       "      <td>14622</td>\n",
       "    </tr>\n",
       "    <tr>\n",
       "      <th>80+</th>\n",
       "      <td>24174</td>\n",
       "    </tr>\n",
       "  </tbody>\n",
       "</table>\n",
       "</div>"
      ],
      "text/plain": [
       "           Patient_ID\n",
       "age_group            \n",
       "0_<18            1755\n",
       "18_<65          72898\n",
       "65_<80          14622\n",
       "80+             24174"
      ]
     },
     "execution_count": 15,
     "metadata": {},
     "output_type": "execute_result"
    }
   ],
   "source": [
    "from datetime import datetime\n",
    "\n",
    "sql = '''-- DOB:\n",
    "select Patient_ID, \n",
    "MIN(DateOfBirth) AS DateOfBirth -- use min in case of any duplicate entries\n",
    "from Patient\n",
    "GROUP BY Patient_ID\n",
    "'''\n",
    "age = pd.read_sql(sql, cnxn)\n",
    "age[\"age\"] = datetime.date(pd.to_datetime('2020-04-01')) - age[\"DateOfBirth\"]\n",
    "age[\"age\"] = (age[\"age\"] / np.timedelta64(1, \"Y\")).astype(int)\n",
    "\n",
    "# assign age groups\n",
    "conditions = [\n",
    "    (age['age'] < 18 ),\n",
    "    (age['age'] < 65 ),\n",
    "    (age['age'] < 80 )]\n",
    "choices = ['0_<18', '18_<65', '65_<80']\n",
    "age['age_group'] = np.select(conditions, choices, default='80+')\n",
    "\n",
    "age = age.drop([\"DateOfBirth\",\"age\"], axis=1)\n",
    "\n",
    "display(Markdown(f\"**Population Age Group Summary**\"))\n",
    "age.groupby(\"age_group\").count()"
   ]
  },
  {
   "cell_type": "code",
   "execution_count": 16,
   "metadata": {},
   "outputs": [
    {
     "data": {
      "text/markdown": [
       "**Summary of Ages and Ethnicities in A&E population with positive test result**"
      ],
      "text/plain": [
       "<IPython.core.display.Markdown object>"
      ]
     },
     "metadata": {},
     "output_type": "display_data"
    },
    {
     "data": {
      "text/html": [
       "<div>\n",
       "<style scoped>\n",
       "    .dataframe tbody tr th:only-of-type {\n",
       "        vertical-align: middle;\n",
       "    }\n",
       "\n",
       "    .dataframe tbody tr th {\n",
       "        vertical-align: top;\n",
       "    }\n",
       "\n",
       "    .dataframe thead tr th {\n",
       "        text-align: left;\n",
       "    }\n",
       "\n",
       "    .dataframe thead tr:last-of-type th {\n",
       "        text-align: right;\n",
       "    }\n",
       "</style>\n",
       "<table border=\"1\" class=\"dataframe\">\n",
       "  <thead>\n",
       "    <tr>\n",
       "      <th></th>\n",
       "      <th>Patient_ID</th>\n",
       "    </tr>\n",
       "    <tr>\n",
       "      <th>ethnicity</th>\n",
       "      <th>Asian or Asian British</th>\n",
       "    </tr>\n",
       "    <tr>\n",
       "      <th>age_group</th>\n",
       "      <th></th>\n",
       "    </tr>\n",
       "  </thead>\n",
       "  <tbody>\n",
       "    <tr>\n",
       "      <th>18_&lt;65</th>\n",
       "      <td>1</td>\n",
       "    </tr>\n",
       "  </tbody>\n",
       "</table>\n",
       "</div>"
      ],
      "text/plain": [
       "                      Patient_ID\n",
       "ethnicity Asian or Asian British\n",
       "age_group                       \n",
       "18_<65                         1"
      ]
     },
     "execution_count": 16,
     "metadata": {},
     "output_type": "execute_result"
    }
   ],
   "source": [
    "epae = ep.merge(age, on=\"Patient_ID\", how=\"left\")\n",
    "epae = epae.merge(eth2, on=\"Patient_ID\", how=\"left\")\n",
    "\n",
    "display(Markdown(f\"**Summary of Ages and Ethnicities in A&E population with positive test result**\"))\n",
    "epae.groupby([\"age_group\",\"ethnicity\"])[[\"Patient_ID\"]].nunique().unstack()\n"
   ]
  },
  {
   "cell_type": "markdown",
   "metadata": {},
   "source": [
    "# ECDS merged with SGSS and ICU data"
   ]
  },
  {
   "cell_type": "code",
   "execution_count": 17,
   "metadata": {},
   "outputs": [
    {
     "data": {
      "text/plain": [
       "ecds_flag                            3.0\n",
       "admit_flag                           0.0\n",
       "positives                            7.0\n",
       "positive_flag                        7.0\n",
       "negatives                            7.0\n",
       "negative_flag                        7.0\n",
       "diagnosis_flag                       3.0\n",
       "diagnosis_code_count                 3.0\n",
       "icu_flag                             8.0\n",
       "sgss_flag                           14.0\n",
       "pos_neg_flag                         0.0\n",
       "ecds_no_sgss_flag                    3.0\n",
       "sgss_no_ecds_flag                   14.0\n",
       "icu_no_ecds_flag                     5.0\n",
       "icu_no_sgss_flag                     8.0\n",
       "ecds_and_positive_flag               0.0\n",
       "ecds_diagnosed_and_admitted_flag     0.0\n",
       "diagnosis_and_positive_flag          0.0\n",
       "dtype: float64"
      ]
     },
     "execution_count": 17,
     "metadata": {},
     "output_type": "execute_result"
    }
   ],
   "source": [
    "def merge_data(ecds2, p, n, d, icu):\n",
    "    e2 = ecds2.merge(p, on=\"Patient_ID\", how=\"outer\")\n",
    "    e2 = e2.merge(n, on=\"Patient_ID\", how=\"outer\")\n",
    "    e2 = e2.merge(d, on=\"Patient_ID\", how=\"left\")\n",
    "    e2 = e2.merge(icu, on=\"Patient_ID\", how=\"outer\")\n",
    "\n",
    "    # replace nulls:\n",
    "    # first for date columns\n",
    "    cols = [\"EC_Conclusion_Date_latest\",\"pos_Lab_Report_Date_latest\",\"neg_Lab_Report_Date_latest\", \"IcuAdmissionDateTime_latest\", \"EC_admit_date_latest\"]\n",
    "    for c in cols:\n",
    "        e2[c].fillna(datetime(1900,1,1), inplace=True)\n",
    "    # other columns\n",
    "    e2.fillna(0, inplace=True)\n",
    "\n",
    "    # create additional flags\n",
    "    e2[\"sgss_flag\"] = np.where(e2[\"positive_flag\"]+e2[\"negative_flag\"]>0, 1, 0)\n",
    "    e2[\"pos_neg_flag\"] = np.where((e2[\"positive_flag\"]>0)&(e2[\"negative_flag\"]>0), 1, 0)\n",
    "    e2[\"ecds_no_sgss_flag\"] = np.where( (e2[\"ecds_flag\"]==1)&(e2[\"sgss_flag\"]==0), 1, 0)\n",
    "    e2[\"sgss_no_ecds_flag\"] = np.where( (e2[\"ecds_flag\"]==0)&(e2[\"sgss_flag\"]==1), 1, 0)\n",
    "    e2[\"icu_no_ecds_flag\"] = np.where( (e2[\"ecds_flag\"]==0)&(e2[\"icu_flag\"]==1), 1, 0)\n",
    "    e2[\"icu_no_sgss_flag\"] = np.where( (e2[\"sgss_flag\"]==0)&(e2[\"icu_flag\"]==1), 1, 0)\n",
    "    e2[\"ecds_and_positive_flag\"] = np.where(e2[\"positive_flag\"]+e2[\"ecds_flag\"]==2, 1, 0)\n",
    "    e2[\"ecds_diagnosed_and_admitted_flag\"] = np.where((e2[\"ecds_flag\"]==1)&(e2[\"diagnosis_flag\"]==1)&(e2[\"admit_flag\"]==1), 1, 0)\n",
    "    e2[\"diagnosis_and_positive_flag\"] = np.where(e2[\"positive_flag\"]+e2[\"diagnosis_flag\"]==2, 1, 0)\n",
    "\n",
    "    # patient counts and percentage calculations\n",
    "    ecds_patient_count = e2[\"ecds_flag\"].sum()\n",
    "    sgss_patient_count = e2[\"sgss_flag\"].sum()\n",
    "    icu_patient_count = e2[\"icu_flag\"].sum()\n",
    "    \n",
    "    return e2, ecds_patient_count, sgss_patient_count, icu_patient_count\n",
    "\n",
    "def ecds_percentage(x=1):\n",
    "    return round(100*x/ecds_patient_count,0)\n",
    "\n",
    "def sgss_percentage(x=1):\n",
    "    return round(100*x/sgss_patient_count,0)\n",
    "\n",
    "def icu_percentage(x=1):\n",
    "    return round(100*x/icu_patient_count,0)\n",
    "\n",
    "e2, ecds_patient_count, sgss_patient_count, icu_patient_count = merge_data(ecds2, p, n, d, icu)\n",
    "e2.drop(\"Patient_ID\", axis=1).sum()"
   ]
  },
  {
   "cell_type": "markdown",
   "metadata": {},
   "source": [
    "# Weekly date cut-offs"
   ]
  },
  {
   "cell_type": "code",
   "execution_count": 18,
   "metadata": {},
   "outputs": [
    {
     "data": {
      "text/html": [
       "<div>\n",
       "<style scoped>\n",
       "    .dataframe tbody tr th:only-of-type {\n",
       "        vertical-align: middle;\n",
       "    }\n",
       "\n",
       "    .dataframe tbody tr th {\n",
       "        vertical-align: top;\n",
       "    }\n",
       "\n",
       "    .dataframe thead th {\n",
       "        text-align: right;\n",
       "    }\n",
       "</style>\n",
       "<table border=\"1\" class=\"dataframe\">\n",
       "  <thead>\n",
       "    <tr style=\"text-align: right;\">\n",
       "      <th></th>\n",
       "      <th>week_no</th>\n",
       "      <th>date</th>\n",
       "    </tr>\n",
       "  </thead>\n",
       "  <tbody>\n",
       "    <tr>\n",
       "      <th>0</th>\n",
       "      <td>-1</td>\n",
       "      <td>2020-04-16</td>\n",
       "    </tr>\n",
       "    <tr>\n",
       "      <th>1</th>\n",
       "      <td>-2</td>\n",
       "      <td>2020-04-09</td>\n",
       "    </tr>\n",
       "    <tr>\n",
       "      <th>2</th>\n",
       "      <td>-3</td>\n",
       "      <td>2020-04-02</td>\n",
       "    </tr>\n",
       "    <tr>\n",
       "      <th>3</th>\n",
       "      <td>-4</td>\n",
       "      <td>2020-03-26</td>\n",
       "    </tr>\n",
       "  </tbody>\n",
       "</table>\n",
       "</div>"
      ],
      "text/plain": [
       "   week_no       date\n",
       "0       -1 2020-04-16\n",
       "1       -2 2020-04-09\n",
       "2       -3 2020-04-02\n",
       "3       -4 2020-03-26"
      ]
     },
     "execution_count": 18,
     "metadata": {},
     "output_type": "execute_result"
    }
   ],
   "source": [
    "# create list of weekly dates to assess\n",
    "\n",
    "latest_date = max(ecds2[\"EC_Conclusion_Date_latest\"].max(), p[\"pos_Lab_Report_Date_latest\"].max(), icu[\"IcuAdmissionDateTime_latest\"].max())\n",
    "\n",
    "l = []\n",
    "for i in range(4):\n",
    "     l.append( [-i-1, latest_date + pd.Timedelta(days=-7*i-7)] )\n",
    "\n",
    "l = pd.DataFrame(l, columns=[\"week_no\", \"date\"])\n",
    "l"
   ]
  },
  {
   "cell_type": "code",
   "execution_count": 19,
   "metadata": {},
   "outputs": [
    {
     "data": {
      "text/html": [
       "<div>\n",
       "<style scoped>\n",
       "    .dataframe tbody tr th:only-of-type {\n",
       "        vertical-align: middle;\n",
       "    }\n",
       "\n",
       "    .dataframe tbody tr th {\n",
       "        vertical-align: top;\n",
       "    }\n",
       "\n",
       "    .dataframe thead th {\n",
       "        text-align: right;\n",
       "    }\n",
       "</style>\n",
       "<table border=\"1\" class=\"dataframe\">\n",
       "  <thead>\n",
       "    <tr style=\"text-align: right;\">\n",
       "      <th></th>\n",
       "      <th></th>\n",
       "      <th>2020-04-23 00:00:00</th>\n",
       "      <th>2020-04-16 00:00:00</th>\n",
       "      <th>2020-04-09 00:00:00</th>\n",
       "      <th>2020-04-02 00:00:00</th>\n",
       "      <th>2020-03-26 00:00:00</th>\n",
       "    </tr>\n",
       "    <tr>\n",
       "      <th>dataset</th>\n",
       "      <th>item</th>\n",
       "      <th></th>\n",
       "      <th></th>\n",
       "      <th></th>\n",
       "      <th></th>\n",
       "      <th></th>\n",
       "    </tr>\n",
       "  </thead>\n",
       "  <tbody>\n",
       "    <tr>\n",
       "      <th rowspan=\"5\" valign=\"top\">ECDS</th>\n",
       "      <th>Total patients</th>\n",
       "      <td>3</td>\n",
       "      <td>3</td>\n",
       "      <td>3</td>\n",
       "      <td>3</td>\n",
       "      <td>3</td>\n",
       "    </tr>\n",
       "    <tr>\n",
       "      <th>Patients admitted</th>\n",
       "      <td>0</td>\n",
       "      <td>0</td>\n",
       "      <td>0</td>\n",
       "      <td>0</td>\n",
       "      <td>0</td>\n",
       "    </tr>\n",
       "    <tr>\n",
       "      <th>Patients diagnosed</th>\n",
       "      <td>3.0 (100.0%)</td>\n",
       "      <td>3.0 (100.0%)</td>\n",
       "      <td>3.0 (100.0%)</td>\n",
       "      <td>3.0 (100.0%)</td>\n",
       "      <td>3.0 (100.0%)</td>\n",
       "    </tr>\n",
       "    <tr>\n",
       "      <th>Patients diagnosed and admitted</th>\n",
       "      <td>0 (0.0%)</td>\n",
       "      <td>0 (0.0%)</td>\n",
       "      <td>0 (0.0%)</td>\n",
       "      <td>0 (0.0%)</td>\n",
       "      <td>0 (0.0%)</td>\n",
       "    </tr>\n",
       "    <tr>\n",
       "      <th>Latest date</th>\n",
       "      <td>2018-09-23 00:00:00 (598 days ago)</td>\n",
       "      <td>2018-09-23 00:00:00 (598 days ago)</td>\n",
       "      <td>2018-09-23 00:00:00 (598 days ago)</td>\n",
       "      <td>2018-09-23 00:00:00 (598 days ago)</td>\n",
       "      <td>2018-09-23 00:00:00 (598 days ago)</td>\n",
       "    </tr>\n",
       "    <tr>\n",
       "      <th rowspan=\"2\" valign=\"top\">ICNARC (ICU)</th>\n",
       "      <th>Total patients</th>\n",
       "      <td>8</td>\n",
       "      <td>8</td>\n",
       "      <td>8</td>\n",
       "      <td>8</td>\n",
       "      <td>8</td>\n",
       "    </tr>\n",
       "    <tr>\n",
       "      <th>Latest date</th>\n",
       "      <td>2020-03-03 14:30:00 (71 days ago)</td>\n",
       "      <td>2020-03-03 14:30:00 (71 days ago)</td>\n",
       "      <td>2020-03-03 14:30:00 (71 days ago)</td>\n",
       "      <td>2020-03-03 14:30:00 (71 days ago)</td>\n",
       "      <td>2020-03-03 14:30:00 (71 days ago)</td>\n",
       "    </tr>\n",
       "    <tr>\n",
       "      <th rowspan=\"7\" valign=\"top\">SGSS</th>\n",
       "      <th>Total patients</th>\n",
       "      <td>14</td>\n",
       "      <td>10</td>\n",
       "      <td>8</td>\n",
       "      <td>4</td>\n",
       "      <td>2</td>\n",
       "    </tr>\n",
       "    <tr>\n",
       "      <th>Latest date</th>\n",
       "      <td>2020-04-23 00:00:00 (20 days ago)</td>\n",
       "      <td>2020-04-15 00:00:00 (28 days ago)</td>\n",
       "      <td>2020-04-07 00:00:00 (36 days ago)</td>\n",
       "      <td>2020-03-29 00:00:00 (45 days ago)</td>\n",
       "      <td>2020-03-25 00:00:00 (49 days ago)</td>\n",
       "    </tr>\n",
       "    <tr>\n",
       "      <th>Total positive results</th>\n",
       "      <td>7</td>\n",
       "      <td>5</td>\n",
       "      <td>4</td>\n",
       "      <td>2</td>\n",
       "      <td>1</td>\n",
       "    </tr>\n",
       "    <tr>\n",
       "      <th>Patients with at least one positive</th>\n",
       "      <td>7.0 (50.0%)</td>\n",
       "      <td>5.0 (50.0%)</td>\n",
       "      <td>4.0 (50.0%)</td>\n",
       "      <td>2.0 (50.0%)</td>\n",
       "      <td>1.0 (50.0%)</td>\n",
       "    </tr>\n",
       "    <tr>\n",
       "      <th>Total negative results</th>\n",
       "      <td>7</td>\n",
       "      <td>5</td>\n",
       "      <td>4</td>\n",
       "      <td>2</td>\n",
       "      <td>1</td>\n",
       "    </tr>\n",
       "    <tr>\n",
       "      <th>Patients with at least one negative</th>\n",
       "      <td>7.0 (50.0%)</td>\n",
       "      <td>5.0 (50.0%)</td>\n",
       "      <td>4.0 (50.0%)</td>\n",
       "      <td>2.0 (50.0%)</td>\n",
       "      <td>1.0 (50.0%)</td>\n",
       "    </tr>\n",
       "    <tr>\n",
       "      <th>Patients with at least one positive AND negative</th>\n",
       "      <td>0 (0.0%)</td>\n",
       "      <td>0 (0.0%)</td>\n",
       "      <td>0 (0.0%)</td>\n",
       "      <td>0 (0.0%)</td>\n",
       "      <td>0 (0.0%)</td>\n",
       "    </tr>\n",
       "    <tr>\n",
       "      <th rowspan=\"6\" valign=\"top\">Combined</th>\n",
       "      <th>ECDS patients with positive lab results</th>\n",
       "      <td>0 (0.0%)</td>\n",
       "      <td>0 (0.0%)</td>\n",
       "      <td>0 (0.0%)</td>\n",
       "      <td>0 (0.0%)</td>\n",
       "      <td>0 (0.0%)</td>\n",
       "    </tr>\n",
       "    <tr>\n",
       "      <th>ECDS patients with any covid diagnosis and positive lab result</th>\n",
       "      <td>0 (0.0%)</td>\n",
       "      <td>0 (0.0%)</td>\n",
       "      <td>0 (0.0%)</td>\n",
       "      <td>0 (0.0%)</td>\n",
       "      <td>0 (0.0%)</td>\n",
       "    </tr>\n",
       "    <tr>\n",
       "      <th>ECDS patients with no lab results</th>\n",
       "      <td>3 (100.0%)</td>\n",
       "      <td>3 (100.0%)</td>\n",
       "      <td>3 (100.0%)</td>\n",
       "      <td>3 (100.0%)</td>\n",
       "      <td>3 (100.0%)</td>\n",
       "    </tr>\n",
       "    <tr>\n",
       "      <th>Patients in SGSS not in A&amp;E (ECDS)</th>\n",
       "      <td>14 (100.0%)</td>\n",
       "      <td>10 (100.0%)</td>\n",
       "      <td>8 (100.0%)</td>\n",
       "      <td>4 (100.0%)</td>\n",
       "      <td>2 (100.0%)</td>\n",
       "    </tr>\n",
       "    <tr>\n",
       "      <th>Patients in ICU not in A&amp;E (ECDS)</th>\n",
       "      <td>5 (62.0%)</td>\n",
       "      <td>5 (62.0%)</td>\n",
       "      <td>5 (62.0%)</td>\n",
       "      <td>5 (62.0%)</td>\n",
       "      <td>5 (62.0%)</td>\n",
       "    </tr>\n",
       "    <tr>\n",
       "      <th>Patients in ICU not in SGSS</th>\n",
       "      <td>8 (100.0%)</td>\n",
       "      <td>8 (100.0%)</td>\n",
       "      <td>8 (100.0%)</td>\n",
       "      <td>8 (100.0%)</td>\n",
       "      <td>8 (100.0%)</td>\n",
       "    </tr>\n",
       "  </tbody>\n",
       "</table>\n",
       "</div>"
      ],
      "text/plain": [
       "                                                                                2020-04-23 00:00:00  \\\n",
       "dataset      item                                                                                     \n",
       "ECDS         Total patients                                                                       3   \n",
       "             Patients admitted                                                                    0   \n",
       "             Patients diagnosed                                                        3.0 (100.0%)   \n",
       "             Patients diagnosed and admitted                                               0 (0.0%)   \n",
       "             Latest date                                         2018-09-23 00:00:00 (598 days ago)   \n",
       "ICNARC (ICU) Total patients                                                                       8   \n",
       "             Latest date                                          2020-03-03 14:30:00 (71 days ago)   \n",
       "SGSS         Total patients                                                                      14   \n",
       "             Latest date                                          2020-04-23 00:00:00 (20 days ago)   \n",
       "             Total positive results                                                               7   \n",
       "             Patients with at least one positive                                        7.0 (50.0%)   \n",
       "             Total negative results                                                               7   \n",
       "             Patients with at least one negative                                        7.0 (50.0%)   \n",
       "             Patients with at least one positive AND negative                              0 (0.0%)   \n",
       "Combined     ECDS patients with positive lab results                                       0 (0.0%)   \n",
       "             ECDS patients with any covid diagnosis and posi...                            0 (0.0%)   \n",
       "             ECDS patients with no lab results                                           3 (100.0%)   \n",
       "             Patients in SGSS not in A&E (ECDS)                                         14 (100.0%)   \n",
       "             Patients in ICU not in A&E (ECDS)                                            5 (62.0%)   \n",
       "             Patients in ICU not in SGSS                                                 8 (100.0%)   \n",
       "\n",
       "                                                                                2020-04-16 00:00:00  \\\n",
       "dataset      item                                                                                     \n",
       "ECDS         Total patients                                                                       3   \n",
       "             Patients admitted                                                                    0   \n",
       "             Patients diagnosed                                                        3.0 (100.0%)   \n",
       "             Patients diagnosed and admitted                                               0 (0.0%)   \n",
       "             Latest date                                         2018-09-23 00:00:00 (598 days ago)   \n",
       "ICNARC (ICU) Total patients                                                                       8   \n",
       "             Latest date                                          2020-03-03 14:30:00 (71 days ago)   \n",
       "SGSS         Total patients                                                                      10   \n",
       "             Latest date                                          2020-04-15 00:00:00 (28 days ago)   \n",
       "             Total positive results                                                               5   \n",
       "             Patients with at least one positive                                        5.0 (50.0%)   \n",
       "             Total negative results                                                               5   \n",
       "             Patients with at least one negative                                        5.0 (50.0%)   \n",
       "             Patients with at least one positive AND negative                              0 (0.0%)   \n",
       "Combined     ECDS patients with positive lab results                                       0 (0.0%)   \n",
       "             ECDS patients with any covid diagnosis and posi...                            0 (0.0%)   \n",
       "             ECDS patients with no lab results                                           3 (100.0%)   \n",
       "             Patients in SGSS not in A&E (ECDS)                                         10 (100.0%)   \n",
       "             Patients in ICU not in A&E (ECDS)                                            5 (62.0%)   \n",
       "             Patients in ICU not in SGSS                                                 8 (100.0%)   \n",
       "\n",
       "                                                                                2020-04-09 00:00:00  \\\n",
       "dataset      item                                                                                     \n",
       "ECDS         Total patients                                                                       3   \n",
       "             Patients admitted                                                                    0   \n",
       "             Patients diagnosed                                                        3.0 (100.0%)   \n",
       "             Patients diagnosed and admitted                                               0 (0.0%)   \n",
       "             Latest date                                         2018-09-23 00:00:00 (598 days ago)   \n",
       "ICNARC (ICU) Total patients                                                                       8   \n",
       "             Latest date                                          2020-03-03 14:30:00 (71 days ago)   \n",
       "SGSS         Total patients                                                                       8   \n",
       "             Latest date                                          2020-04-07 00:00:00 (36 days ago)   \n",
       "             Total positive results                                                               4   \n",
       "             Patients with at least one positive                                        4.0 (50.0%)   \n",
       "             Total negative results                                                               4   \n",
       "             Patients with at least one negative                                        4.0 (50.0%)   \n",
       "             Patients with at least one positive AND negative                              0 (0.0%)   \n",
       "Combined     ECDS patients with positive lab results                                       0 (0.0%)   \n",
       "             ECDS patients with any covid diagnosis and posi...                            0 (0.0%)   \n",
       "             ECDS patients with no lab results                                           3 (100.0%)   \n",
       "             Patients in SGSS not in A&E (ECDS)                                          8 (100.0%)   \n",
       "             Patients in ICU not in A&E (ECDS)                                            5 (62.0%)   \n",
       "             Patients in ICU not in SGSS                                                 8 (100.0%)   \n",
       "\n",
       "                                                                                2020-04-02 00:00:00  \\\n",
       "dataset      item                                                                                     \n",
       "ECDS         Total patients                                                                       3   \n",
       "             Patients admitted                                                                    0   \n",
       "             Patients diagnosed                                                        3.0 (100.0%)   \n",
       "             Patients diagnosed and admitted                                               0 (0.0%)   \n",
       "             Latest date                                         2018-09-23 00:00:00 (598 days ago)   \n",
       "ICNARC (ICU) Total patients                                                                       8   \n",
       "             Latest date                                          2020-03-03 14:30:00 (71 days ago)   \n",
       "SGSS         Total patients                                                                       4   \n",
       "             Latest date                                          2020-03-29 00:00:00 (45 days ago)   \n",
       "             Total positive results                                                               2   \n",
       "             Patients with at least one positive                                        2.0 (50.0%)   \n",
       "             Total negative results                                                               2   \n",
       "             Patients with at least one negative                                        2.0 (50.0%)   \n",
       "             Patients with at least one positive AND negative                              0 (0.0%)   \n",
       "Combined     ECDS patients with positive lab results                                       0 (0.0%)   \n",
       "             ECDS patients with any covid diagnosis and posi...                            0 (0.0%)   \n",
       "             ECDS patients with no lab results                                           3 (100.0%)   \n",
       "             Patients in SGSS not in A&E (ECDS)                                          4 (100.0%)   \n",
       "             Patients in ICU not in A&E (ECDS)                                            5 (62.0%)   \n",
       "             Patients in ICU not in SGSS                                                 8 (100.0%)   \n",
       "\n",
       "                                                                                2020-03-26 00:00:00  \n",
       "dataset      item                                                                                    \n",
       "ECDS         Total patients                                                                       3  \n",
       "             Patients admitted                                                                    0  \n",
       "             Patients diagnosed                                                        3.0 (100.0%)  \n",
       "             Patients diagnosed and admitted                                               0 (0.0%)  \n",
       "             Latest date                                         2018-09-23 00:00:00 (598 days ago)  \n",
       "ICNARC (ICU) Total patients                                                                       8  \n",
       "             Latest date                                          2020-03-03 14:30:00 (71 days ago)  \n",
       "SGSS         Total patients                                                                       2  \n",
       "             Latest date                                          2020-03-25 00:00:00 (49 days ago)  \n",
       "             Total positive results                                                               1  \n",
       "             Patients with at least one positive                                        1.0 (50.0%)  \n",
       "             Total negative results                                                               1  \n",
       "             Patients with at least one negative                                        1.0 (50.0%)  \n",
       "             Patients with at least one positive AND negative                              0 (0.0%)  \n",
       "Combined     ECDS patients with positive lab results                                       0 (0.0%)  \n",
       "             ECDS patients with any covid diagnosis and posi...                            0 (0.0%)  \n",
       "             ECDS patients with no lab results                                           3 (100.0%)  \n",
       "             Patients in SGSS not in A&E (ECDS)                                          2 (100.0%)  \n",
       "             Patients in ICU not in A&E (ECDS)                                            5 (62.0%)  \n",
       "             Patients in ICU not in SGSS                                                 8 (100.0%)  "
      ]
     },
     "metadata": {},
     "output_type": "display_data"
    }
   ],
   "source": [
    "   \n",
    "def ecds_percentage2(X):\n",
    "    return str(X)+\" (\"+str(ecds_percentage(X))+\"%)\"\n",
    "def sgss_percentage2(X):\n",
    "    return str(X)+\" (\"+str(sgss_percentage(X))+\"%)\"\n",
    "def icu_percentage2(X):\n",
    "    return str(X)+\" (\"+str(icu_percentage(X))+\"%)\"\n",
    "\n",
    "def bracs_d(X):\n",
    "    return str(X)+\" (\"+str(days_ago(X))+ \" days ago)\"\n",
    "\n",
    "\n",
    "\n",
    "def results_table(e2, ecds_patient_count, sgss_patient_count, icu_patient_count, w):\n",
    "    results = pd.DataFrame() \n",
    "    results = results.append([[\"ECDS\",\"Total patients\",ecds_patient_count],\n",
    "    [\"ECDS\", \"Patients admitted\", e2[\"admit_flag\"].sum()],\n",
    "    [\"ECDS\", \"Patients diagnosed\", ecds_percentage2(e2[\"diagnosis_flag\"].sum())],\n",
    "    [\"ECDS\", \"Patients diagnosed and admitted\", ecds_percentage2(e2[\"ecds_diagnosed_and_admitted_flag\"].sum())],                         \n",
    "    [\"ECDS\", \"Latest date\", bracs_d(e2[\"EC_Conclusion_Date_latest\"].max())],\n",
    "\n",
    "    [\"ICNARC (ICU)\", \"Total patients\", icu_patient_count], \n",
    "    [\"ICNARC (ICU)\", \"Latest date\", bracs_d(e2[\"IcuAdmissionDateTime_latest\"].max())],\n",
    "\n",
    "    [\"SGSS\", \"Total patients\", sgss_patient_count],\n",
    "    [\"SGSS\", \"Latest date\", bracs_d(e2[\"pos_Lab_Report_Date_latest\"].max())],\n",
    "    [\"SGSS\", \"Total positive results\", e2[\"positives\"].sum()],\n",
    "    [\"SGSS\", \"Patients with at least one positive\", sgss_percentage2(e2[\"positive_flag\"].sum())],\n",
    "    [\"SGSS\", \"Total negative results\", e2[\"negatives\"].sum()],\n",
    "    [\"SGSS\", \"Patients with at least one negative\", sgss_percentage2(e2[\"negative_flag\"].sum())],\n",
    "    [\"SGSS\", \"Patients with at least one positive AND negative\", sgss_percentage2(e2[\"pos_neg_flag\"].sum())],                   \n",
    "\n",
    "    [\"Combined\", \"ECDS patients with positive lab results\", ecds_percentage2(e2[\"ecds_and_positive_flag\"].sum())],\n",
    "    [\"Combined\", \"ECDS patients with any covid diagnosis and positive lab result\", ecds_percentage2(e2[\"diagnosis_and_positive_flag\"].sum())],\n",
    "    [\"Combined\", \"ECDS patients with no lab results\", ecds_percentage2(e2[\"ecds_no_sgss_flag\"].sum())],\n",
    "    [\"Combined\",\"Patients in SGSS not in A&E (ECDS)\", sgss_percentage2(e2[\"sgss_no_ecds_flag\"].sum())],\n",
    "    [\"Combined\",\"Patients in ICU not in A&E (ECDS)\", icu_percentage2(e2[\"icu_no_ecds_flag\"].sum())],\n",
    "    [\"Combined\",\"Patients in ICU not in SGSS\", icu_percentage2(e2[\"icu_no_sgss_flag\"].sum())]\n",
    "    ])   \n",
    "    results = results.rename(columns={0:\"dataset\", 1:\"item\", 2:str(w)}).set_index([\"dataset\",\"item\"]) \n",
    "    return results\n",
    "\n",
    "# latest data summary\n",
    "r = results_table(e2, ecds_patient_count, sgss_patient_count, icu_patient_count, w=latest_date)\n",
    "\n",
    "# add previous weeks' summaries\n",
    "for i,w in enumerate(l[\"date\"]): \n",
    "    ecds1 = ecds2.loc[ecds2[\"EC_Conclusion_Date_latest\"] <= w]\n",
    "    p1 = p.loc[p[\"pos_Lab_Report_Date_latest\"] <= w]\n",
    "    n1 = n.loc[n[\"neg_Lab_Report_Date_latest\"] <= w]\n",
    "    icu1 = icu.loc[icu[\"IcuAdmissionDateTime_latest\"] <= w]\n",
    "    \n",
    "    e2, ecds_patient_count, sgss_patient_count, icu_patient_count = merge_data(ecds1, p1, n1, d, icu1)\n",
    "    \n",
    "    r0 = results_table(e2, ecds_patient_count, sgss_patient_count, icu_patient_count, w)\n",
    "    r = r.merge(r0, suffixes=[\"\",\"_\"], left_index=True, right_index=True)\n",
    "    \n",
    "display (r)\n"
   ]
  }
 ],
 "metadata": {
  "jupytext": {
   "cell_metadata_filter": "all",
   "notebook_metadata_filter": "all,-language_info",
   "text_representation": {
    "extension": ".py",
    "format_name": "light",
    "format_version": "1.5",
    "jupytext_version": "1.3.3"
   }
  },
  "kernelspec": {
   "display_name": "Python 3",
   "language": "python",
   "name": "python3"
  },
  "language_info": {
   "codemirror_mode": {
    "name": "ipython",
    "version": 3
   },
   "file_extension": ".py",
   "mimetype": "text/x-python",
   "name": "python",
   "nbconvert_exporter": "python",
   "pygments_lexer": "ipython3",
   "version": "3.8.1"
  }
 },
 "nbformat": 4,
 "nbformat_minor": 4
}
