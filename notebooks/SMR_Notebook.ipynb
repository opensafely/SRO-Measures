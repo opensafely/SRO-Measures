{
 "cells": [
  {
   "cell_type": "markdown",
   "metadata": {},
   "source": [
    "# Changes occuring in the provision Structured Medications Reviews (SMRs): 09/2020 - 01/2021 \n",
    "\n",
    "Below are various time-series graphs showing changes in total nationwide SMR provision as well as a breakdown by region and other demographic variables.  The following graphs are available:\n",
    "* [Total SMR number](#total-smr)\n",
    "* [Decile chart of rate of SMR by practice](#decile-smr)\n",
    "* [Rate of SMR by geographical region](#smr-region)\n",
    "* [Rate of SMR by age group](#smr-age)\n",
    "* [Rate of SMR by sex](#smr-sex)\n",
    "* [Rate of SMR by care home status](#smr-care-home)\n",
    "* [Rate of SMR by recent hospital admission status](#smr-hospital-admission)\n",
    "* [Rate of SMR by recent falls status](#smr-falls)\n",
    "\n",
    "\n",
    "#### Methods\n",
    "Using OpenSAFELY-TPP, covering 40% of England's population, we have assessed coding activity related to SMR in general practice from the beginning of September 2020 until the end of Januray 2021. The codelist used can be found here at [OpenSAFELY Codelists](https://codelists.opensafely.org/codelist/opensafely/structured-medication-review-nhs-england/5459205f/#full-list).  For each within the study period, we have calculated the rate at which the code was recorded per 1000 registered patients.\n",
    "\n",
    "All analytical code and output is available for inspection at the [OpenSAFELY GitHub repository](https://github.com/opensafely/SRO-smr)."
   ]
  },
  {
   "cell_type": "code",
   "execution_count": 1,
   "metadata": {},
   "outputs": [
    {
     "data": {
      "text/html": [
       " <style>\n",
       ".output_png {\n",
       "    display: table-cell;\n",
       "    text-align: center;\n",
       "    vertical-align: middle;\n",
       "}\n",
       "</style> "
      ],
      "text/plain": [
       "<IPython.core.display.HTML object>"
      ]
     },
     "execution_count": 1,
     "metadata": {},
     "output_type": "execute_result"
    }
   ],
   "source": [
    "from IPython.display import HTML\n",
    "from IPython.core.display import HTML as Center\n",
    "\n",
    "Center(\"\"\" <style>\n",
    ".output_png {\n",
    "    display: table-cell;\n",
    "    text-align: center;\n",
    "    vertical-align: middle;\n",
    "}\n",
    "</style> \"\"\")"
   ]
  },
  {
   "cell_type": "code",
   "execution_count": 2,
   "metadata": {},
   "outputs": [
    {
     "ename": "FileNotFoundError",
     "evalue": "[Errno 2] File b'../output/measures/measure_smr_by_sex.csv' does not exist: b'../output/measures/measure_smr_by_sex.csv'",
     "output_type": "error",
     "traceback": [
      "\u001b[0;31m-----------------------------------------------------------------------\u001b[0m",
      "\u001b[0;31mFileNotFoundError\u001b[0m                     Traceback (most recent call last)",
      "\u001b[0;32m<ipython-input-2-27cee4cbaae1>\u001b[0m in \u001b[0;36m<module>\u001b[0;34m\u001b[0m\n\u001b[1;32m     82\u001b[0m \u001b[0;34m\u001b[0m\u001b[0m\n\u001b[1;32m     83\u001b[0m \u001b[0;34m\u001b[0m\u001b[0m\n\u001b[0;32m---> 84\u001b[0;31m \u001b[0mmeasures_df_sex\u001b[0m \u001b[0;34m=\u001b[0m \u001b[0mpd\u001b[0m\u001b[0;34m.\u001b[0m\u001b[0mread_csv\u001b[0m\u001b[0;34m(\u001b[0m\u001b[0;34m'../output/measures/measure_smr_by_sex.csv'\u001b[0m\u001b[0;34m)\u001b[0m\u001b[0;34m\u001b[0m\u001b[0;34m\u001b[0m\u001b[0m\n\u001b[0m\u001b[1;32m     85\u001b[0m measures_df_region = pd.read_csv(\n\u001b[1;32m     86\u001b[0m     '../output/measures/measure_smr_by_region.csv')\n",
      "\u001b[0;32m~/anaconda3/lib/python3.6/site-packages/pandas/io/parsers.py\u001b[0m in \u001b[0;36mparser_f\u001b[0;34m(filepath_or_buffer, sep, delimiter, header, names, index_col, usecols, squeeze, prefix, mangle_dupe_cols, dtype, engine, converters, true_values, false_values, skipinitialspace, skiprows, skipfooter, nrows, na_values, keep_default_na, na_filter, verbose, skip_blank_lines, parse_dates, infer_datetime_format, keep_date_col, date_parser, dayfirst, cache_dates, iterator, chunksize, compression, thousands, decimal, lineterminator, quotechar, quoting, doublequote, escapechar, comment, encoding, dialect, error_bad_lines, warn_bad_lines, delim_whitespace, low_memory, memory_map, float_precision)\u001b[0m\n\u001b[1;32m    683\u001b[0m         )\n\u001b[1;32m    684\u001b[0m \u001b[0;34m\u001b[0m\u001b[0m\n\u001b[0;32m--> 685\u001b[0;31m         \u001b[0;32mreturn\u001b[0m \u001b[0m_read\u001b[0m\u001b[0;34m(\u001b[0m\u001b[0mfilepath_or_buffer\u001b[0m\u001b[0;34m,\u001b[0m \u001b[0mkwds\u001b[0m\u001b[0;34m)\u001b[0m\u001b[0;34m\u001b[0m\u001b[0;34m\u001b[0m\u001b[0m\n\u001b[0m\u001b[1;32m    686\u001b[0m \u001b[0;34m\u001b[0m\u001b[0m\n\u001b[1;32m    687\u001b[0m     \u001b[0mparser_f\u001b[0m\u001b[0;34m.\u001b[0m\u001b[0m__name__\u001b[0m \u001b[0;34m=\u001b[0m \u001b[0mname\u001b[0m\u001b[0;34m\u001b[0m\u001b[0;34m\u001b[0m\u001b[0m\n",
      "\u001b[0;32m~/anaconda3/lib/python3.6/site-packages/pandas/io/parsers.py\u001b[0m in \u001b[0;36m_read\u001b[0;34m(filepath_or_buffer, kwds)\u001b[0m\n\u001b[1;32m    455\u001b[0m \u001b[0;34m\u001b[0m\u001b[0m\n\u001b[1;32m    456\u001b[0m     \u001b[0;31m# Create the parser.\u001b[0m\u001b[0;34m\u001b[0m\u001b[0;34m\u001b[0m\u001b[0;34m\u001b[0m\u001b[0m\n\u001b[0;32m--> 457\u001b[0;31m     \u001b[0mparser\u001b[0m \u001b[0;34m=\u001b[0m \u001b[0mTextFileReader\u001b[0m\u001b[0;34m(\u001b[0m\u001b[0mfp_or_buf\u001b[0m\u001b[0;34m,\u001b[0m \u001b[0;34m**\u001b[0m\u001b[0mkwds\u001b[0m\u001b[0;34m)\u001b[0m\u001b[0;34m\u001b[0m\u001b[0;34m\u001b[0m\u001b[0m\n\u001b[0m\u001b[1;32m    458\u001b[0m \u001b[0;34m\u001b[0m\u001b[0m\n\u001b[1;32m    459\u001b[0m     \u001b[0;32mif\u001b[0m \u001b[0mchunksize\u001b[0m \u001b[0;32mor\u001b[0m \u001b[0miterator\u001b[0m\u001b[0;34m:\u001b[0m\u001b[0;34m\u001b[0m\u001b[0;34m\u001b[0m\u001b[0m\n",
      "\u001b[0;32m~/anaconda3/lib/python3.6/site-packages/pandas/io/parsers.py\u001b[0m in \u001b[0;36m__init__\u001b[0;34m(self, f, engine, **kwds)\u001b[0m\n\u001b[1;32m    893\u001b[0m             \u001b[0mself\u001b[0m\u001b[0;34m.\u001b[0m\u001b[0moptions\u001b[0m\u001b[0;34m[\u001b[0m\u001b[0;34m\"has_index_names\"\u001b[0m\u001b[0;34m]\u001b[0m \u001b[0;34m=\u001b[0m \u001b[0mkwds\u001b[0m\u001b[0;34m[\u001b[0m\u001b[0;34m\"has_index_names\"\u001b[0m\u001b[0;34m]\u001b[0m\u001b[0;34m\u001b[0m\u001b[0;34m\u001b[0m\u001b[0m\n\u001b[1;32m    894\u001b[0m \u001b[0;34m\u001b[0m\u001b[0m\n\u001b[0;32m--> 895\u001b[0;31m         \u001b[0mself\u001b[0m\u001b[0;34m.\u001b[0m\u001b[0m_make_engine\u001b[0m\u001b[0;34m(\u001b[0m\u001b[0mself\u001b[0m\u001b[0;34m.\u001b[0m\u001b[0mengine\u001b[0m\u001b[0;34m)\u001b[0m\u001b[0;34m\u001b[0m\u001b[0;34m\u001b[0m\u001b[0m\n\u001b[0m\u001b[1;32m    896\u001b[0m \u001b[0;34m\u001b[0m\u001b[0m\n\u001b[1;32m    897\u001b[0m     \u001b[0;32mdef\u001b[0m \u001b[0mclose\u001b[0m\u001b[0;34m(\u001b[0m\u001b[0mself\u001b[0m\u001b[0;34m)\u001b[0m\u001b[0;34m:\u001b[0m\u001b[0;34m\u001b[0m\u001b[0;34m\u001b[0m\u001b[0m\n",
      "\u001b[0;32m~/anaconda3/lib/python3.6/site-packages/pandas/io/parsers.py\u001b[0m in \u001b[0;36m_make_engine\u001b[0;34m(self, engine)\u001b[0m\n\u001b[1;32m   1133\u001b[0m     \u001b[0;32mdef\u001b[0m \u001b[0m_make_engine\u001b[0m\u001b[0;34m(\u001b[0m\u001b[0mself\u001b[0m\u001b[0;34m,\u001b[0m \u001b[0mengine\u001b[0m\u001b[0;34m=\u001b[0m\u001b[0;34m\"c\"\u001b[0m\u001b[0;34m)\u001b[0m\u001b[0;34m:\u001b[0m\u001b[0;34m\u001b[0m\u001b[0;34m\u001b[0m\u001b[0m\n\u001b[1;32m   1134\u001b[0m         \u001b[0;32mif\u001b[0m \u001b[0mengine\u001b[0m \u001b[0;34m==\u001b[0m \u001b[0;34m\"c\"\u001b[0m\u001b[0;34m:\u001b[0m\u001b[0;34m\u001b[0m\u001b[0;34m\u001b[0m\u001b[0m\n\u001b[0;32m-> 1135\u001b[0;31m             \u001b[0mself\u001b[0m\u001b[0;34m.\u001b[0m\u001b[0m_engine\u001b[0m \u001b[0;34m=\u001b[0m \u001b[0mCParserWrapper\u001b[0m\u001b[0;34m(\u001b[0m\u001b[0mself\u001b[0m\u001b[0;34m.\u001b[0m\u001b[0mf\u001b[0m\u001b[0;34m,\u001b[0m \u001b[0;34m**\u001b[0m\u001b[0mself\u001b[0m\u001b[0;34m.\u001b[0m\u001b[0moptions\u001b[0m\u001b[0;34m)\u001b[0m\u001b[0;34m\u001b[0m\u001b[0;34m\u001b[0m\u001b[0m\n\u001b[0m\u001b[1;32m   1136\u001b[0m         \u001b[0;32melse\u001b[0m\u001b[0;34m:\u001b[0m\u001b[0;34m\u001b[0m\u001b[0;34m\u001b[0m\u001b[0m\n\u001b[1;32m   1137\u001b[0m             \u001b[0;32mif\u001b[0m \u001b[0mengine\u001b[0m \u001b[0;34m==\u001b[0m \u001b[0;34m\"python\"\u001b[0m\u001b[0;34m:\u001b[0m\u001b[0;34m\u001b[0m\u001b[0;34m\u001b[0m\u001b[0m\n",
      "\u001b[0;32m~/anaconda3/lib/python3.6/site-packages/pandas/io/parsers.py\u001b[0m in \u001b[0;36m__init__\u001b[0;34m(self, src, **kwds)\u001b[0m\n\u001b[1;32m   1915\u001b[0m         \u001b[0mkwds\u001b[0m\u001b[0;34m[\u001b[0m\u001b[0;34m\"usecols\"\u001b[0m\u001b[0;34m]\u001b[0m \u001b[0;34m=\u001b[0m \u001b[0mself\u001b[0m\u001b[0;34m.\u001b[0m\u001b[0musecols\u001b[0m\u001b[0;34m\u001b[0m\u001b[0;34m\u001b[0m\u001b[0m\n\u001b[1;32m   1916\u001b[0m \u001b[0;34m\u001b[0m\u001b[0m\n\u001b[0;32m-> 1917\u001b[0;31m         \u001b[0mself\u001b[0m\u001b[0;34m.\u001b[0m\u001b[0m_reader\u001b[0m \u001b[0;34m=\u001b[0m \u001b[0mparsers\u001b[0m\u001b[0;34m.\u001b[0m\u001b[0mTextReader\u001b[0m\u001b[0;34m(\u001b[0m\u001b[0msrc\u001b[0m\u001b[0;34m,\u001b[0m \u001b[0;34m**\u001b[0m\u001b[0mkwds\u001b[0m\u001b[0;34m)\u001b[0m\u001b[0;34m\u001b[0m\u001b[0;34m\u001b[0m\u001b[0m\n\u001b[0m\u001b[1;32m   1918\u001b[0m         \u001b[0mself\u001b[0m\u001b[0;34m.\u001b[0m\u001b[0munnamed_cols\u001b[0m \u001b[0;34m=\u001b[0m \u001b[0mself\u001b[0m\u001b[0;34m.\u001b[0m\u001b[0m_reader\u001b[0m\u001b[0;34m.\u001b[0m\u001b[0munnamed_cols\u001b[0m\u001b[0;34m\u001b[0m\u001b[0;34m\u001b[0m\u001b[0m\n\u001b[1;32m   1919\u001b[0m \u001b[0;34m\u001b[0m\u001b[0m\n",
      "\u001b[0;32mpandas/_libs/parsers.pyx\u001b[0m in \u001b[0;36mpandas._libs.parsers.TextReader.__cinit__\u001b[0;34m()\u001b[0m\n",
      "\u001b[0;32mpandas/_libs/parsers.pyx\u001b[0m in \u001b[0;36mpandas._libs.parsers.TextReader._setup_parser_source\u001b[0;34m()\u001b[0m\n",
      "\u001b[0;31mFileNotFoundError\u001b[0m: [Errno 2] File b'../output/measures/measure_smr_by_sex.csv' does not exist: b'../output/measures/measure_smr_by_sex.csv'"
     ]
    }
   ],
   "source": [
    "import sys\n",
    "import pandas as pd\n",
    "import numpy as np\n",
    "import matplotlib.pyplot as plt\n",
    "import os\n",
    "from ebmdatalab import charts\n",
    "from pandas.plotting import register_matplotlib_converters\n",
    "register_matplotlib_converters()\n",
    "\n",
    "%matplotlib inline\n",
    "\n",
    "\n",
    "class Measure:\n",
    "  def __init__(self, id, numerator, denominator, group_by):\n",
    "    self.id = id\n",
    "    self.numerator = numerator\n",
    "    self.denominator = denominator\n",
    "    self.group_by = group_by\n",
    "\n",
    "measures = [\n",
    "    Measure(\n",
    "        id=\"smr_by_sex\",\n",
    "        numerator=\"had_smr\",\n",
    "        denominator=\"population\",\n",
    "        group_by=[\"sex\"],\n",
    "    ),\n",
    "\n",
    "    Measure(\n",
    "        id=\"smr_by_region\",\n",
    "        numerator=\"had_smr\",\n",
    "        denominator=\"population\",\n",
    "        group_by=[\"region\"],\n",
    "    ),\n",
    "\n",
    "    Measure(\n",
    "        id=\"smr_by_age_band\",\n",
    "        numerator=\"had_smr\",\n",
    "        denominator=\"population\",\n",
    "        group_by=[\"age_band\"],\n",
    "    ),\n",
    "\n",
    "    Measure(\n",
    "        id=\"smr_by_care_home_status\",\n",
    "        numerator=\"had_smr\",\n",
    "        denominator=\"population\",\n",
    "        group_by=[\"care_home_status\"],\n",
    "    ),\n",
    "\n",
    "    Measure(\n",
    "        id=\"smr_by_falls\",\n",
    "        numerator=\"had_smr\",\n",
    "        denominator=\"population\",\n",
    "        group_by=[\"had_falls_before_smr\"],\n",
    "    ),\n",
    "\n",
    "    Measure(\n",
    "        id=\"smr_by_hospital_admission\",\n",
    "        numerator=\"had_smr\",\n",
    "        denominator=\"population\",\n",
    "        group_by=[\"had_hospital_admission_before_smr\"],\n",
    "    ),\n",
    "\n",
    "    Measure(\n",
    "        id=\"smr_total\",\n",
    "        numerator=\"had_smr\",\n",
    "        denominator=\"population\",\n",
    "        group_by=None,\n",
    "    ),\n",
    "\n",
    "    Measure(\n",
    "        id=\"smr_total_by_practice\",\n",
    "        numerator=\"had_smr\",\n",
    "        denominator=\"population\",\n",
    "        group_by=[\"practice\"],\n",
    "    ),\n",
    "]\n",
    "\n",
    "\n",
    "if not os.path.exists('../output/figures'):\n",
    "    os.mkdir('../output/figures')\n",
    "\n",
    "\n",
    "\n",
    "measures_df_sex = pd.read_csv('../output/measures/measure_smr_by_sex.csv')\n",
    "measures_df_region = pd.read_csv(\n",
    "    '../output/measures/measure_smr_by_region.csv')\n",
    "measures_df_age = pd.read_csv(\n",
    "    '../output/measures/measure_smr_by_age_band.csv')\n",
    "measures_df_falls = pd.read_csv(\n",
    "    '../output/measures/measure_smr_by_falls.csv')\n",
    "measures_df_care_home_status = pd.read_csv(\n",
    "    '../output/measures/measure_smr_by_care_home_status.csv')\n",
    "measures_df_total = pd.read_csv(\n",
    "    '../output/measures/measure_smr_total.csv')\n",
    "measures_df_total_by_practice = pd.read_csv(\n",
    "    '../output/measures/measure_smr_total_by_practice.csv')\n",
    "measures_df_hospital_admission = pd.read_csv(\n",
    "    '../output/measures/measure_smr_by_hospital_admission.csv')\n",
    "\n",
    "# temporary fix for population not working in Measures\n",
    "measures_df_total = measures_df_total.groupby(\n",
    "    ['date'])['had_smr', 'population'].sum().reset_index()\n",
    "measures_df_total['value'] = measures_df_total['had_smr'] / \\\n",
    "    measures_df_total['population']\n",
    "\n",
    "\n",
    "def to_datetime_sort(df):\n",
    "    df['date'] = pd.to_datetime(df['date'])\n",
    "    df.sort_values(by='date', inplace=True)\n",
    "\n",
    "\n",
    "to_datetime_sort(measures_df_sex)\n",
    "to_datetime_sort(measures_df_region)\n",
    "to_datetime_sort(measures_df_age)\n",
    "to_datetime_sort(measures_df_total)\n",
    "to_datetime_sort(measures_df_falls)\n",
    "to_datetime_sort(measures_df_care_home_status)\n",
    "to_datetime_sort(measures_df_total_by_practice)\n",
    "to_datetime_sort(measures_df_hospital_admission)\n",
    "\n",
    "\n",
    "def redact_small_numbers(df, n, m):\n",
    "    \"\"\"\n",
    "    Takes measures df and converts any row to nana where value of denominator or numerater in measure m equal to \n",
    "    or below n\n",
    "    Returns df of same shape.\n",
    "    \"\"\"\n",
    "    mask_n = df[m.numerator].isin(list(range(0, n+1)))\n",
    "    mask_d = df[m.denominator].isin(list(range(0, n+1)))\n",
    "    mask = mask_n | mask_d\n",
    "    df.loc[mask, :] = np.nan\n",
    "    return df\n",
    "\n",
    "redact_small_numbers(measures_df_sex, 10, measures[0])\n",
    "redact_small_numbers(measures_df_region, 10, measures[1])\n",
    "redact_small_numbers(measures_df_age, 10, measures[2])\n",
    "redact_small_numbers(measures_df_care_home_status, 10, measures[3])\n",
    "redact_small_numbers(measures_df_falls, 10, measures[4])\n",
    "redact_small_numbers(measures_df_hospital_admission,\n",
    "                     10, measures[5])\n",
    "redact_small_numbers(measures_df_total,10, measures[6])\n",
    "\n",
    "\n",
    "def calculate_rate(df, value_col='had_smr', population_col='population'):\n",
    "    num_per_thousand = df[value_col]/(df[population_col]/1000)\n",
    "    df['num_per_thousand'] = num_per_thousand\n",
    "\n",
    "\n",
    "calculate_rate(measures_df_sex)\n",
    "calculate_rate(measures_df_age)\n",
    "calculate_rate(measures_df_region)\n",
    "calculate_rate(measures_df_total)\n",
    "calculate_rate(measures_df_falls)\n",
    "calculate_rate(measures_df_care_home_status)\n",
    "calculate_rate(measures_df_total_by_practice)\n",
    "calculate_rate(measures_df_hospital_admission)\n",
    "\n",
    "#https://github.com/opensafely/hospital-disruption-research/blob/master/analysis/rate_calculations.py\n",
    "\n",
    "\n",
    "#Remove U/T in sex column\n",
    "measures_df_sex = measures_df_sex[measures_df_sex['sex'].isin([\"F\", \"M\"])]\n",
    "\n",
    "#Remove default age band\n",
    "measures_df_age = measures_df_age[~measures_df_age['age_band'].isin([\"0\"])]\n",
    "\n",
    "def plot_measures(df, title, filename, column_to_plot, category=False, y_label='Rate per 1000'):\n",
    "\n",
    "    if category:\n",
    "        for unique_category in df[category].unique():\n",
    "\n",
    "            df_subset = df[df[category] == unique_category]\n",
    "\n",
    "            plt.plot(df_subset['date'], df_subset[column_to_plot], marker='o');\n",
    "    else:\n",
    "        plt.plot(df['date'], df[column_to_plot], marker='o');\n",
    "\n",
    "    plt.ylabel(y_label)\n",
    "    plt.xlabel('Date')\n",
    "    plt.xticks(rotation='vertical')\n",
    "    plt.title(title)\n",
    "\n",
    "    if category:\n",
    "        plt.legend(df[category].unique(), bbox_to_anchor=(\n",
    "            1.04, 1), loc=\"upper left\")\n",
    "\n",
    "    else:\n",
    "        pass\n",
    "\n",
    "    plt.show()\n",
    "    plt.clf()\n"
   ]
  },
  {
   "cell_type": "markdown",
   "metadata": {},
   "source": [
    "<a id='total-smr'></a>\n",
    "## Total SMR Number\n",
    "\n",
    "Total monthly coding activity."
   ]
  },
  {
   "cell_type": "code",
   "execution_count": null,
   "metadata": {},
   "outputs": [],
   "source": [
    "plot_measures(measures_df_total, 'SMR use across Whole Population',\n",
    "              'population_rates', 'had_smr', category=False, y_label='Total Number')"
   ]
  },
  {
   "cell_type": "markdown",
   "metadata": {},
   "source": [
    "<a id='decile-smr'></a>\n",
    "## SMR by practice\n",
    "\n",
    "Monthly coding activity rates at the GP practice level.  Each month, the median value and 10-90 percentile activity is shown."
   ]
  },
  {
   "cell_type": "code",
   "execution_count": null,
   "metadata": {},
   "outputs": [],
   "source": [
    "smr_decile_chart = charts.deciles_chart(\n",
    "    measures_df_total_by_practice,\n",
    "    period_column=\"date\",\n",
    "    column=\"num_per_thousand\",\n",
    "    title=\"SMR by practice\",\n",
    "    ylabel=\"rate per 1000\",\n",
    "    show_outer_percentiles=False,\n",
    "    show_legend=True,\n",
    ");\n",
    "plt.show()\n",
    "plt.clf()\n"
   ]
  },
  {
   "cell_type": "markdown",
   "metadata": {},
   "source": [
    "<a id='smr-region'></a>\n",
    "## SMR breakdown by region\n",
    "\n",
    "Monthly coding activity rates by geographical region."
   ]
  },
  {
   "cell_type": "code",
   "execution_count": null,
   "metadata": {},
   "outputs": [],
   "source": [
    "plot_measures(measures_df_region,\n",
    "              'SMR use by Region per 1000', 'region_rates', 'num_per_thousand', category='region')\n"
   ]
  },
  {
   "cell_type": "markdown",
   "metadata": {},
   "source": [
    "<a id='smr-age'></a>\n",
    "## SMR breakdown by age band\n",
    "\n",
    "Monthly coding activity rates by age band."
   ]
  },
  {
   "cell_type": "code",
   "execution_count": null,
   "metadata": {},
   "outputs": [],
   "source": [
    "plot_measures(measures_df_age,\n",
    "              'SMR use by Age Band per 1000',  'age_rates', 'num_per_thousand', category='age_band')\n"
   ]
  },
  {
   "cell_type": "markdown",
   "metadata": {},
   "source": [
    "<a id='smr-sex'></a>\n",
    "## SMR breakdown by sex\n",
    "\n",
    "Monthly coding activity rates by sex."
   ]
  },
  {
   "cell_type": "code",
   "execution_count": null,
   "metadata": {},
   "outputs": [],
   "source": [
    "plot_measures(measures_df_sex,\n",
    "              'SMR use by Sex per 1000', 'sex_rates', 'num_per_thousand', category='sex', )\n"
   ]
  },
  {
   "cell_type": "markdown",
   "metadata": {},
   "source": [
    "## SMR Priority Variables\n",
    "\n",
    "[This document](https://www.england.nhs.uk/wp-content/uploads/2020/09/SMR-Spec-Guidance-2020-21-FINAL-.pdf) (section 3.1) provides details on those patients that would benefit from SMR and be prioritised.\n",
    "\n",
    "The below charts are a first look at changes in the rate of provision of SMR according to individual priority variables.  These will need to be further developed into \"at risk\" categories."
   ]
  },
  {
   "cell_type": "markdown",
   "metadata": {},
   "source": [
    "<a id='smr-care-home'></a>\n",
    "### SMR breakdown by care home status\n",
    "\n",
    "Monthly coding activity rates by care home status.  Care home status is defined using this  [NHS England Care Homes residential status codelist](https://codelists.opensafely.org/codelist/opensafely/nhs-england-care-homes-residential-status/3712ef13/)."
   ]
  },
  {
   "cell_type": "code",
   "execution_count": null,
   "metadata": {},
   "outputs": [],
   "source": [
    "plot_measures(measures_df_care_home_status,\n",
    "              'SMR use by care home status per 1000',  'care_home_status_rates', 'num_per_thousand', category='care_home_status')\n"
   ]
  },
  {
   "cell_type": "markdown",
   "metadata": {},
   "source": [
    "<a id='smr-hospital-admission'></a>\n",
    "### SMR breakdown by recent hospitalisation status\n",
    "\n",
    "Monthly coding activity rates by recent hospital admission.  Here we look at the rate of SMR in those that were discharged from hospital within the prior 3 months vs those that were not."
   ]
  },
  {
   "cell_type": "code",
   "execution_count": null,
   "metadata": {},
   "outputs": [],
   "source": [
    "\n",
    "plot_measures(measures_df_hospital_admission,\n",
    "              'SMR use by hospital_admission status per 1000',  'hospital_admission_rates', 'num_per_thousand', category='had_hospital_admission_before_smr')\n"
   ]
  },
  {
   "cell_type": "markdown",
   "metadata": {},
   "source": [
    "<a id='smr-falls'></a>\n",
    "### SMR breakdown by recent fall status\n",
    "\n",
    "Monthly coding activity rates by recent fall status.  Here we look at the rate of SMR in those that had a recorded fall at any point within the prior 3 months vs those that did not."
   ]
  },
  {
   "cell_type": "code",
   "execution_count": null,
   "metadata": {},
   "outputs": [],
   "source": [
    "\n",
    "plot_measures(measures_df_falls,\n",
    "              'SMR use by falls status per 1000',  'falls_rates', 'num_per_thousand', category='had_falls_before_smr')\n"
   ]
  },
  {
   "cell_type": "code",
   "execution_count": null,
   "metadata": {},
   "outputs": [],
   "source": [
    "\n",
    "\n",
    "def plot_measures(df, title, filename, column_to_plot, category=False, y_label='Rate per 1000'):\n",
    "    fig = go.Figure()\n",
    "\n",
    "    if category:\n",
    "        for unique_category in df[category].unique():\n",
    "\n",
    "            df_subset = df[df[category] == unique_category]\n",
    "            fig.add_trace(go.Scatter(\n",
    "                x=df_subset['date'], y=df_subset[column_to_plot], name=unique_category))\n",
    "\n",
    "    else:\n",
    "        fig.add_trace(go.Scatter(\n",
    "            x=df['date'], y=df_subset[column_to_plot], name=unique_category))\n",
    "\n",
    "    # Set title\n",
    "    fig.update_layout(\n",
    "        title_text=title,\n",
    "        hovermode='x',\n",
    "        title_x=0.5,\n",
    "\n",
    "\n",
    "    )\n",
    "\n",
    "    fig.update_yaxes(title=y_label)\n",
    "    fig.update_xaxes(title=\"Date\")\n",
    "\n",
    "    # Add range slider\n",
    "    fig.update_layout(\n",
    "        xaxis=go.layout.XAxis(\n",
    "            rangeselector=dict(\n",
    "                buttons=list([\n",
    "                    dict(count=1,\n",
    "                         label=\"1m\",\n",
    "                         step=\"month\",\n",
    "                         stepmode=\"backward\"),\n",
    "                    dict(count=6,\n",
    "                         label=\"6m\",\n",
    "                         step=\"month\",\n",
    "                         stepmode=\"backward\"),\n",
    "\n",
    "                    dict(count=1,\n",
    "                         label=\"1y\",\n",
    "                         step=\"year\",\n",
    "                         stepmode=\"backward\"),\n",
    "                    dict(step=\"all\")\n",
    "                ])\n",
    "            ),\n",
    "            rangeslider=dict(\n",
    "                visible=True\n",
    "            ),\n",
    "            type=\"date\"\n",
    "        )\n",
    "    )\n",
    "\n",
    "    fig.show()"
   ]
  }
 ],
 "metadata": {
  "kernelspec": {
   "display_name": "Python 3",
   "language": "python",
   "name": "python3"
  },
  "language_info": {
   "codemirror_mode": {
    "name": "ipython",
    "version": 3
   },
   "file_extension": ".py",
   "mimetype": "text/x-python",
   "name": "python",
   "nbconvert_exporter": "python",
   "pygments_lexer": "ipython3",
   "version": "3.6.8"
  }
 },
 "nbformat": 4,
 "nbformat_minor": 2
}
