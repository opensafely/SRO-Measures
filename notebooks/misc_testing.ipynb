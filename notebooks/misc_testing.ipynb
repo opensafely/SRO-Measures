{
 "cells": [
  {
   "cell_type": "code",
   "execution_count": 1,
   "metadata": {},
   "outputs": [],
   "source": [
    "import pyodbc\n",
    "import pandas as pd\n",
    "import os\n",
    "from IPython.display import display, Markdown\n",
    "from datetime import date\n",
    "import numpy as np\n",
    "\n",
    "import matplotlib.pyplot as plt\n",
    "\n",
    "dbconn = os.environ.get('DBCONN', None)\n",
    "if dbconn is None:\n",
    "    display(\"No SQL credentials. Check that the file 'environ.txt' is present. Refer to readme for further information\")\n",
    "else:\n",
    "    dbconn = dbconn.strip('\"')\n",
    "\n",
    "# import custom functions from 'analysis' folder\n",
    "import sys\n",
    "sys.path.append('../lib/')\n",
    "    \n",
    "from functions import closing_connection, load_filter_codelists, filter_codelists, plotting_all\n",
    "codes = pd.read_csv(os.path.join('..','data','code_dictionary.csv'))"
   ]
  },
  {
   "cell_type": "code",
   "execution_count": 5,
   "metadata": {},
   "outputs": [
    {
     "data": {
      "text/html": [
       "<div>\n",
       "<style scoped>\n",
       "    .dataframe tbody tr th:only-of-type {\n",
       "        vertical-align: middle;\n",
       "    }\n",
       "\n",
       "    .dataframe tbody tr th {\n",
       "        vertical-align: top;\n",
       "    }\n",
       "\n",
       "    .dataframe thead th {\n",
       "        text-align: right;\n",
       "    }\n",
       "</style>\n",
       "<table border=\"1\" class=\"dataframe\">\n",
       "  <thead>\n",
       "    <tr style=\"text-align: right;\">\n",
       "      <th></th>\n",
       "      <th>CTV3Code</th>\n",
       "      <th>name</th>\n",
       "      <th>month</th>\n",
       "      <th>events</th>\n",
       "    </tr>\n",
       "  </thead>\n",
       "  <tbody>\n",
       "    <tr>\n",
       "      <th>0</th>\n",
       "      <td>X772q</td>\n",
       "      <td>bilirubin</td>\n",
       "      <td>2018-06-01</td>\n",
       "      <td>120545</td>\n",
       "    </tr>\n",
       "    <tr>\n",
       "      <th>1</th>\n",
       "      <td>XaPbt</td>\n",
       "      <td>cholesterol-1</td>\n",
       "      <td>2020-02-01</td>\n",
       "      <td>696758</td>\n",
       "    </tr>\n",
       "    <tr>\n",
       "      <th>2</th>\n",
       "      <td>XaPbt</td>\n",
       "      <td>cholesterol-1</td>\n",
       "      <td>2018-09-01</td>\n",
       "      <td>590258</td>\n",
       "    </tr>\n",
       "    <tr>\n",
       "      <th>3</th>\n",
       "      <td>XE2eB</td>\n",
       "      <td>cholesterol-2</td>\n",
       "      <td>2019-02-01</td>\n",
       "      <td>368799</td>\n",
       "    </tr>\n",
       "    <tr>\n",
       "      <th>4</th>\n",
       "      <td>XaPbt</td>\n",
       "      <td>cholesterol-1</td>\n",
       "      <td>2019-01-01</td>\n",
       "      <td>702321</td>\n",
       "    </tr>\n",
       "    <tr>\n",
       "      <th>...</th>\n",
       "      <td>...</td>\n",
       "      <td>...</td>\n",
       "      <td>...</td>\n",
       "      <td>...</td>\n",
       "    </tr>\n",
       "    <tr>\n",
       "      <th>131</th>\n",
       "      <td>XE2eB</td>\n",
       "      <td>cholesterol-2</td>\n",
       "      <td>2018-08-01</td>\n",
       "      <td>365181</td>\n",
       "    </tr>\n",
       "    <tr>\n",
       "      <th>132</th>\n",
       "      <td>X772q</td>\n",
       "      <td>bilirubin</td>\n",
       "      <td>2019-09-01</td>\n",
       "      <td>116541</td>\n",
       "    </tr>\n",
       "    <tr>\n",
       "      <th>133</th>\n",
       "      <td>XE2eB</td>\n",
       "      <td>cholesterol-2</td>\n",
       "      <td>2018-10-01</td>\n",
       "      <td>404341</td>\n",
       "    </tr>\n",
       "    <tr>\n",
       "      <th>134</th>\n",
       "      <td>X772q</td>\n",
       "      <td>bilirubin</td>\n",
       "      <td>2019-11-01</td>\n",
       "      <td>119706</td>\n",
       "    </tr>\n",
       "    <tr>\n",
       "      <th>135</th>\n",
       "      <td>XaPbt</td>\n",
       "      <td>cholesterol-1</td>\n",
       "      <td>2017-12-01</td>\n",
       "      <td>49</td>\n",
       "    </tr>\n",
       "  </tbody>\n",
       "</table>\n",
       "<p>136 rows × 4 columns</p>\n",
       "</div>"
      ],
      "text/plain": [
       "    CTV3Code           name       month  events\n",
       "0      X772q      bilirubin  2018-06-01  120545\n",
       "1      XaPbt  cholesterol-1  2020-02-01  696758\n",
       "2      XaPbt  cholesterol-1  2018-09-01  590258\n",
       "3      XE2eB  cholesterol-2  2019-02-01  368799\n",
       "4      XaPbt  cholesterol-1  2019-01-01  702321\n",
       "..       ...            ...         ...     ...\n",
       "131    XE2eB  cholesterol-2  2018-08-01  365181\n",
       "132    X772q      bilirubin  2019-09-01  116541\n",
       "133    XE2eB  cholesterol-2  2018-10-01  404341\n",
       "134    X772q      bilirubin  2019-11-01  119706\n",
       "135    XaPbt  cholesterol-1  2017-12-01      49\n",
       "\n",
       "[136 rows x 4 columns]"
      ]
     },
     "execution_count": 5,
     "metadata": {},
     "output_type": "execute_result"
    }
   ],
   "source": [
    "\n",
    "sql1 = f'''select \n",
    "    CTV3Code,\n",
    "    CASE CTV3Code\n",
    "      WHEN 'X772q' THEN 'cholesterol-2'\n",
    "      WHEN 'XaPbt' THEN 'cholesterol-1'\n",
    "      WHEN 'XE2eB' THEN 'bilirubin'\n",
    "      END AS name,\n",
    "    DATEFROMPARTS(YEAR(ConsultationDate), MONTH(ConsultationDate),1) AS month,\n",
    "    COUNT(*) as events\n",
    "    FROM CodedEvent\n",
    "    WHERE CTV3Code IN ('X772q', 'XaPbt', 'XE2eB')\n",
    "    AND ConsultationDate > '20171231'\n",
    "    GROUP BY CTV3Code, \n",
    "    CASE CTV3Code\n",
    "      WHEN 'X772q' THEN 'cholesterol-2'\n",
    "      WHEN 'XaPbt' THEN 'cholesterol-1'\n",
    "      WHEN 'XE2eB' THEN 'bilirubin'\n",
    "      END,\n",
    "    DATEFROMPARTS(YEAR(ConsultationDate), MONTH(ConsultationDate), 1)'''\n",
    "\n",
    "    \n",
    "with closing_connection(dbconn) as connection:\n",
    "    df = pd.read_sql(sql1, connection)\n",
    "    \n",
    "df"
   ]
  },
  {
   "cell_type": "code",
   "execution_count": 6,
   "metadata": {},
   "outputs": [
    {
     "data": {
      "text/html": [
       "<div>\n",
       "<style scoped>\n",
       "    .dataframe tbody tr th:only-of-type {\n",
       "        vertical-align: middle;\n",
       "    }\n",
       "\n",
       "    .dataframe tbody tr th {\n",
       "        vertical-align: top;\n",
       "    }\n",
       "\n",
       "    .dataframe thead th {\n",
       "        text-align: right;\n",
       "    }\n",
       "</style>\n",
       "<table border=\"1\" class=\"dataframe\">\n",
       "  <thead>\n",
       "    <tr style=\"text-align: right;\">\n",
       "      <th></th>\n",
       "      <th>practices</th>\n",
       "    </tr>\n",
       "  </thead>\n",
       "  <tbody>\n",
       "    <tr>\n",
       "      <th>0</th>\n",
       "      <td>2541</td>\n",
       "    </tr>\n",
       "  </tbody>\n",
       "</table>\n",
       "</div>"
      ],
      "text/plain": [
       "   practices\n",
       "0       2541"
      ]
     },
     "execution_count": 6,
     "metadata": {},
     "output_type": "execute_result"
    }
   ],
   "source": [
    "sql1 = f'''select \n",
    "    COUNT(distinct Organisation_ID) as practices\n",
    "    FROM RegistrationHistory\n",
    "    WHERE YEAR(EndDate) = '9999'-- live registrations only\n",
    "    '''\n",
    "\n",
    "    \n",
    "with closing_connection(dbconn) as connection:\n",
    "    df = pd.read_sql(sql1, connection)\n",
    "    \n",
    "df"
   ]
  },
  {
   "cell_type": "code",
   "execution_count": 4,
   "metadata": {},
   "outputs": [
    {
     "data": {
      "text/html": [
       "<div>\n",
       "<style scoped>\n",
       "    .dataframe tbody tr th:only-of-type {\n",
       "        vertical-align: middle;\n",
       "    }\n",
       "\n",
       "    .dataframe tbody tr th {\n",
       "        vertical-align: top;\n",
       "    }\n",
       "\n",
       "    .dataframe thead th {\n",
       "        text-align: right;\n",
       "    }\n",
       "</style>\n",
       "<table border=\"1\" class=\"dataframe\">\n",
       "  <thead>\n",
       "    <tr style=\"text-align: right;\">\n",
       "      <th></th>\n",
       "      <th>CTV3Code</th>\n",
       "      <th>name</th>\n",
       "      <th>patient_currently_registered</th>\n",
       "      <th>total_patients</th>\n",
       "      <th>total_practices</th>\n",
       "      <th>events</th>\n",
       "    </tr>\n",
       "  </thead>\n",
       "  <tbody>\n",
       "    <tr>\n",
       "      <th>0</th>\n",
       "      <td>XaPbt</td>\n",
       "      <td>cholesterol-1</td>\n",
       "      <td>1</td>\n",
       "      <td>6873365</td>\n",
       "      <td>2536</td>\n",
       "      <td>12306867</td>\n",
       "    </tr>\n",
       "    <tr>\n",
       "      <th>1</th>\n",
       "      <td>XE2eB</td>\n",
       "      <td>bilirubin</td>\n",
       "      <td>0</td>\n",
       "      <td>162117</td>\n",
       "      <td>0</td>\n",
       "      <td>318313</td>\n",
       "    </tr>\n",
       "    <tr>\n",
       "      <th>2</th>\n",
       "      <td>XaPbt</td>\n",
       "      <td>cholesterol-1</td>\n",
       "      <td>0</td>\n",
       "      <td>277682</td>\n",
       "      <td>0</td>\n",
       "      <td>433373</td>\n",
       "    </tr>\n",
       "    <tr>\n",
       "      <th>3</th>\n",
       "      <td>X772q</td>\n",
       "      <td>cholesterol-2</td>\n",
       "      <td>1</td>\n",
       "      <td>1318247</td>\n",
       "      <td>2461</td>\n",
       "      <td>2190591</td>\n",
       "    </tr>\n",
       "    <tr>\n",
       "      <th>4</th>\n",
       "      <td>XE2eB</td>\n",
       "      <td>bilirubin</td>\n",
       "      <td>1</td>\n",
       "      <td>3531635</td>\n",
       "      <td>2522</td>\n",
       "      <td>6954120</td>\n",
       "    </tr>\n",
       "    <tr>\n",
       "      <th>5</th>\n",
       "      <td>X772q</td>\n",
       "      <td>cholesterol-2</td>\n",
       "      <td>0</td>\n",
       "      <td>50764</td>\n",
       "      <td>0</td>\n",
       "      <td>74968</td>\n",
       "    </tr>\n",
       "  </tbody>\n",
       "</table>\n",
       "</div>"
      ],
      "text/plain": [
       "  CTV3Code           name  patient_currently_registered  total_patients  \\\n",
       "0    XaPbt  cholesterol-1                             1         6873365   \n",
       "1    XE2eB      bilirubin                             0          162117   \n",
       "2    XaPbt  cholesterol-1                             0          277682   \n",
       "3    X772q  cholesterol-2                             1         1318247   \n",
       "4    XE2eB      bilirubin                             1         3531635   \n",
       "5    X772q  cholesterol-2                             0           50764   \n",
       "\n",
       "   total_practices    events  \n",
       "0             2536  12306867  \n",
       "1                0    318313  \n",
       "2                0    433373  \n",
       "3             2461   2190591  \n",
       "4             2522   6954120  \n",
       "5                0     74968  "
      ]
     },
     "execution_count": 4,
     "metadata": {},
     "output_type": "execute_result"
    }
   ],
   "source": [
    "sql1 = '''-- patient registrations\n",
    "    SELECT\n",
    "    Patient_ID,\n",
    "    Organisation_ID AS Practice_ID,\n",
    "    ROW_NUMBER() OVER (partition by Patient_ID ORDER BY StartDate DESC, EndDate DESC) AS registration_date_rank -- row_num gives unique results\n",
    "    INTO #reg\n",
    "    FROM RegistrationHistory\n",
    "    WHERE YEAR(EndDate) = '9999'; -- live registrations only\n",
    "    '''\n",
    "\n",
    "sql2 = '''-- practice list size\n",
    "    SELECT\n",
    "    Organisation_ID AS Practice_ID,\n",
    "    COUNT(DISTINCT Patient_ID) AS list_size\n",
    "    INTO #listsize\n",
    "    FROM RegistrationHistory\n",
    "    WHERE YEAR(EndDate) = '9999' -- live registrations only  \n",
    "    GROUP BY Organisation_ID\n",
    "    '''\n",
    "\n",
    "sql3 = f'''select \n",
    "    CTV3Code,\n",
    "    CASE CTV3Code\n",
    "      WHEN 'X772q' THEN 'cholesterol-2'\n",
    "      WHEN 'XaPbt' THEN 'cholesterol-1'\n",
    "      WHEN 'XE2eB' THEN 'bilirubin'\n",
    "      END AS name,\n",
    "    --DATEFROMPARTS(YEAR(ConsultationDate),MONTH(ConsultationDate),1) AS month, \n",
    "    CASE WHEN r.Practice_ID IS NOT NULL THEN 1 ELSE 0 END AS patient_currently_registered,\n",
    "    COUNT(DISTINCT e.Patient_ID) as total_patients,\n",
    "    COUNT(DISTINCT r.Practice_ID) as total_practices,\n",
    "    count(*) as events\n",
    "    --l.list_size as denominator\n",
    "    --INTO #main\n",
    "    FROM CodedEvent e\n",
    "    LEFT JOIN #reg r ON e.Patient_ID = r.Patient_ID AND r.registration_date_rank = 1\n",
    "    LEFT JOIN #listsize l ON r.Practice_ID = l.Practice_ID\n",
    "    WHERE \n",
    "    ConsultationDate IS NOT NULL \n",
    "    AND CTV3Code IN ('X772q', 'XaPbt', 'XE2eB')\n",
    "    AND ConsultationDate >= '20190101' \n",
    "    AND ConsultationDate < '20210101'\n",
    "    GROUP BY \n",
    "    CTV3Code,     \n",
    "    CASE CTV3Code\n",
    "      WHEN 'X772q' THEN 'cholesterol-2'\n",
    "      WHEN 'XaPbt' THEN 'cholesterol-1'\n",
    "      WHEN 'XE2eB' THEN 'bilirubin'\n",
    "      END,\n",
    "    CASE WHEN r.Practice_ID IS NOT NULL THEN 1 ELSE 0 END--,\n",
    "    --DATEFROMPARTS(YEAR(ConsultationDate), MONTH(ConsultationDate), 1)--, \n",
    "    --    r.Practice_ID, l.list_size\n",
    "    --ORDER BY month\n",
    "    '''\n",
    "\n",
    "with closing_connection(dbconn) as connection:\n",
    "    connection.execute(sql1) # patient registrations\n",
    "    connection.execute(sql2) # practice list size\n",
    "    df_new = pd.read_sql(sql3, connection)\n",
    "    \n",
    "df_new"
   ]
  },
  {
   "cell_type": "code",
   "execution_count": 81,
   "metadata": {},
   "outputs": [
    {
     "data": {
      "text/html": [
       "<div>\n",
       "<style scoped>\n",
       "    .dataframe tbody tr th:only-of-type {\n",
       "        vertical-align: middle;\n",
       "    }\n",
       "\n",
       "    .dataframe tbody tr th {\n",
       "        vertical-align: top;\n",
       "    }\n",
       "\n",
       "    .dataframe thead tr th {\n",
       "        text-align: left;\n",
       "    }\n",
       "\n",
       "    .dataframe thead tr:last-of-type th {\n",
       "        text-align: right;\n",
       "    }\n",
       "</style>\n",
       "<table border=\"1\" class=\"dataframe\">\n",
       "  <thead>\n",
       "    <tr>\n",
       "      <th>patient_currently_registered</th>\n",
       "      <th colspan=\"3\" halign=\"left\">percent_with_no_current_reg</th>\n",
       "    </tr>\n",
       "    <tr>\n",
       "      <th>name</th>\n",
       "      <th>bilirubin</th>\n",
       "      <th>cholesterol-1</th>\n",
       "      <th>cholesterol-2</th>\n",
       "    </tr>\n",
       "    <tr>\n",
       "      <th>month</th>\n",
       "      <th></th>\n",
       "      <th></th>\n",
       "      <th></th>\n",
       "    </tr>\n",
       "  </thead>\n",
       "  <tbody>\n",
       "    <tr>\n",
       "      <th>2019-01-01</th>\n",
       "      <td>8.0</td>\n",
       "      <td>6.0</td>\n",
       "      <td>6.0</td>\n",
       "    </tr>\n",
       "    <tr>\n",
       "      <th>2019-02-01</th>\n",
       "      <td>7.0</td>\n",
       "      <td>6.0</td>\n",
       "      <td>6.0</td>\n",
       "    </tr>\n",
       "    <tr>\n",
       "      <th>2019-03-01</th>\n",
       "      <td>7.0</td>\n",
       "      <td>5.0</td>\n",
       "      <td>5.0</td>\n",
       "    </tr>\n",
       "    <tr>\n",
       "      <th>2019-04-01</th>\n",
       "      <td>6.0</td>\n",
       "      <td>5.0</td>\n",
       "      <td>5.0</td>\n",
       "    </tr>\n",
       "    <tr>\n",
       "      <th>2019-05-01</th>\n",
       "      <td>6.0</td>\n",
       "      <td>5.0</td>\n",
       "      <td>5.0</td>\n",
       "    </tr>\n",
       "  </tbody>\n",
       "</table>\n",
       "</div>"
      ],
      "text/plain": [
       "patient_currently_registered percent_with_no_current_reg                \\\n",
       "name                                           bilirubin cholesterol-1   \n",
       "month                                                                    \n",
       "2019-01-01                                           8.0           6.0   \n",
       "2019-02-01                                           7.0           6.0   \n",
       "2019-03-01                                           7.0           5.0   \n",
       "2019-04-01                                           6.0           5.0   \n",
       "2019-05-01                                           6.0           5.0   \n",
       "\n",
       "patient_currently_registered                \n",
       "name                         cholesterol-2  \n",
       "month                                       \n",
       "2019-01-01                             6.0  \n",
       "2019-02-01                             6.0  \n",
       "2019-03-01                             5.0  \n",
       "2019-04-01                             5.0  \n",
       "2019-05-01                             5.0  "
      ]
     },
     "metadata": {},
     "output_type": "display_data"
    },
    {
     "data": {
      "text/html": [
       "<div>\n",
       "<style scoped>\n",
       "    .dataframe tbody tr th:only-of-type {\n",
       "        vertical-align: middle;\n",
       "    }\n",
       "\n",
       "    .dataframe tbody tr th {\n",
       "        vertical-align: top;\n",
       "    }\n",
       "\n",
       "    .dataframe thead tr th {\n",
       "        text-align: left;\n",
       "    }\n",
       "\n",
       "    .dataframe thead tr:last-of-type th {\n",
       "        text-align: right;\n",
       "    }\n",
       "</style>\n",
       "<table border=\"1\" class=\"dataframe\">\n",
       "  <thead>\n",
       "    <tr>\n",
       "      <th>patient_currently_registered</th>\n",
       "      <th colspan=\"3\" halign=\"left\">percent_with_no_current_reg</th>\n",
       "    </tr>\n",
       "    <tr>\n",
       "      <th>name</th>\n",
       "      <th>bilirubin</th>\n",
       "      <th>cholesterol-1</th>\n",
       "      <th>cholesterol-2</th>\n",
       "    </tr>\n",
       "    <tr>\n",
       "      <th>month</th>\n",
       "      <th></th>\n",
       "      <th></th>\n",
       "      <th></th>\n",
       "    </tr>\n",
       "  </thead>\n",
       "  <tbody>\n",
       "    <tr>\n",
       "      <th>2020-06-01</th>\n",
       "      <td>2.0</td>\n",
       "      <td>1.0</td>\n",
       "      <td>1.0</td>\n",
       "    </tr>\n",
       "    <tr>\n",
       "      <th>2020-07-01</th>\n",
       "      <td>2.0</td>\n",
       "      <td>1.0</td>\n",
       "      <td>1.0</td>\n",
       "    </tr>\n",
       "    <tr>\n",
       "      <th>2020-08-01</th>\n",
       "      <td>1.0</td>\n",
       "      <td>1.0</td>\n",
       "      <td>1.0</td>\n",
       "    </tr>\n",
       "    <tr>\n",
       "      <th>2020-09-01</th>\n",
       "      <td>0.0</td>\n",
       "      <td>0.0</td>\n",
       "      <td>0.0</td>\n",
       "    </tr>\n",
       "    <tr>\n",
       "      <th>2020-10-01</th>\n",
       "      <td>0.0</td>\n",
       "      <td>0.0</td>\n",
       "      <td>0.0</td>\n",
       "    </tr>\n",
       "  </tbody>\n",
       "</table>\n",
       "</div>"
      ],
      "text/plain": [
       "patient_currently_registered percent_with_no_current_reg                \\\n",
       "name                                           bilirubin cholesterol-1   \n",
       "month                                                                    \n",
       "2020-06-01                                           2.0           1.0   \n",
       "2020-07-01                                           2.0           1.0   \n",
       "2020-08-01                                           1.0           1.0   \n",
       "2020-09-01                                           0.0           0.0   \n",
       "2020-10-01                                           0.0           0.0   \n",
       "\n",
       "patient_currently_registered                \n",
       "name                         cholesterol-2  \n",
       "month                                       \n",
       "2020-06-01                             1.0  \n",
       "2020-07-01                             1.0  \n",
       "2020-08-01                             1.0  \n",
       "2020-09-01                             0.0  \n",
       "2020-10-01                             0.0  "
      ]
     },
     "metadata": {},
     "output_type": "display_data"
    }
   ],
   "source": [
    "dff2 = df_new.copy()\n",
    "dff2 = dff2.set_index([\"month\", \"name\",\"patient_currently_registered\"])[[\"events\"]].unstack()\n",
    "dff2.columns= dff2.columns.droplevel()\n",
    "dff2[\"percent_with_no_current_reg\"] = 100*(dff2[0]/(dff2[0]+dff2[1])).round(2)\n",
    "display(dff2[[\"percent_with_no_current_reg\"]].unstack().sort_index().head(5))\n",
    "display(dff2[[\"percent_with_no_current_reg\"]].unstack().sort_index().tail(5))"
   ]
  },
  {
   "cell_type": "code",
   "execution_count": 83,
   "metadata": {},
   "outputs": [
    {
     "data": {
      "text/html": [
       "<div>\n",
       "<style scoped>\n",
       "    .dataframe tbody tr th:only-of-type {\n",
       "        vertical-align: middle;\n",
       "    }\n",
       "\n",
       "    .dataframe tbody tr th {\n",
       "        vertical-align: top;\n",
       "    }\n",
       "\n",
       "    .dataframe thead th {\n",
       "        text-align: right;\n",
       "    }\n",
       "</style>\n",
       "<table border=\"1\" class=\"dataframe\">\n",
       "  <thead>\n",
       "    <tr style=\"text-align: right;\">\n",
       "      <th>name</th>\n",
       "      <th>bilirubin</th>\n",
       "      <th>cholesterol-1</th>\n",
       "      <th>cholesterol-2</th>\n",
       "    </tr>\n",
       "    <tr>\n",
       "      <th>month</th>\n",
       "      <th></th>\n",
       "      <th></th>\n",
       "      <th></th>\n",
       "    </tr>\n",
       "  </thead>\n",
       "  <tbody>\n",
       "    <tr>\n",
       "      <th>2019-01-01</th>\n",
       "      <td>2261</td>\n",
       "      <td>2530</td>\n",
       "      <td>1768</td>\n",
       "    </tr>\n",
       "    <tr>\n",
       "      <th>2019-02-01</th>\n",
       "      <td>2254</td>\n",
       "      <td>2530</td>\n",
       "      <td>1633</td>\n",
       "    </tr>\n",
       "    <tr>\n",
       "      <th>2019-03-01</th>\n",
       "      <td>2250</td>\n",
       "      <td>2531</td>\n",
       "      <td>1639</td>\n",
       "    </tr>\n",
       "    <tr>\n",
       "      <th>2019-04-01</th>\n",
       "      <td>2225</td>\n",
       "      <td>2530</td>\n",
       "      <td>1504</td>\n",
       "    </tr>\n",
       "    <tr>\n",
       "      <th>2019-05-01</th>\n",
       "      <td>2216</td>\n",
       "      <td>2530</td>\n",
       "      <td>1515</td>\n",
       "    </tr>\n",
       "    <tr>\n",
       "      <th>2019-06-01</th>\n",
       "      <td>2184</td>\n",
       "      <td>2533</td>\n",
       "      <td>1514</td>\n",
       "    </tr>\n",
       "    <tr>\n",
       "      <th>2019-07-01</th>\n",
       "      <td>2195</td>\n",
       "      <td>2533</td>\n",
       "      <td>1534</td>\n",
       "    </tr>\n",
       "    <tr>\n",
       "      <th>2019-08-01</th>\n",
       "      <td>2145</td>\n",
       "      <td>2533</td>\n",
       "      <td>1419</td>\n",
       "    </tr>\n",
       "    <tr>\n",
       "      <th>2019-09-01</th>\n",
       "      <td>2095</td>\n",
       "      <td>2529</td>\n",
       "      <td>1393</td>\n",
       "    </tr>\n",
       "    <tr>\n",
       "      <th>2019-10-01</th>\n",
       "      <td>2102</td>\n",
       "      <td>2528</td>\n",
       "      <td>1429</td>\n",
       "    </tr>\n",
       "    <tr>\n",
       "      <th>2019-11-01</th>\n",
       "      <td>2043</td>\n",
       "      <td>2530</td>\n",
       "      <td>1348</td>\n",
       "    </tr>\n",
       "    <tr>\n",
       "      <th>2019-12-01</th>\n",
       "      <td>1979</td>\n",
       "      <td>2527</td>\n",
       "      <td>1188</td>\n",
       "    </tr>\n",
       "    <tr>\n",
       "      <th>2020-01-01</th>\n",
       "      <td>2017</td>\n",
       "      <td>2534</td>\n",
       "      <td>1334</td>\n",
       "    </tr>\n",
       "    <tr>\n",
       "      <th>2020-02-01</th>\n",
       "      <td>1959</td>\n",
       "      <td>2532</td>\n",
       "      <td>1234</td>\n",
       "    </tr>\n",
       "    <tr>\n",
       "      <th>2020-03-01</th>\n",
       "      <td>1826</td>\n",
       "      <td>2530</td>\n",
       "      <td>1045</td>\n",
       "    </tr>\n",
       "    <tr>\n",
       "      <th>2020-04-01</th>\n",
       "      <td>1498</td>\n",
       "      <td>2515</td>\n",
       "      <td>692</td>\n",
       "    </tr>\n",
       "    <tr>\n",
       "      <th>2020-05-01</th>\n",
       "      <td>1648</td>\n",
       "      <td>2525</td>\n",
       "      <td>809</td>\n",
       "    </tr>\n",
       "    <tr>\n",
       "      <th>2020-06-01</th>\n",
       "      <td>1690</td>\n",
       "      <td>2526</td>\n",
       "      <td>889</td>\n",
       "    </tr>\n",
       "    <tr>\n",
       "      <th>2020-07-01</th>\n",
       "      <td>1706</td>\n",
       "      <td>2528</td>\n",
       "      <td>903</td>\n",
       "    </tr>\n",
       "    <tr>\n",
       "      <th>2020-08-01</th>\n",
       "      <td>1604</td>\n",
       "      <td>2528</td>\n",
       "      <td>827</td>\n",
       "    </tr>\n",
       "    <tr>\n",
       "      <th>2020-09-01</th>\n",
       "      <td>1511</td>\n",
       "      <td>2526</td>\n",
       "      <td>783</td>\n",
       "    </tr>\n",
       "    <tr>\n",
       "      <th>2020-10-01</th>\n",
       "      <td>1358</td>\n",
       "      <td>2525</td>\n",
       "      <td>629</td>\n",
       "    </tr>\n",
       "  </tbody>\n",
       "</table>\n",
       "</div>"
      ],
      "text/plain": [
       "name        bilirubin  cholesterol-1  cholesterol-2\n",
       "month                                              \n",
       "2019-01-01       2261           2530           1768\n",
       "2019-02-01       2254           2530           1633\n",
       "2019-03-01       2250           2531           1639\n",
       "2019-04-01       2225           2530           1504\n",
       "2019-05-01       2216           2530           1515\n",
       "2019-06-01       2184           2533           1514\n",
       "2019-07-01       2195           2533           1534\n",
       "2019-08-01       2145           2533           1419\n",
       "2019-09-01       2095           2529           1393\n",
       "2019-10-01       2102           2528           1429\n",
       "2019-11-01       2043           2530           1348\n",
       "2019-12-01       1979           2527           1188\n",
       "2020-01-01       2017           2534           1334\n",
       "2020-02-01       1959           2532           1234\n",
       "2020-03-01       1826           2530           1045\n",
       "2020-04-01       1498           2515            692\n",
       "2020-05-01       1648           2525            809\n",
       "2020-06-01       1690           2526            889\n",
       "2020-07-01       1706           2528            903\n",
       "2020-08-01       1604           2528            827\n",
       "2020-09-01       1511           2526            783\n",
       "2020-10-01       1358           2525            629"
      ]
     },
     "execution_count": 83,
     "metadata": {},
     "output_type": "execute_result"
    },
    {
     "data": {
      "image/png": "[encoded data removed]",
      "text/plain": [
       "<Figure size 432x288 with 1 Axes>"
      ]
     },
     "metadata": {
      "needs_background": "light"
     },
     "output_type": "display_data"
    }
   ],
   "source": [
    "dff3 = df_new.copy()\n",
    "dff3 = dff3.groupby([\"month\", \"name\"])[[\"total_practices\"]].sum().unstack()\n",
    "dff3.columns= dff3.columns.droplevel()\n",
    "#dff2[\"percent_with_no_current_reg\"] = 100*(dff2[0]/(dff2[0]+dff2[1])).round(2)\n",
    "#display(dff2.sort_index().head(15))\n",
    "#display(dff2.sort_index().tail(15))\n",
    "dff3[\"bilirubin\"].plot(legend=True, title=\"practice_count\")\n",
    "dff3[\"cholesterol-1\"].plot(legend=True)\n",
    "dff3[\"cholesterol-2\"].plot(legend=True)\n",
    "\n",
    "dff3"
   ]
  },
  {
   "cell_type": "code",
   "execution_count": 44,
   "metadata": {
    "lines_to_next_cell": 2
   },
   "outputs": [
    {
     "data": {
      "text/plain": [
       "<matplotlib.axes._subplots.AxesSubplot at 0x7fc718b62ac0>"
      ]
     },
     "execution_count": 44,
     "metadata": {},
     "output_type": "execute_result"
    },
    {
     "data": {
      "image/png": "[encoded data removed]",
      "text/plain": [
       "<Figure size 432x288 with 1 Axes>"
      ]
     },
     "metadata": {
      "needs_background": "light"
     },
     "output_type": "display_data"
    }
   ],
   "source": [
    "\n",
    "df0 = df.copy().set_index(\"month\")\n",
    "df0 = df0.loc[df0.index < date(2020,12,1)]\n",
    "df1 = df0[df0[\"name\"]==\"bilirubin\"].sort_index()\n",
    "df2 = df0[df0[\"name\"]==\"cholesterol-1\"].sort_index()\n",
    "df3 = df0[df0[\"name\"]==\"cholesterol-2\"].sort_index()\n",
    "\n",
    "df1[\"events\"].plot(label=\"bilirubin\", legend=True)\n",
    "df2[\"events\"].plot(label=\"cholesterol-1\", legend=True)\n",
    "df3[\"events\"].plot(label=\"cholesterol-2\", legend=True)"
   ]
  },
  {
   "cell_type": "code",
   "execution_count": 2,
   "metadata": {},
   "outputs": [
    {
     "data": {
      "text/markdown": [
       "High level codes: 2"
      ],
      "text/plain": [
       "<IPython.core.display.Markdown object>"
      ]
     },
     "metadata": {},
     "output_type": "display_data"
    },
    {
     "data": {
      "text/markdown": [
       "Detailed codes: 484"
      ],
      "text/plain": [
       "<IPython.core.display.Markdown object>"
      ]
     },
     "metadata": {},
     "output_type": "display_data"
    },
    {
     "data": {
      "text/markdown": [
       "# --- \n",
       " # Category: Mental health disorder"
      ],
      "text/plain": [
       "<IPython.core.display.Markdown object>"
      ]
     },
     "metadata": {},
     "output_type": "display_data"
    },
    {
     "data": {
      "text/markdown": [
       "Total events: 0.25 m"
      ],
      "text/plain": [
       "<IPython.core.display.Markdown object>"
      ]
     },
     "metadata": {},
     "output_type": "display_data"
    },
    {
     "data": {
      "text/markdown": [
       "## Contents:"
      ],
      "text/plain": [
       "<IPython.core.display.Markdown object>"
      ]
     },
     "metadata": {},
     "output_type": "display_data"
    },
    {
     "data": {
      "text/html": [
       "<div>\n",
       "<style scoped>\n",
       "    .dataframe tbody tr th:only-of-type {\n",
       "        vertical-align: middle;\n",
       "    }\n",
       "\n",
       "    .dataframe tbody tr th {\n",
       "        vertical-align: top;\n",
       "    }\n",
       "\n",
       "    .dataframe thead th {\n",
       "        text-align: right;\n",
       "    }\n",
       "</style>\n",
       "<table border=\"1\" class=\"dataframe\">\n",
       "  <thead>\n",
       "    <tr style=\"text-align: right;\">\n",
       "      <th></th>\n",
       "      <th>first_digits</th>\n",
       "      <th>Description</th>\n",
       "      <th>2020 events (mill)</th>\n",
       "    </tr>\n",
       "  </thead>\n",
       "  <tbody>\n",
       "    <tr>\n",
       "      <th>48</th>\n",
       "      <td>E2</td>\n",
       "      <td>Neurotic, personality and other nonpsychotic d...</td>\n",
       "      <td>0.25</td>\n",
       "    </tr>\n",
       "  </tbody>\n",
       "</table>\n",
       "</div>"
      ],
      "text/plain": [
       "   first_digits                                        Description  \\\n",
       "48           E2  Neurotic, personality and other nonpsychotic d...   \n",
       "\n",
       "    2020 events (mill)  \n",
       "48                0.25  "
      ]
     },
     "metadata": {},
     "output_type": "display_data"
    },
    {
     "data": {
      "text/markdown": [
       "## \"E2\" - Neurotic, personality and other nonpsychotic disorders \n",
       " ### (Practices included: 2.5k (100.0%); 2020 events: 0.25m)"
      ],
      "text/plain": [
       "<IPython.core.display.Markdown object>"
      ]
     },
     "metadata": {},
     "output_type": "display_data"
    },
    {
     "data": {
      "text/markdown": [
       "Feb median: 1.2 (IDR 2.3), April median: 0.6 (IDR 1.7), September median: 0.9 (IDR 2.1)"
      ],
      "text/plain": [
       "<IPython.core.display.Markdown object>"
      ]
     },
     "metadata": {},
     "output_type": "display_data"
    },
    {
     "data": {
      "text/markdown": [
       "Change from 2019: April -46.1% (Small drop); September -27.9%, (Small drop); Overall classification: **Sustained drop**"
      ],
      "text/plain": [
       "<IPython.core.display.Markdown object>"
      ]
     },
     "metadata": {},
     "output_type": "display_data"
    },
    {
     "data": {
      "image/png": "[encoded data removed]",
      "text/plain": [
       "<Figure size 432x288 with 1 Axes>"
      ]
     },
     "metadata": {},
     "output_type": "display_data"
    },
    {
     "data": {
      "text/markdown": [
       "Top codes represented in chart above:"
      ],
      "text/plain": [
       "<IPython.core.display.Markdown object>"
      ]
     },
     "metadata": {},
     "output_type": "display_data"
    },
    {
     "data": {
      "text/html": [
       "<div>\n",
       "<style scoped>\n",
       "    .dataframe tbody tr th:only-of-type {\n",
       "        vertical-align: middle;\n",
       "    }\n",
       "\n",
       "    .dataframe tbody tr th {\n",
       "        vertical-align: top;\n",
       "    }\n",
       "\n",
       "    .dataframe thead th {\n",
       "        text-align: right;\n",
       "    }\n",
       "</style>\n",
       "<table border=\"1\" class=\"dataframe\">\n",
       "  <thead>\n",
       "    <tr style=\"text-align: right;\">\n",
       "      <th></th>\n",
       "      <th>first_digits</th>\n",
       "      <th>2020 events (thou)</th>\n",
       "      <th>Description</th>\n",
       "    </tr>\n",
       "  </thead>\n",
       "  <tbody>\n",
       "    <tr>\n",
       "      <th>0</th>\n",
       "      <td>E200</td>\n",
       "      <td>85.0</td>\n",
       "      <td>Anxiety disorder</td>\n",
       "    </tr>\n",
       "    <tr>\n",
       "      <th>1</th>\n",
       "      <td>E200z</td>\n",
       "      <td>59.8</td>\n",
       "      <td>Anxiety state NOS</td>\n",
       "    </tr>\n",
       "    <tr>\n",
       "      <th>2</th>\n",
       "      <td>E2273</td>\n",
       "      <td>21.9</td>\n",
       "      <td>Erectile dysfunction</td>\n",
       "    </tr>\n",
       "    <tr>\n",
       "      <th>3</th>\n",
       "      <td>E2002</td>\n",
       "      <td>21.4</td>\n",
       "      <td>Generalised anxiety disorder</td>\n",
       "    </tr>\n",
       "    <tr>\n",
       "      <th>4</th>\n",
       "      <td>E2B</td>\n",
       "      <td>14.7</td>\n",
       "      <td>Depressive disorder NEC</td>\n",
       "    </tr>\n",
       "  </tbody>\n",
       "</table>\n",
       "</div>"
      ],
      "text/plain": [
       "  first_digits  2020 events (thou)                   Description\n",
       "0         E200                85.0              Anxiety disorder\n",
       "1        E200z                59.8             Anxiety state NOS\n",
       "2        E2273                21.9          Erectile dysfunction\n",
       "3        E2002                21.4  Generalised anxiety disorder\n",
       "4          E2B                14.7       Depressive disorder NEC"
      ]
     },
     "metadata": {},
     "output_type": "display_data"
    },
    {
     "data": {
      "text/markdown": [
       "### Trend in top sub-code: E200 - Anxiety disorder"
      ],
      "text/plain": [
       "<IPython.core.display.Markdown object>"
      ]
     },
     "metadata": {},
     "output_type": "display_data"
    },
    {
     "data": {
      "image/png": "[encoded data removed]",
      "text/plain": [
       "<Figure size 432x288 with 1 Axes>"
      ]
     },
     "metadata": {},
     "output_type": "display_data"
    },
    {
     "data": {
      "text/markdown": [
       "# --- \n",
       " # Category: Operations, procedures and interventions"
      ],
      "text/plain": [
       "<IPython.core.display.Markdown object>"
      ]
     },
     "metadata": {},
     "output_type": "display_data"
    },
    {
     "data": {
      "text/markdown": [
       "Total events: 0.04 m"
      ],
      "text/plain": [
       "<IPython.core.display.Markdown object>"
      ]
     },
     "metadata": {},
     "output_type": "display_data"
    },
    {
     "data": {
      "text/markdown": [
       "## Contents:"
      ],
      "text/plain": [
       "<IPython.core.display.Markdown object>"
      ]
     },
     "metadata": {},
     "output_type": "display_data"
    },
    {
     "data": {
      "text/html": [
       "<div>\n",
       "<style scoped>\n",
       "    .dataframe tbody tr th:only-of-type {\n",
       "        vertical-align: middle;\n",
       "    }\n",
       "\n",
       "    .dataframe tbody tr th {\n",
       "        vertical-align: top;\n",
       "    }\n",
       "\n",
       "    .dataframe thead th {\n",
       "        text-align: right;\n",
       "    }\n",
       "</style>\n",
       "<table border=\"1\" class=\"dataframe\">\n",
       "  <thead>\n",
       "    <tr style=\"text-align: right;\">\n",
       "      <th></th>\n",
       "      <th>first_digits</th>\n",
       "      <th>Description</th>\n",
       "      <th>2020 events (mill)</th>\n",
       "    </tr>\n",
       "  </thead>\n",
       "  <tbody>\n",
       "    <tr>\n",
       "      <th>117</th>\n",
       "      <td>28</td>\n",
       "      <td>Nervous system and mental state general examin...</td>\n",
       "      <td>0.04</td>\n",
       "    </tr>\n",
       "  </tbody>\n",
       "</table>\n",
       "</div>"
      ],
      "text/plain": [
       "    first_digits                                        Description  \\\n",
       "117           28  Nervous system and mental state general examin...   \n",
       "\n",
       "     2020 events (mill)  \n",
       "117                0.04  "
      ]
     },
     "metadata": {},
     "output_type": "display_data"
    },
    {
     "name": "stderr",
     "output_type": "stream",
     "text": [
      "../lib/functions.py:389: RuntimeWarning: invalid value encountered in double_scalars\n",
      "  clfy2[\"peak\"] = 100*(clfy[date(2020,4,1)]-clfy[date(2019,4,1)])/clfy[date(2019,4,1)]\n"
     ]
    },
    {
     "data": {
      "text/markdown": [
       "## \"28\" - Nervous system and mental state general examination \n",
       " ### (Practices included: 2.3k (89.7%); 2020 events: 0.04m)"
      ],
      "text/plain": [
       "<IPython.core.display.Markdown object>"
      ]
     },
     "metadata": {},
     "output_type": "display_data"
    },
    {
     "data": {
      "text/markdown": [
       "Feb median: 0.0 (IDR 1.1), April median: 0.0 (IDR 0.2), September median: 0.0 (IDR 0.4)"
      ],
      "text/plain": [
       "<IPython.core.display.Markdown object>"
      ]
     },
     "metadata": {},
     "output_type": "display_data"
    },
    {
     "data": {
      "text/markdown": [
       "Change from 2019: April nan% (Other); September 0.0%, (No change); Overall classification: **Other**"
      ],
      "text/plain": [
       "<IPython.core.display.Markdown object>"
      ]
     },
     "metadata": {},
     "output_type": "display_data"
    },
    {
     "data": {
      "image/png": "[encoded data removed]",
      "text/plain": [
       "<Figure size 432x288 with 1 Axes>"
      ]
     },
     "metadata": {},
     "output_type": "display_data"
    },
    {
     "data": {
      "text/markdown": [
       "Top codes represented in chart above:"
      ],
      "text/plain": [
       "<IPython.core.display.Markdown object>"
      ]
     },
     "metadata": {},
     "output_type": "display_data"
    },
    {
     "data": {
      "text/html": [
       "<div>\n",
       "<style scoped>\n",
       "    .dataframe tbody tr th:only-of-type {\n",
       "        vertical-align: middle;\n",
       "    }\n",
       "\n",
       "    .dataframe tbody tr th {\n",
       "        vertical-align: top;\n",
       "    }\n",
       "\n",
       "    .dataframe thead th {\n",
       "        text-align: right;\n",
       "    }\n",
       "</style>\n",
       "<table border=\"1\" class=\"dataframe\">\n",
       "  <thead>\n",
       "    <tr style=\"text-align: right;\">\n",
       "      <th></th>\n",
       "      <th>first_digits</th>\n",
       "      <th>2020 events (thou)</th>\n",
       "      <th>Description</th>\n",
       "    </tr>\n",
       "  </thead>\n",
       "  <tbody>\n",
       "  </tbody>\n",
       "</table>\n",
       "</div>"
      ],
      "text/plain": [
       "Empty DataFrame\n",
       "Columns: [first_digits, 2020 events (thou), Description]\n",
       "Index: []"
      ]
     },
     "metadata": {},
     "output_type": "display_data"
    }
   ],
   "source": [
    "keywords = [\"Nervous system and mental state\", \"Neurotic, personality and other nonpsychotic disorders\"]\n",
    "highlevel, detailed = load_filter_codelists(keywords=keywords)\n",
    "\n",
    "# descriptions for ctv3 codes    \n",
    "codes = pd.read_csv(os.path.join('..','data','code_dictionary.csv'))\n",
    "\n",
    "plotting_all(highlevel, codes, 3, 1000, dbconn, True)\n",
    "\n"
   ]
  },
  {
   "cell_type": "code",
   "execution_count": 4,
   "metadata": {},
   "outputs": [
    {
     "data": {
      "text/markdown": [
       "## Load list of common codes from csv and filter to Mental Health activity only"
      ],
      "text/plain": [
       "<IPython.core.display.Markdown object>"
      ]
     },
     "metadata": {},
     "output_type": "display_data"
    },
    {
     "data": {
      "text/markdown": [
       "High level codes: 14"
      ],
      "text/plain": [
       "<IPython.core.display.Markdown object>"
      ]
     },
     "metadata": {},
     "output_type": "display_data"
    },
    {
     "data": {
      "text/markdown": [
       "Detailed codes: 3"
      ],
      "text/plain": [
       "<IPython.core.display.Markdown object>"
      ]
     },
     "metadata": {},
     "output_type": "display_data"
    },
    {
     "data": {
      "text/html": [
       "<div>\n",
       "<style scoped>\n",
       "    .dataframe tbody tr th:only-of-type {\n",
       "        vertical-align: middle;\n",
       "    }\n",
       "\n",
       "    .dataframe tbody tr th {\n",
       "        vertical-align: top;\n",
       "    }\n",
       "\n",
       "    .dataframe thead th {\n",
       "        text-align: right;\n",
       "    }\n",
       "</style>\n",
       "<table border=\"1\" class=\"dataframe\">\n",
       "  <thead>\n",
       "    <tr style=\"text-align: right;\">\n",
       "      <th></th>\n",
       "      <th>first_digits</th>\n",
       "      <th>parent_code</th>\n",
       "      <th>2020 events (thou)</th>\n",
       "      <th>Description</th>\n",
       "    </tr>\n",
       "  </thead>\n",
       "  <tbody>\n",
       "    <tr>\n",
       "      <th>0</th>\n",
       "      <td>E200</td>\n",
       "      <td>E2</td>\n",
       "      <td>85.0</td>\n",
       "      <td>Anxiety disorder</td>\n",
       "    </tr>\n",
       "    <tr>\n",
       "      <th>1</th>\n",
       "      <td>E200z</td>\n",
       "      <td>E2</td>\n",
       "      <td>59.8</td>\n",
       "      <td>Anxiety state NOS</td>\n",
       "    </tr>\n",
       "    <tr>\n",
       "      <th>2</th>\n",
       "      <td>E2273</td>\n",
       "      <td>E2</td>\n",
       "      <td>21.9</td>\n",
       "      <td>Erectile dysfunction</td>\n",
       "    </tr>\n",
       "    <tr>\n",
       "      <th>3</th>\n",
       "      <td>E2002</td>\n",
       "      <td>E2</td>\n",
       "      <td>21.4</td>\n",
       "      <td>Generalised anxiety disorder</td>\n",
       "    </tr>\n",
       "    <tr>\n",
       "      <th>4</th>\n",
       "      <td>E2B</td>\n",
       "      <td>E2</td>\n",
       "      <td>14.7</td>\n",
       "      <td>Depressive disorder NEC</td>\n",
       "    </tr>\n",
       "    <tr>\n",
       "      <th>...</th>\n",
       "      <td>...</td>\n",
       "      <td>...</td>\n",
       "      <td>...</td>\n",
       "      <td>...</td>\n",
       "    </tr>\n",
       "    <tr>\n",
       "      <th>68</th>\n",
       "      <td>d571</td>\n",
       "      <td>d5</td>\n",
       "      <td>1.3</td>\n",
       "      <td>Clopixol 200mg/1mL oily injection</td>\n",
       "    </tr>\n",
       "    <tr>\n",
       "      <th>69</th>\n",
       "      <td>d516</td>\n",
       "      <td>d5</td>\n",
       "      <td>1.1</td>\n",
       "      <td>Depixol Conc 100mg/1mL oily injection</td>\n",
       "    </tr>\n",
       "    <tr>\n",
       "      <th>70</th>\n",
       "      <td>E01y0</td>\n",
       "      <td>E0</td>\n",
       "      <td>3.2</td>\n",
       "      <td>Alcohol withdrawal syndrome</td>\n",
       "    </tr>\n",
       "    <tr>\n",
       "      <th>71</th>\n",
       "      <td>Ez</td>\n",
       "      <td>Ez</td>\n",
       "      <td>1.2</td>\n",
       "      <td>Mental disorders NOS</td>\n",
       "    </tr>\n",
       "    <tr>\n",
       "      <th>72</th>\n",
       "      <td>d4</td>\n",
       "      <td>d4</td>\n",
       "      <td>1.5</td>\n",
       "      <td>Antipsychotic drug</td>\n",
       "    </tr>\n",
       "  </tbody>\n",
       "</table>\n",
       "<p>73 rows × 4 columns</p>\n",
       "</div>"
      ],
      "text/plain": [
       "   first_digits parent_code  2020 events (thou)  \\\n",
       "0          E200          E2                85.0   \n",
       "1         E200z          E2                59.8   \n",
       "2         E2273          E2                21.9   \n",
       "3         E2002          E2                21.4   \n",
       "4           E2B          E2                14.7   \n",
       "..          ...         ...                 ...   \n",
       "68         d571          d5                 1.3   \n",
       "69         d516          d5                 1.1   \n",
       "70        E01y0          E0                 3.2   \n",
       "71           Ez          Ez                 1.2   \n",
       "72           d4          d4                 1.5   \n",
       "\n",
       "                              Description  \n",
       "0                        Anxiety disorder  \n",
       "1                       Anxiety state NOS  \n",
       "2                    Erectile dysfunction  \n",
       "3            Generalised anxiety disorder  \n",
       "4                 Depressive disorder NEC  \n",
       "..                                    ...  \n",
       "68      Clopixol 200mg/1mL oily injection  \n",
       "69  Depixol Conc 100mg/1mL oily injection  \n",
       "70            Alcohol withdrawal syndrome  \n",
       "71                   Mental disorders NOS  \n",
       "72                     Antipsychotic drug  \n",
       "\n",
       "[73 rows x 4 columns]"
      ]
     },
     "execution_count": 4,
     "metadata": {},
     "output_type": "execute_result"
    }
   ],
   "source": [
    "######################### customise ################################\n",
    "# Create lists of keywords and/or CTV3 concepts to filter codelist\n",
    "keywords = [\"mental\", \"learning\", \"dementia\", \"deleri\", \"psycho\", \"depress\", \"anxi\", \"cogn\"]\n",
    "concepts = [\"Mental health disorder\"]\n",
    "\n",
    "display(Markdown(f\"## Load list of common codes from csv and filter to Mental Health activity only\"))\n",
    "####################################################################\n",
    "\n",
    "\n",
    "highlevel, detailed = load_filter_codelists(keywords=keywords, concepts=concepts)\n",
    "\n",
    "subset = highlevel.copy()\n",
    "d = np.where(subset[\"digits\"].max()==5, 3, 2)\n",
    "c = subset.loc[subset[\"digits\"]==d] # select only codes with the min number of digits \n",
    "                                        # (either all are 2, or there is a mix of 3 & 5, where only the 3-digit ones need a list of sub codes producing)\n",
    "c = tuple(subset[\"first_digits\"])\n",
    "\n",
    "from functions import get_subcodes\n",
    "subcodes = get_subcodes(c, codes, d, 1000, dbconn)\n",
    "subcodes"
   ]
  }
 ],
 "metadata": {
  "jupytext": {
   "cell_metadata_filter": "all",
   "notebook_metadata_filter": "all,-language_info",
   "text_representation": {
    "extension": ".py",
    "format_name": "light",
    "format_version": "1.5",
    "jupytext_version": "1.3.3"
   }
  },
  "kernelspec": {
   "display_name": "Python 3",
   "language": "python",
   "name": "python3"
  },
  "language_info": {
   "codemirror_mode": {
    "name": "ipython",
    "version": 3
   },
   "file_extension": ".py",
   "mimetype": "text/x-python",
   "name": "python",
   "nbconvert_exporter": "python",
   "pygments_lexer": "ipython3",
   "version": "3.8.1"
  }
 },
 "nbformat": 4,
 "nbformat_minor": 4
}
