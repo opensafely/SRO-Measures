{
 "cells": [
  {
   "cell_type": "markdown",
   "metadata": {},
   "source": [
    "<h1 align=\"center\">Changes in sentinel measures of primary care activity during the pandemic</h1>\n",
    "\n",
    "The purpose of this notebook is to provide measures of overall activity at the practice level during the pandemic.\n",
    "\n",
    "The following sentinel measures are provided:\n",
    "* [Systolic BP](#systolic_bp)\n",
    "* [QRISK](#qrisk)\n",
    "* [Cholesterol](#cholesterol)\n",
    "* [Bilirubin](#bilirubin)\n",
    "* [Serum TSH](#serum_tsh)\n",
    "* [RBC/FBC](#rbc_fbc)\n",
    "* [HBa1c](#hba1c)\n",
    "* [Serum Sodium](#serum_sodium)\n",
    "* [Asthma](#asthma)\n",
    "\n"
   ]
  },
  {
   "cell_type": "code",
   "execution_count": 1,
   "metadata": {},
   "outputs": [],
   "source": [
    "import pandas as pd\n",
    "import matplotlib.pyplot as plt\n",
    "from ebmdatalab import charts\n",
    "from IPython.display import HTML\n",
    "from decimal import Decimal\n",
    "import numpy as np\n",
    "import json\n",
    "from utilities import *\n",
    "\n",
    "%matplotlib inline"
   ]
  },
  {
   "cell_type": "code",
   "execution_count": 2,
   "metadata": {},
   "outputs": [
    {
     "data": {
      "text/html": [
       "<script>\n",
       "code_show=true; \n",
       "function code_toggle() {\n",
       " if (code_show){\n",
       " $('div.input').hide();\n",
       " } else {\n",
       " $('div.input').show();\n",
       " }\n",
       " code_show = !code_show\n",
       "} \n",
       "$( document ).ready(code_toggle);\n",
       "</script>\n",
       "The raw code for this IPython notebook is by default hidden for easier reading.\n",
       "To toggle on/off the raw code, click <a href=\"javascript:code_toggle()\">here</a>."
      ],
      "text/plain": [
       "<IPython.core.display.HTML object>"
      ]
     },
     "execution_count": 2,
     "metadata": {},
     "output_type": "execute_result"
    }
   ],
   "source": [
    "HTML('''<script>\n",
    "code_show=true; \n",
    "function code_toggle() {\n",
    " if (code_show){\n",
    " $('div.input').hide();\n",
    " } else {\n",
    " $('div.input').show();\n",
    " }\n",
    " code_show = !code_show\n",
    "} \n",
    "$( document ).ready(code_toggle);\n",
    "</script>\n",
    "The raw code for this IPython notebook is by default hidden for easier reading.\n",
    "To toggle on/off the raw code, click <a href=\"javascript:code_toggle()\">here</a>.''')"
   ]
  },
  {
   "cell_type": "code",
   "execution_count": 7,
   "metadata": {},
   "outputs": [
    {
     "data": {
      "text/html": [
       "<script>\n",
       "code_show_err=false; \n",
       "function code_toggle_err() {\n",
       " if (code_show_err){\n",
       " $('div.output_stderr').hide();\n",
       " } else {\n",
       " $('div.output_stderr').show();\n",
       " }\n",
       " code_show_err = !code_show_err\n",
       "} \n",
       "$( document ).ready(code_toggle_err);\n",
       "</script>\n",
       "To toggle on/off output_stderr, click <a href=\"javascript:code_toggle_err()\">here</a>."
      ],
      "text/plain": [
       "<IPython.core.display.HTML object>"
      ]
     },
     "execution_count": 7,
     "metadata": {},
     "output_type": "execute_result"
    }
   ],
   "source": [
    "\n",
    "HTML('''<script>\n",
    "code_show_err=false; \n",
    "function code_toggle_err() {\n",
    " if (code_show_err){\n",
    " $('div.output_stderr').hide();\n",
    " } else {\n",
    " $('div.output_stderr').show();\n",
    " }\n",
    " code_show_err = !code_show_err\n",
    "} \n",
    "$( document ).ready(code_toggle_err);\n",
    "</script>\n",
    "To toggle on/off output_stderr, click <a href=\"javascript:code_toggle_err()\">here</a>.''')"
   ]
  },
  {
   "cell_type": "code",
   "execution_count": 2,
   "metadata": {},
   "outputs": [],
   "source": [
    "# code_df = pd.read_csv('../data/code_dictionary.csv')\n",
    "\n",
    "# example_code_df = pd.DataFrame(data=[[\"A\", \"Description A here\"], [\"B\", \"Description B here\"]], columns=[\"first_digits\", \"Description\"])\n",
    "\n",
    "sentinel_measures = [\"systolic_bp\", \"qrisk\", \"cholesterol\", \"bilirubin\", \"serum_tsh\", \"rbc_fbc\", \"hba1c\", \"serum_sodium\", \"asthma\"]\n",
    "sentinel_measures_test = [\"chronic_respiratory_disease\"]"
   ]
  },
  {
   "cell_type": "markdown",
   "metadata": {},
   "source": [
    "Load in the measures csv files for each sentinel measure.\n",
    "Convert datetime column\n",
    "Drop unwanted practices (not using code)"
   ]
  },
  {
   "cell_type": "code",
   "execution_count": 3,
   "metadata": {},
   "outputs": [],
   "source": [
    "data_dict = {}\n",
    "\n",
    "for measure in sentinel_measures_test:\n",
    "    df = pd.read_csv(f'../output/measure_{measure}.csv')\n",
    "    convert_datetime(df)\n",
    "    df = drop_irrelevant_practices(df)\n",
    "    data_dict[measure] = df\n",
    "    \n",
    "data_dict_practice = {}\n",
    "\n",
    "for measure in sentinel_measures_test:\n",
    "    df = pd.read_csv(f'../output/measure_{measure}_practice_only.csv')\n",
    "    convert_datetime(df)\n",
    "    df = drop_irrelevant_practices(df)\n",
    "    data_dict_practice[measure] = df\n",
    "    "
   ]
  },
  {
   "cell_type": "markdown",
   "metadata": {},
   "source": [
    "Load in codelist for each sentinel measure (to get descriptions)."
   ]
  },
  {
   "cell_type": "code",
   "execution_count": 4,
   "metadata": {},
   "outputs": [],
   "source": [
    "sentinel_measure_codelist_mapping_dict = {\"chronic_respiratory_disease\":\"opensafely-chronic-respiratory-disease\",\"systolic_bp\":\"systolic_bp\", \"qrisk\":\"qrisk\", \"cholesterol\": \"cholesterol\", \"bilirubin\": \"bilirubin\", \"serum_tsh\": \"serum_tsh\", \"rbc_fbc\": \"rbc_fbc\", \"hba1c\": \"hba1c\", \"serum_sodium\": \"serum_sodium\", \"asthma\": \"asthma\"}\n",
    "\n",
    "codelist_dict = {}\n",
    "for measure in sentinel_measures_test:\n",
    "    codelist_name = sentinel_measure_codelist_mapping_dict[measure]\n",
    "    codelist = pd.read_csv(f'../codelists/{codelist_name}.csv')\n",
    "    codelist_dict[measure] = codelist\n",
    "    \n",
    "    \n"
   ]
  },
  {
   "cell_type": "markdown",
   "metadata": {},
   "source": [
    "Get first measure and create dictionary of all subcodes"
   ]
  },
  {
   "cell_type": "code",
   "execution_count": 5,
   "metadata": {},
   "outputs": [
    {
     "data": {
      "text/plain": [
       "{'23E5.': 7805.0, '663K.': 2636.0, '7450.': 2537.0}"
      ]
     },
     "execution_count": 5,
     "metadata": {},
     "output_type": "execute_result"
    }
   ],
   "source": [
    "df = data_dict['chronic_respiratory_disease']\n",
    "example_code_dict = get_child_codes(df, 'chronic_respiratory_disease')\n",
    "example_code_dict"
   ]
  },
  {
   "cell_type": "markdown",
   "metadata": {},
   "source": [
    "Create table of top child codes"
   ]
  },
  {
   "cell_type": "code",
   "execution_count": 6,
   "metadata": {},
   "outputs": [
    {
     "data": {
      "text/html": [
       "<div>\n",
       "<style scoped>\n",
       "    .dataframe tbody tr th:only-of-type {\n",
       "        vertical-align: middle;\n",
       "    }\n",
       "\n",
       "    .dataframe tbody tr th {\n",
       "        vertical-align: top;\n",
       "    }\n",
       "\n",
       "    .dataframe thead th {\n",
       "        text-align: right;\n",
       "    }\n",
       "</style>\n",
       "<table border=\"1\" class=\"dataframe\">\n",
       "  <thead>\n",
       "    <tr style=\"text-align: right;\">\n",
       "      <th></th>\n",
       "      <th>CTV3ID</th>\n",
       "      <th>Events</th>\n",
       "      <th>Events (thousands)</th>\n",
       "      <th>Description</th>\n",
       "    </tr>\n",
       "  </thead>\n",
       "  <tbody>\n",
       "    <tr>\n",
       "      <th>7450.</th>\n",
       "      <td>7450.</td>\n",
       "      <td>2537.0</td>\n",
       "      <td>2.537</td>\n",
       "      <td>Lung transplant</td>\n",
       "    </tr>\n",
       "    <tr>\n",
       "      <th>663K.</th>\n",
       "      <td>663K.</td>\n",
       "      <td>2636.0</td>\n",
       "      <td>2.636</td>\n",
       "      <td>Airways obstructn irreversible</td>\n",
       "    </tr>\n",
       "    <tr>\n",
       "      <th>23E5.</th>\n",
       "      <td>23E5.</td>\n",
       "      <td>7805.0</td>\n",
       "      <td>7.805</td>\n",
       "      <td>O/E - fibrosis of lung present</td>\n",
       "    </tr>\n",
       "  </tbody>\n",
       "</table>\n",
       "</div>"
      ],
      "text/plain": [
       "      CTV3ID  Events  Events (thousands)                     Description\n",
       "7450.  7450.  2537.0               2.537                 Lung transplant\n",
       "663K.  663K.  2636.0               2.636  Airways obstructn irreversible\n",
       "23E5.  23E5.  7805.0               7.805  O/E - fibrosis of lung present"
      ]
     },
     "execution_count": 6,
     "metadata": {},
     "output_type": "execute_result"
    }
   ],
   "source": [
    "childs_df = create_child_table(df, codelist_dict['chronic_respiratory_disease'], 'CTV3ID', 'CTV3PreferredTermDesc', 'chronic_respiratory_disease')\n",
    "childs_df"
   ]
  },
  {
   "cell_type": "markdown",
   "metadata": {},
   "source": [
    "Calculate statistics for measures.\n",
    "* Practices as percentage of total practices\n",
    "* Total number of patients (with specific events) (2020)\n",
    "* Total number of events (2020)\n",
    "* Median and IDR at Feb, April, December\n",
    "* Percentage drops between time periods\n",
    "* Overall classification of rate change"
   ]
  },
  {
   "cell_type": "code",
   "execution_count": 7,
   "metadata": {},
   "outputs": [],
   "source": [
    "def calculate_statistics(df, measure_column, idr_dates):\n",
    "    #load total number of practices from practice count json object\n",
    "    f = open(\"../output/practice_count.json\")\n",
    "    num_practices = json.load(f)['num_practices']\n",
    "\n",
    "    # calculate number of unique practices and caluclate as % of total\n",
    "    practices_included = get_number_practices(df)\n",
    "    practices_included_percent = float(f'{((practices_included/num_practices)*100):.2f}')\n",
    "    \n",
    "    # calculate number of events per mil\n",
    "    num_events_mil = float(f'{df[measure_column].sum()/1000000:.2f}')\n",
    "    \n",
    "    \n",
    "    # load total number of patients from json object\n",
    "    f = open(\"../output/patient_count.json\")\n",
    "    num_patients_dict = json.load(f)['num_patients']\n",
    "    num_patients = num_patients_dict[measure_column]\n",
    "    \n",
    "    \n",
    "    return practices_included, practices_included_percent, num_events_mil, num_patients\n",
    "\n"
   ]
  },
  {
   "cell_type": "code",
   "execution_count": 8,
   "metadata": {},
   "outputs": [],
   "source": [
    "practices_included, practices_included_percent, num_events_mil, num_patients = calculate_statistics(df, 'chronic_respiratory_disease', [\"2020-01-01\"])"
   ]
  },
  {
   "cell_type": "code",
   "execution_count": 9,
   "metadata": {},
   "outputs": [
    {
     "data": {
      "text/plain": [
       "(45, 125.0, 0.13, 0.073581)"
      ]
     },
     "execution_count": 9,
     "metadata": {},
     "output_type": "execute_result"
    }
   ],
   "source": [
    "practices_included, practices_included_percent, num_events_mil, num_patients"
   ]
  },
  {
   "cell_type": "markdown",
   "metadata": {},
   "source": [
    "Measure produces value split by practice and event code.  Used above to get child codes.  Load df only grouped by practice for charts."
   ]
  },
  {
   "cell_type": "code",
   "execution_count": 10,
   "metadata": {},
   "outputs": [],
   "source": [
    "df = data_dict_practice['chronic_respiratory_disease']\n",
    "convert_datetime(df)\n",
    "calculate_rate(df, 'chronic_respiratory_disease', 'population')"
   ]
  },
  {
   "cell_type": "code",
   "execution_count": 11,
   "metadata": {},
   "outputs": [],
   "source": [
    "def get_median(df, dates):\n",
    "    median_dict = {}\n",
    "    for date in dates:\n",
    "        #subset by date\n",
    "        df_subset = df[df['date'] == date]\n",
    "\n",
    "        #order by value\n",
    "        df_subset.sort_values('date', inplace=True)\n",
    "        median = df_subset['num_per_thousand'].median()\n",
    "        median_dict[date] = median\n",
    "    return median_dict\n",
    "\n",
    "def get_idr(df, dates):\n",
    "    idr_dict = {}\n",
    "    for date in dates:\n",
    "        #subset by date\n",
    "        df_subset = df[df['date'] == date]\n",
    "\n",
    "        #order by value\n",
    "        df_subset.sort_values('date', inplace=True)\n",
    "        \n",
    "        #calculate idr\n",
    "        ten = df_subset['num_per_thousand'].quantile(0.1)\n",
    "        ninety = df_subset['num_per_thousand'].quantile(0.9)\n",
    "        idr = ninety-ten\n",
    "        \n",
    "        idr_dict[date] = idr\n",
    "    return idr_dict\n",
    "\n",
    "def calculate_change_median(median_list):\n",
    "    change_list = []\n",
    "    for i in range(len(median_list)):\n",
    "        if i >0:\n",
    "            percent = ((median_list[i]/median_list[0])-1)*100\n",
    "            change_list.append(percent)\n",
    "    return change_list\n"
   ]
  },
  {
   "cell_type": "code",
   "execution_count": 12,
   "metadata": {},
   "outputs": [
    {
     "name": "stderr",
     "output_type": "stream",
     "text": [
      "/Users/Louis/anaconda3/lib/python3.6/site-packages/ipykernel_launcher.py:8: SettingWithCopyWarning: \n",
      "A value is trying to be set on a copy of a slice from a DataFrame\n",
      "\n",
      "See the caveats in the documentation: http://pandas.pydata.org/pandas-docs/stable/user_guide/indexing.html#returning-a-view-versus-a-copy\n",
      "  \n",
      "/Users/Louis/anaconda3/lib/python3.6/site-packages/ipykernel_launcher.py:20: SettingWithCopyWarning: \n",
      "A value is trying to be set on a copy of a slice from a DataFrame\n",
      "\n",
      "See the caveats in the documentation: http://pandas.pydata.org/pandas-docs/stable/user_guide/indexing.html#returning-a-view-versus-a-copy\n"
     ]
    }
   ],
   "source": [
    "median = get_median(df, [\"2020-02-01\", \"2020-04-01\", \"2020-12-01\"])\n",
    "idr = get_idr(df, [\"2020-02-01\", \"2020-04-01\", \"2020-12-01\"])\n",
    "\n",
    "idr_list = [get_idr(df, [\"2020-02-01\", \"2020-04-01\", \"2020-12-01\"])[x] for x in [\"2020-02-01\", \"2020-04-01\", \"2020-12-01\"]]\n",
    "median_list = [get_median(df, [\"2020-02-01\", \"2020-04-01\", \"2020-12-01\"])[x] for x in [\"2020-02-01\", \"2020-04-01\", \"2020-12-01\"]]\n",
    "# median_list = [get_median(df, x)[x] for x in [\"2020-02-01\", \"2020-04-01\", \"2020-12-01\"]]\n",
    "\n",
    "change_list = calculate_change_median(median_list)"
   ]
  },
  {
   "cell_type": "code",
   "execution_count": 20,
   "metadata": {},
   "outputs": [
    {
     "name": "stdout",
     "output_type": "stream",
     "text": [
      "Practices included: 45 (125.0)\n",
      "2020 patients: 0.073581M (0.13M)\n",
      "Feb Median: 500.0 (IDR: 358.7), April Median: 500.0 (IDR: 278.6), Dec Median: 506.62749624033853 (IDR: 421.4)\n",
      "Change in median from Feb 2020: April: 0.00%; December: 1.33%\n"
     ]
    }
   ],
   "source": [
    "print(f'Practices included: {practices_included} ({practices_included_percent})')\n",
    "print(f'2020 patients: {num_patients}M ({num_events_mil}M)')\n",
    "print(f'Feb Median: {median_list[0]} (IDR: {idr_list[0]:.1f}), April Median: {median_list[1]} (IDR: {idr_list[1]:.1f}), Dec Median: {median_list[2]} (IDR: {idr_list[2]:.1f})')\n",
    "print(f'Change in median from Feb 2020: April: {change_list[0]:.2f}%; December: {change_list[1]:.2f}%')"
   ]
  },
  {
   "cell_type": "code",
   "execution_count": 13,
   "metadata": {},
   "outputs": [
    {
     "name": "stderr",
     "output_type": "stream",
     "text": [
      "/Users/Louis/anaconda3/lib/python3.6/site-packages/pandas/plotting/_matplotlib/converter.py:103: FutureWarning: Using an implicitly registered datetime converter for a matplotlib plotting method. The converter was registered by pandas on import. Future versions of pandas will require you to explicitly register matplotlib converters.\n",
      "\n",
      "To register the converters:\n",
      "\t>>> from pandas.plotting import register_matplotlib_converters\n",
      "\t>>> register_matplotlib_converters()\n",
      "  warnings.warn(msg, FutureWarning)\n"
     ]
    },
    {
     "data": {
      "image/png": "[encoded data removed]",
      "text/plain": [
       "<Figure size 432x288 with 1 Axes>"
      ]
     },
     "metadata": {},
     "output_type": "display_data"
    }
   ],
   "source": [
    "charts.deciles_chart(\n",
    "    data_dict['chronic_respiratory_disease'],\n",
    "    period_column=\"date\",\n",
    "    column=\"value\",\n",
    "    title=\"Chronic Respiratory Disease\",\n",
    "    ylabel=\"rate per 1000\",\n",
    "    show_outer_percentiles=False,\n",
    "    show_legend=True,\n",
    ");"
   ]
  },
  {
   "cell_type": "markdown",
   "metadata": {},
   "source": [
    "<a id=\"systolic_bp\"></a>\n",
    "### Systolic BP\n",
    "\n",
    "Description:"
   ]
  },
  {
   "cell_type": "code",
   "execution_count": 153,
   "metadata": {},
   "outputs": [
    {
     "data": {
      "text/html": [
       "<table border=\"1\" class=\"dataframe\">\n",
       "  <thead>\n",
       "    <tr style=\"text-align: right;\">\n",
       "      <th>Code</th>\n",
       "      <th>Events (thousands)</th>\n",
       "      <th>Description</th>\n",
       "    </tr>\n",
       "  </thead>\n",
       "  <tbody>\n",
       "    <tr>\n",
       "      <td>A</td>\n",
       "      <td>0.94</td>\n",
       "      <td>description here</td>\n",
       "    </tr>\n",
       "    <tr>\n",
       "      <td>B</td>\n",
       "      <td>0.94</td>\n",
       "      <td>description here</td>\n",
       "    </tr>\n",
       "  </tbody>\n",
       "</table>"
      ],
      "text/plain": [
       "<IPython.core.display.HTML object>"
      ]
     },
     "execution_count": 153,
     "metadata": {},
     "output_type": "execute_result"
    },
    {
     "data": {
      "image/png": "[encoded data removed]",
      "text/plain": [
       "<Figure size 432x288 with 1 Axes>"
      ]
     },
     "metadata": {},
     "output_type": "display_data"
    }
   ],
   "source": [
    "systolic_bp_df = drop_irrelevant_practices(data_dict['sentinel_measure_x'])\n",
    "\n",
    "charts.deciles_chart(\n",
    "    data_dict['sentinel_measure_x'],\n",
    "    period_column=\"date\",\n",
    "    column=\"value\",\n",
    "    title=\"Systolic BP\",\n",
    "    ylabel=\"rate per 1000\",\n",
    "    show_outer_percentiles=False,\n",
    "    show_legend=True,\n",
    ");\n",
    "\n",
    "example_code_dict = get_child_codes(systolic_bp_df)\n",
    "childs_df = create_child_table(systolic_bp_df)\n",
    "HTML(childs_df.to_html(index=False))"
   ]
  },
  {
   "cell_type": "markdown",
   "metadata": {},
   "source": [
    "<a id=\"qrisk\"></a>\n",
    "### QRISK"
   ]
  },
  {
   "cell_type": "code",
   "execution_count": null,
   "metadata": {},
   "outputs": [],
   "source": [
    "charts.deciles_chart(\n",
    "    data_dict['qrisk'],\n",
    "    period_column=\"date\",\n",
    "    column=\"value\",\n",
    "    title=\"QRISK\",\n",
    "    ylabel=\"rate per 1000\",\n",
    "    show_outer_percentiles=False,\n",
    "    show_legend=True,\n",
    ");"
   ]
  },
  {
   "cell_type": "markdown",
   "metadata": {},
   "source": [
    "<a id=\"cholesterol\"></a>\n",
    "### Cholesterol"
   ]
  },
  {
   "cell_type": "code",
   "execution_count": null,
   "metadata": {},
   "outputs": [],
   "source": [
    "charts.deciles_chart(\n",
    "    data_dict['cholesterol'],\n",
    "    period_column=\"date\",\n",
    "    column=\"value\",\n",
    "    title=\"Cholesterol\",\n",
    "    ylabel=\"rate per 1000\",\n",
    "    show_outer_percentiles=False,\n",
    "    show_legend=True,\n",
    ");"
   ]
  },
  {
   "cell_type": "markdown",
   "metadata": {},
   "source": [
    "<a id=\"bilirubin\"></a>\n",
    "### Bilirubin"
   ]
  },
  {
   "cell_type": "code",
   "execution_count": null,
   "metadata": {},
   "outputs": [],
   "source": [
    "charts.deciles_chart(\n",
    "    data_dict['bilirubin'],\n",
    "    period_column=\"date\",\n",
    "    column=\"value\",\n",
    "    title=\"Bilirubin\",\n",
    "    ylabel=\"rate per 1000\",\n",
    "    show_outer_percentiles=False,\n",
    "    show_legend=True,\n",
    ");"
   ]
  },
  {
   "cell_type": "markdown",
   "metadata": {},
   "source": [
    "<a id=\"serum_tsh\"></a>\n",
    "### Serum TSH"
   ]
  },
  {
   "cell_type": "code",
   "execution_count": null,
   "metadata": {},
   "outputs": [],
   "source": [
    "charts.deciles_chart(\n",
    "    data_dict['serum_tsh'],\n",
    "    period_column=\"date\",\n",
    "    column=\"value\",\n",
    "    title=\"Serum TSH\",\n",
    "    ylabel=\"rate per 1000\",\n",
    "    show_outer_percentiles=False,\n",
    "    show_legend=True,\n",
    ");"
   ]
  },
  {
   "cell_type": "markdown",
   "metadata": {},
   "source": [
    "<a id=\"rbc_fbc\"></a>\n",
    "### RBC/FBC"
   ]
  },
  {
   "cell_type": "code",
   "execution_count": null,
   "metadata": {},
   "outputs": [],
   "source": [
    "charts.deciles_chart(\n",
    "    data_dict['rbc_fbc'],\n",
    "    period_column=\"date\",\n",
    "    column=\"value\",\n",
    "    title=\"RBC/FBC\",\n",
    "    ylabel=\"rate per 1000\",\n",
    "    show_outer_percentiles=False,\n",
    "    show_legend=True,\n",
    ");"
   ]
  },
  {
   "cell_type": "markdown",
   "metadata": {},
   "source": [
    "<a id=\"hba1c\"></a>\n",
    "### HBa1c"
   ]
  },
  {
   "cell_type": "code",
   "execution_count": null,
   "metadata": {},
   "outputs": [],
   "source": [
    "charts.deciles_chart(\n",
    "    data_dict['hba1c'],\n",
    "    period_column=\"date\",\n",
    "    column=\"value\",\n",
    "    title=\"HBa1c\",\n",
    "    ylabel=\"rate per 1000\",\n",
    "    show_outer_percentiles=False,\n",
    "    show_legend=True,\n",
    ");"
   ]
  },
  {
   "cell_type": "markdown",
   "metadata": {},
   "source": [
    "<a id=\"serum_sodium\"></a>\n",
    "### Serum Sodium"
   ]
  },
  {
   "cell_type": "code",
   "execution_count": null,
   "metadata": {},
   "outputs": [],
   "source": [
    "charts.deciles_chart(\n",
    "    data_dict['serum_sodium'],\n",
    "    period_column=\"date\",\n",
    "    column=\"value\",\n",
    "    title=\"Serum Sodium\",\n",
    "    ylabel=\"rate per 1000\",\n",
    "    show_outer_percentiles=False,\n",
    "    show_legend=True,\n",
    ");"
   ]
  },
  {
   "cell_type": "markdown",
   "metadata": {},
   "source": [
    "<a id=\"asthma\"></a>\n",
    "### Asthma"
   ]
  },
  {
   "cell_type": "code",
   "execution_count": null,
   "metadata": {},
   "outputs": [],
   "source": [
    "charts.deciles_chart(\n",
    "    data_dict['asthma'],\n",
    "    period_column=\"date\",\n",
    "    column=\"value\",\n",
    "    title=\"Asthma\",\n",
    "    ylabel=\"rate per 1000\",\n",
    "    show_outer_percentiles=False,\n",
    "    show_legend=True,\n",
    ");"
   ]
  }
 ],
 "metadata": {
  "jupytext": {
   "formats": "ipynb,py:light"
  },
  "kernelspec": {
   "display_name": "Python 3",
   "language": "python",
   "name": "python3"
  },
  "language_info": {
   "codemirror_mode": {
    "name": "ipython",
    "version": 3
   },
   "file_extension": ".py",
   "mimetype": "text/x-python",
   "name": "python",
   "nbconvert_exporter": "python",
   "pygments_lexer": "ipython3",
   "version": "3.6.8"
  }
 },
 "nbformat": 4,
 "nbformat_minor": 2
}
