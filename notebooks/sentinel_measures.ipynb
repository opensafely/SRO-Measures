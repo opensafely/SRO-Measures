{
 "cells": [
  {
   "cell_type": "markdown",
   "metadata": {},
   "source": [
    "<h1 align=\"center\">Changes in sentinel measures of primary care activity during the pandemic</h1>\n",
    "\n",
    "The purpose of this notebook is to provide measures of overall activity at the practice level during the pandemic.\n",
    "\n",
    "The following sentinel measures are provided:\n",
    "* [2469: O/E - Systolic BP reading](#systolic_bp)\n",
    "* [QRISK2 cardiovascular disease 10 risk score](#qrisk2)\n",
    "* [Serum Cholesterol level](#cholesterol)\n",
    "* [Serum Bilirubin level](#bilirubin)\n",
    "* [Serum TSH level](#serum_tsh)\n",
    "* [Red blood cell count](#rbc_fbc)\n",
    "* [Haemoglobin A1c level - IFCC standardised](#hba1c)\n",
    "* [Serum Sodium level](#serum_sodium)\n",
    "* [Asthma annual review](#asthma)\n",
    "* [Chronic obstrutive pulmonary disease annual review](#copd)"
   ]
  },
  {
   "cell_type": "code",
   "execution_count": 1,
   "metadata": {},
   "outputs": [
    {
     "ename": "ModuleNotFoundError",
     "evalue": "No module named 'ebmdatalab'",
     "output_type": "error",
     "traceback": [
      "\u001b[0;31m---------------------------------------------------------------------------\u001b[0m",
      "\u001b[0;31mModuleNotFoundError\u001b[0m                       Traceback (most recent call last)",
      "\u001b[0;32m<ipython-input-1-ae8cf289c116>\u001b[0m in \u001b[0;36m<module>\u001b[0;34m\u001b[0m\n\u001b[1;32m      2\u001b[0m \u001b[0;32mimport\u001b[0m \u001b[0mpandas\u001b[0m \u001b[0;32mas\u001b[0m \u001b[0mpd\u001b[0m\u001b[0;34m\u001b[0m\u001b[0;34m\u001b[0m\u001b[0m\n\u001b[1;32m      3\u001b[0m \u001b[0;32mimport\u001b[0m \u001b[0mmatplotlib\u001b[0m\u001b[0;34m.\u001b[0m\u001b[0mpyplot\u001b[0m \u001b[0;32mas\u001b[0m \u001b[0mplt\u001b[0m\u001b[0;34m\u001b[0m\u001b[0;34m\u001b[0m\u001b[0m\n\u001b[0;32m----> 4\u001b[0;31m \u001b[0;32mfrom\u001b[0m \u001b[0mutilities\u001b[0m \u001b[0;32mimport\u001b[0m \u001b[0;34m*\u001b[0m\u001b[0;34m\u001b[0m\u001b[0;34m\u001b[0m\u001b[0m\n\u001b[0m\u001b[1;32m      5\u001b[0m \u001b[0;34m\u001b[0m\u001b[0m\n\u001b[1;32m      6\u001b[0m \u001b[0;32mfrom\u001b[0m \u001b[0mpandas\u001b[0m\u001b[0;34m.\u001b[0m\u001b[0mplotting\u001b[0m \u001b[0;32mimport\u001b[0m \u001b[0mregister_matplotlib_converters\u001b[0m\u001b[0;34m\u001b[0m\u001b[0;34m\u001b[0m\u001b[0m\n",
      "\u001b[0;32m~/Documents/DataLab/SRO-Measures/notebooks/utilities.py\u001b[0m in \u001b[0;36m<module>\u001b[0;34m\u001b[0m\n\u001b[1;32m      5\u001b[0m \u001b[0;32mfrom\u001b[0m \u001b[0mnumpy\u001b[0m \u001b[0;32mimport\u001b[0m \u001b[0mnan\u001b[0m\u001b[0;34m\u001b[0m\u001b[0;34m\u001b[0m\u001b[0m\n\u001b[1;32m      6\u001b[0m \u001b[0;32mimport\u001b[0m \u001b[0mjson\u001b[0m\u001b[0;34m\u001b[0m\u001b[0;34m\u001b[0m\u001b[0m\n\u001b[0;32m----> 7\u001b[0;31m \u001b[0;32mfrom\u001b[0m \u001b[0mebmdatalab\u001b[0m \u001b[0;32mimport\u001b[0m \u001b[0mcharts\u001b[0m\u001b[0;34m\u001b[0m\u001b[0;34m\u001b[0m\u001b[0m\n\u001b[0m\u001b[1;32m      8\u001b[0m \u001b[0;32mfrom\u001b[0m \u001b[0mIPython\u001b[0m\u001b[0;34m.\u001b[0m\u001b[0mdisplay\u001b[0m \u001b[0;32mimport\u001b[0m \u001b[0mdisplay\u001b[0m\u001b[0;34m,\u001b[0m \u001b[0mHTML\u001b[0m\u001b[0;34m\u001b[0m\u001b[0;34m\u001b[0m\u001b[0m\n\u001b[1;32m      9\u001b[0m \u001b[0;34m\u001b[0m\u001b[0m\n",
      "\u001b[0;31mModuleNotFoundError\u001b[0m: No module named 'ebmdatalab'"
     ]
    }
   ],
   "source": [
    "from IPython.display import HTML\n",
    "import pandas as pd\n",
    "import matplotlib.pyplot as plt\n",
    "from utilities import *\n",
    "\n",
    "from pandas.plotting import register_matplotlib_converters\n",
    "register_matplotlib_converters()\n",
    "\n",
    "%matplotlib inline"
   ]
  },
  {
   "cell_type": "code",
   "execution_count": null,
   "metadata": {},
   "outputs": [],
   "source": [
    "sentinel_measures = [\"systolic_bp\", \"qrisk2\", \"serum_cholesterol\", \"serum_bilirubin\", \"serum_tsh\", \"rbc\", \"hba1c\", \"serum_sodium\", \"asthma\", \"copd\"]\n",
    "\n",
    "data_dict = {}\n",
    "\n",
    "for measure in sentinel_measures:\n",
    "    df = load_and_drop(measure)\n",
    "    data_dict[measure] = df\n",
    "    \n",
    "data_dict_practice = {}\n",
    "\n",
    "for measure in sentinel_measures:\n",
    "    df = load_and_drop(measure, practice=True)\n",
    "    data_dict_practice[measure] = df\n",
    "\n",
    "sentinel_measure_codelist_mapping_dict = {\"systolic_bp\":\"opensafely-chronic-respiratory-disease\", \"qrisk2\":\"user-richard-croker-cvd-risk-assessment-score-qof\", \"serum_cholesterol\": \"opensafely-chronic-respiratory-disease\", \"serum_bilirubin\": \"opensafely-chronic-respiratory-disease\", \"serum_tsh\": \"opensafely-chronic-respiratory-disease\", \"rbc\": \"opensafely-chronic-respiratory-disease\", \"hba1c\": \"opensafely-chronic-respiratory-disease\", \"serum_sodium\": \"opensafely-chronic-respiratory-disease\", \"asthma\": \"user-richard-croker-asthma-annual-review-qof\", \"copd\": \"user-richard-croker-chronic-obstructive-pulmonary-disease-copd-review-qof\"}\n",
    "\n",
    "codelist_dict = {}\n",
    "for measure in sentinel_measures:\n",
    "    codelist_name = sentinel_measure_codelist_mapping_dict[measure]\n",
    "    codelist = pd.read_csv(f'../codelists/{codelist_name}.csv')\n",
    "    codelist_dict[measure] = codelist"
   ]
  },
  {
   "cell_type": "markdown",
   "metadata": {},
   "source": [
    "<a id=\"systolic_bp\"></a>\n",
    "### O/E - Systolic BP\n",
    "\n",
    "Description:"
   ]
  },
  {
   "cell_type": "code",
   "execution_count": null,
   "metadata": {},
   "outputs": [],
   "source": [
    "# generate_sentinel_measure(data_dict, data_dict_practice, codelist_dict, 'systolic_bp', 'CTV3ID', 'CTV3PreferredTermDesc', [\"2020-02-01\", \"2020-04-01\", \"2020-12-01\"])"
   ]
  },
  {
   "cell_type": "markdown",
   "metadata": {},
   "source": [
    "<a id=\"qrisk\"></a>\n",
    "### QRISK2 Cardiovascular Disease 10 year risk score"
   ]
  },
  {
   "cell_type": "code",
   "execution_count": null,
   "metadata": {},
   "outputs": [],
   "source": [
    "generate_sentinel_measure(data_dict, data_dict_practice, codelist_dict, 'qrisk2', 'code', 'term', [\"2020-02-01\", \"2020-04-01\", \"2020-12-01\"])"
   ]
  },
  {
   "cell_type": "markdown",
   "metadata": {},
   "source": [
    "<a id=\"cholesterol\"></a>\n",
    "### Serum Cholesterol Level"
   ]
  },
  {
   "cell_type": "code",
   "execution_count": null,
   "metadata": {},
   "outputs": [],
   "source": [
    "# generate_sentinel_measure(data_dict, data_dict_practice, codelist_dict, 'serum_cholesterol', 'CTV3ID', 'CTV3PreferredTermDesc', [\"2020-02-01\", \"2020-04-01\", \"2020-12-01\"])"
   ]
  },
  {
   "cell_type": "markdown",
   "metadata": {},
   "source": [
    "<a id=\"bilirubin\"></a>\n",
    "### Serum Bilirubin Level"
   ]
  },
  {
   "cell_type": "code",
   "execution_count": null,
   "metadata": {},
   "outputs": [],
   "source": [
    "# generate_sentinel_measure(data_dict, data_dict_practice, codelist_dict, 'serum_bilirubin', 'CTV3ID', 'CTV3PreferredTermDesc', [\"2020-02-01\", \"2020-04-01\", \"2020-12-01\"])"
   ]
  },
  {
   "cell_type": "markdown",
   "metadata": {},
   "source": [
    "<a id=\"serum_tsh\"></a>\n",
    "### Serum TSH Level"
   ]
  },
  {
   "cell_type": "code",
   "execution_count": null,
   "metadata": {},
   "outputs": [],
   "source": [
    "# generate_sentinel_measure(data_dict, data_dict_practice, codelist_dict, 'serum_tsh', 'CTV3ID', 'CTV3PreferredTermDesc', [\"2020-02-01\", \"2020-04-01\", \"2020-12-01\"])"
   ]
  },
  {
   "cell_type": "markdown",
   "metadata": {},
   "source": [
    "<a id=\"rbc_fbc\"></a>\n",
    "### Red Blood Cell Count"
   ]
  },
  {
   "cell_type": "code",
   "execution_count": null,
   "metadata": {},
   "outputs": [],
   "source": [
    "# generate_sentinel_measure(data_dict, data_dict_practice, codelist_dict, 'rbc', 'CTV3ID', 'CTV3PreferredTermDesc', [\"2020-02-01\", \"2020-04-01\", \"2020-12-01\"])"
   ]
  },
  {
   "cell_type": "markdown",
   "metadata": {},
   "source": [
    "<a id=\"hba1c\"></a>\n",
    "### Haemoglobin A1c Level - IFCC Standardised"
   ]
  },
  {
   "cell_type": "code",
   "execution_count": null,
   "metadata": {},
   "outputs": [],
   "source": [
    "# generate_sentinel_measure(data_dict, data_dict_practice, codelist_dict, 'hba1c', 'CTV3ID', 'CTV3PreferredTermDesc', [\"2020-02-01\", \"2020-04-01\", \"2020-12-01\"])"
   ]
  },
  {
   "cell_type": "markdown",
   "metadata": {},
   "source": [
    "<a id=\"serum_sodium\"></a>\n",
    "### Serum Sodium Level"
   ]
  },
  {
   "cell_type": "code",
   "execution_count": null,
   "metadata": {},
   "outputs": [],
   "source": [
    "# generate_sentinel_measure(data_dict, data_dict_practice, codelist_dict, 'serum_sodium', 'CTV3ID', 'CTV3PreferredTermDesc', [\"2020-02-01\", \"2020-04-01\", \"2020-12-01\"])"
   ]
  },
  {
   "cell_type": "markdown",
   "metadata": {},
   "source": [
    "<a id=\"asthma\"></a>\n",
    "### Asthma Annual Review"
   ]
  },
  {
   "cell_type": "code",
   "execution_count": null,
   "metadata": {},
   "outputs": [],
   "source": [
    "generate_sentinel_measure(data_dict, data_dict_practice, codelist_dict, 'asthma', 'code', 'term', [\"2020-02-01\", \"2020-04-01\", \"2020-12-01\"])"
   ]
  },
  {
   "cell_type": "markdown",
   "metadata": {},
   "source": [
    "<a id=\"copd\"></a>\n",
    "### Chronic Obstructive Pulmonary Disease Annual Review"
   ]
  },
  {
   "cell_type": "code",
   "execution_count": null,
   "metadata": {},
   "outputs": [],
   "source": [
    "generate_sentinel_measure(data_dict, data_dict_practice, codelist_dict, 'copd', 'code', 'term', [\"2020-02-01\", \"2020-04-01\", \"2020-12-01\"])"
   ]
  }
 ],
 "metadata": {
  "jupytext": {
   "formats": "ipynb,py:light",
   "text_representation": {
    "extension": ".py",
    "format_name": "light",
    "format_version": "1.5",
    "jupytext_version": "1.10.2"
   }
  },
  "kernelspec": {
   "display_name": "Python 3",
   "language": "python",
   "name": "python3"
  },
  "language_info": {
   "codemirror_mode": {
    "name": "ipython",
    "version": 3
   },
   "file_extension": ".py",
   "mimetype": "text/x-python",
   "name": "python",
   "nbconvert_exporter": "python",
   "pygments_lexer": "ipython3",
   "version": "3.9.1"
  }
 },
 "nbformat": 4,
 "nbformat_minor": 2
}
