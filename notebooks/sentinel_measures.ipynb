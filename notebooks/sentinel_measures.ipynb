{
 "cells": [
  {
   "cell_type": "markdown",
   "metadata": {},
   "source": [
    "<h1 align=\"center\">Changes in sentinel measures of primary care activity during the pandemic</h1>\n",
    "\n",
    "The purpose of this notebook is to provide measures of overall activity at the practice level during the pandemic.\n",
    "\n",
    "The following sentinel measures are provided:\n",
    "* [Systolic BP](#systolic_bp)\n",
    "* [QRISK](#qrisk)\n",
    "* [Cholesterol](#cholesterol)\n",
    "* [Bilirubin](#bilirubin)\n",
    "* [Serum TSH](#serum_tsh)\n",
    "* [RBC/FBC](#rbc_fbc)\n",
    "* [HBa1c](#hba1c)\n",
    "* [Serum Sodium](#serum_sodium)\n",
    "* [Asthma](#asthma)\n",
    "\n"
   ]
  },
  {
   "cell_type": "code",
   "execution_count": 1,
   "metadata": {},
   "outputs": [
    {
     "data": {
      "text/html": [
       "<script>\n",
       "code_show=true; \n",
       "function code_toggle() {\n",
       " if (code_show){\n",
       " $('div.input').hide();\n",
       " } else {\n",
       " $('div.input').show();\n",
       " }\n",
       " code_show = !code_show\n",
       "} \n",
       "$( document ).ready(code_toggle);\n",
       "</script>\n",
       "The raw code for this IPython notebook is by default hidden for easier reading.\n",
       "To toggle on/off the raw code, click <a href=\"javascript:code_toggle()\">here</a>."
      ],
      "text/plain": [
       "<IPython.core.display.HTML object>"
      ]
     },
     "execution_count": 1,
     "metadata": {},
     "output_type": "execute_result"
    }
   ],
   "source": [
    "import pandas as pd\n",
    "import matplotlib.pyplot as plt\n",
    "from ebmdatalab import charts\n",
    "from IPython.display import HTML\n",
    "from collections import Counter\n",
    "from numpy import nan\n",
    "from decimal import Decimal\n",
    "\n",
    "\n",
    "%matplotlib inline\n",
    "\n",
    "HTML('''<script>\n",
    "code_show=true; \n",
    "function code_toggle() {\n",
    " if (code_show){\n",
    " $('div.input').hide();\n",
    " } else {\n",
    " $('div.input').show();\n",
    " }\n",
    " code_show = !code_show\n",
    "} \n",
    "$( document ).ready(code_toggle);\n",
    "</script>\n",
    "The raw code for this IPython notebook is by default hidden for easier reading.\n",
    "To toggle on/off the raw code, click <a href=\"javascript:code_toggle()\">here</a>.''')"
   ]
  },
  {
   "cell_type": "code",
   "execution_count": 7,
   "metadata": {},
   "outputs": [
    {
     "data": {
      "text/html": [
       "<script>\n",
       "code_show_err=false; \n",
       "function code_toggle_err() {\n",
       " if (code_show_err){\n",
       " $('div.output_stderr').hide();\n",
       " } else {\n",
       " $('div.output_stderr').show();\n",
       " }\n",
       " code_show_err = !code_show_err\n",
       "} \n",
       "$( document ).ready(code_toggle_err);\n",
       "</script>\n",
       "To toggle on/off output_stderr, click <a href=\"javascript:code_toggle_err()\">here</a>."
      ],
      "text/plain": [
       "<IPython.core.display.HTML object>"
      ]
     },
     "execution_count": 7,
     "metadata": {},
     "output_type": "execute_result"
    }
   ],
   "source": [
    "\n",
    "HTML('''<script>\n",
    "code_show_err=false; \n",
    "function code_toggle_err() {\n",
    " if (code_show_err){\n",
    " $('div.output_stderr').hide();\n",
    " } else {\n",
    " $('div.output_stderr').show();\n",
    " }\n",
    " code_show_err = !code_show_err\n",
    "} \n",
    "$( document ).ready(code_toggle_err);\n",
    "</script>\n",
    "To toggle on/off output_stderr, click <a href=\"javascript:code_toggle_err()\">here</a>.''')"
   ]
  },
  {
   "cell_type": "code",
   "execution_count": 2,
   "metadata": {},
   "outputs": [],
   "source": [
    "code_df = pd.read_csv('../data/code_dictionary.csv')\n",
    "example_code_df = pd.DataFrame(data=[[\"A\", \"Description A here\"], [\"B\", \"Description B here\"]], columns=[\"first_digits\", \"Description\"])\n",
    "\n",
    "sentinel_measures = [\"systolic_bp\", \"qrisk\", \"cholesterol\", \"bilirubin\", \"serum_tsh\", \"rbc_fbc\", \"hba1c\", \"serum_sodium\", \"asthma\"]\n",
    "sentinel_measures_test = [\"sentinel_measure_x\"]\n",
    "\n",
    "def convert_datetime(df):\n",
    "    df['date'] = pd.to_datetime(df['date'])\n",
    "    \n",
    "def drop_irrelevant_practices(df):\n",
    "    #drop practices that do not use the code\n",
    "    mean_value_df = df.groupby(\"practice\")[\"value\"].mean().reset_index()\n",
    "   \n",
    "    practices_to_drop = list(mean_value_df['practice'][mean_value_df['value'] ==0])\n",
    "    \n",
    "    #drop\n",
    "    df = df[~df['practice'].isin(practices_to_drop)]\n",
    "   \n",
    "    return df\n",
    "  \n",
    "    \n",
    "\n",
    "data_dict = {}\n",
    "\n",
    "for measure in sentinel_measures_test:\n",
    "    data_dict[measure] = pd.read_csv(f'../output/measure_{measure}.csv')\n",
    "    convert_datetime(data_dict[measure])\n",
    "    \n",
    "def get_child_codes(df):\n",
    "    codes = df['event_code']\n",
    "    code_dict = Counter(codes)\n",
    "    del code_dict[nan]\n",
    "    return dict(code_dict)\n",
    "\n",
    "def create_child_table(df, code_df, code, child_codes):\n",
    "    #pass in df from data_dict\n",
    "    #code df contains first digits and descriptions\n",
    "    \n",
    "    #get codes counts\n",
    "    code_dict = get_child_codes(df)\n",
    "    \n",
    "    #make df\n",
    "\n",
    "    df = pd.DataFrame.from_dict(child_codes, orient=\"index\", columns=[\"Events (thousands)\"])\n",
    "    df['Code'] = df.index\n",
    "    \n",
    "    def get_events_thousands(row):\n",
    "        return row/1000\n",
    "        \n",
    "\n",
    "    def get_description(code, code_df):\n",
    "        description = code_df.loc[code_df['first_digits']==code, \"Description\"]\n",
    "        return description\n",
    "\n",
    "    df['Description'] = df.apply(lambda row: get_description(code, code_df), axis=1)\n",
    "    \n",
    "    df['Events (thousands)'] = df['Events (thousands)'].apply(lambda x: x/1000)\n",
    "    df = df.iloc[:, [1, 0, 2]]\n",
    "  \n",
    "    df.sort_values('Events (thousands)', inplace=True)\n",
    "    return df\n",
    "\n",
    "    "
   ]
  },
  {
   "cell_type": "code",
   "execution_count": 3,
   "metadata": {},
   "outputs": [],
   "source": [
    "df = data_dict['sentinel_measure_x']\n",
    "\n",
    "example_code_dict = get_child_codes(df)\n",
    "childs_df = create_child_table(df, example_code_df, \"A\", example_code_dict)\n",
    "\n",
    "\n",
    "\n"
   ]
  },
  {
   "cell_type": "code",
   "execution_count": 6,
   "metadata": {},
   "outputs": [],
   "source": [
    "import json\n",
    "f = open(\"../output/practice_count.json\")\n",
    "num_practices = json.load(f)['num_practices']\n"
   ]
  },
  {
   "cell_type": "code",
   "execution_count": 10,
   "metadata": {},
   "outputs": [
    {
     "ename": "NameError",
     "evalue": "name 'get_number_practices' is not defined",
     "output_type": "error",
     "traceback": [
      "\u001b[0;31m---------------------------------------------------------------------------\u001b[0m",
      "\u001b[0;31mNameError\u001b[0m                                 Traceback (most recent call last)",
      "\u001b[0;32m<ipython-input-10-ec5b846ff2b3>\u001b[0m in \u001b[0;36m<module>\u001b[0;34m\u001b[0m\n\u001b[1;32m      7\u001b[0m     \u001b[0;32mreturn\u001b[0m \u001b[0mpractices_included\u001b[0m\u001b[0;34m,\u001b[0m \u001b[0mpractices_included_percent\u001b[0m\u001b[0;34m,\u001b[0m \u001b[0mnum_events_mil\u001b[0m\u001b[0;34m\u001b[0m\u001b[0;34m\u001b[0m\u001b[0m\n\u001b[1;32m      8\u001b[0m \u001b[0;34m\u001b[0m\u001b[0m\n\u001b[0;32m----> 9\u001b[0;31m \u001b[0mpractices_included\u001b[0m\u001b[0;34m,\u001b[0m \u001b[0mpractices_included_percent\u001b[0m\u001b[0;34m,\u001b[0m \u001b[0mnum_events_mil\u001b[0m \u001b[0;34m=\u001b[0m \u001b[0mcalculate_statistics\u001b[0m\u001b[0;34m(\u001b[0m\u001b[0mdf\u001b[0m\u001b[0;34m,\u001b[0m \u001b[0mnum_practices\u001b[0m\u001b[0;34m,\u001b[0m \u001b[0;34m'sentinel_measure_x'\u001b[0m\u001b[0;34m,\u001b[0m \u001b[0;34m[\u001b[0m\u001b[0;34m\"2020-01-01\"\u001b[0m\u001b[0;34m]\u001b[0m\u001b[0;34m)\u001b[0m\u001b[0;34m\u001b[0m\u001b[0;34m\u001b[0m\u001b[0m\n\u001b[0m",
      "\u001b[0;32m<ipython-input-10-ec5b846ff2b3>\u001b[0m in \u001b[0;36mcalculate_statistics\u001b[0;34m(df, total_practices, measure_column, idr_dates)\u001b[0m\n\u001b[1;32m      1\u001b[0m \u001b[0;32mdef\u001b[0m \u001b[0mcalculate_statistics\u001b[0m\u001b[0;34m(\u001b[0m\u001b[0mdf\u001b[0m\u001b[0;34m,\u001b[0m \u001b[0mtotal_practices\u001b[0m\u001b[0;34m,\u001b[0m \u001b[0mmeasure_column\u001b[0m\u001b[0;34m,\u001b[0m \u001b[0midr_dates\u001b[0m\u001b[0;34m)\u001b[0m\u001b[0;34m:\u001b[0m\u001b[0;34m\u001b[0m\u001b[0;34m\u001b[0m\u001b[0m\n\u001b[0;32m----> 2\u001b[0;31m     \u001b[0mpractices_included\u001b[0m \u001b[0;34m=\u001b[0m \u001b[0mget_number_practices\u001b[0m\u001b[0;34m(\u001b[0m\u001b[0mdf\u001b[0m\u001b[0;34m)\u001b[0m\u001b[0;34m\u001b[0m\u001b[0;34m\u001b[0m\u001b[0m\n\u001b[0m\u001b[1;32m      3\u001b[0m     \u001b[0mpractices_included_percent\u001b[0m \u001b[0;34m=\u001b[0m \u001b[0mfloat\u001b[0m\u001b[0;34m(\u001b[0m\u001b[0;34mf'{((practices_included/total_practices)*100):.2f}'\u001b[0m\u001b[0;34m)\u001b[0m\u001b[0;34m\u001b[0m\u001b[0;34m\u001b[0m\u001b[0m\n\u001b[1;32m      4\u001b[0m \u001b[0;34m\u001b[0m\u001b[0m\n\u001b[1;32m      5\u001b[0m     \u001b[0mnum_events_mil\u001b[0m \u001b[0;34m=\u001b[0m \u001b[0mfloat\u001b[0m\u001b[0;34m(\u001b[0m\u001b[0;34mf'{df[measure_column].sum()/1000000:.2f}'\u001b[0m\u001b[0;34m)\u001b[0m\u001b[0;34m\u001b[0m\u001b[0;34m\u001b[0m\u001b[0m\n",
      "\u001b[0;31mNameError\u001b[0m: name 'get_number_practices' is not defined"
     ]
    }
   ],
   "source": [
    "def calculate_statistics(df, total_practices, measure_column, idr_dates):\n",
    "    practices_included = get_number_practices(df)\n",
    "    practices_included_percent = float(f'{((practices_included/total_practices)*100):.2f}')\n",
    "    \n",
    "    num_events_mil = float(f'{df[measure_column].sum()/1000000:.2f}')\n",
    "    \n",
    "    return practices_included, practices_included_percent, num_events_mil\n",
    "\n",
    "practices_included, practices_included_percent, num_events_mil = calculate_statistics(df, num_practices, 'sentinel_measure_x', [\"2020-01-01\"])"
   ]
  },
  {
   "cell_type": "code",
   "execution_count": 8,
   "metadata": {},
   "outputs": [
    {
     "ename": "NameError",
     "evalue": "name 'systolic_bp_df' is not defined",
     "output_type": "error",
     "traceback": [
      "\u001b[0;31m---------------------------------------------------------------------------\u001b[0m",
      "\u001b[0;31mNameError\u001b[0m                                 Traceback (most recent call last)",
      "\u001b[0;32m<ipython-input-8-31f94a348e50>\u001b[0m in \u001b[0;36m<module>\u001b[0;34m\u001b[0m\n\u001b[0;32m----> 1\u001b[0;31m \u001b[0mcalculate_statistics\u001b[0m\u001b[0;34m(\u001b[0m\u001b[0msystolic_bp_df\u001b[0m\u001b[0;34m,\u001b[0m \u001b[0mnum_practices\u001b[0m\u001b[0;34m,\u001b[0m \u001b[0;34m'sentinel_measure_x'\u001b[0m\u001b[0;34m)\u001b[0m\u001b[0;34m\u001b[0m\u001b[0;34m\u001b[0m\u001b[0m\n\u001b[0m",
      "\u001b[0;31mNameError\u001b[0m: name 'systolic_bp_df' is not defined"
     ]
    }
   ],
   "source": [
    "calculate_statistics(systolic_bp_df, num_practices, 'sentinel_measure_x')"
   ]
  },
  {
   "cell_type": "code",
   "execution_count": 165,
   "metadata": {},
   "outputs": [
    {
     "data": {
      "text/html": [
       "<div>\n",
       "<style scoped>\n",
       "    .dataframe tbody tr th:only-of-type {\n",
       "        vertical-align: middle;\n",
       "    }\n",
       "\n",
       "    .dataframe tbody tr th {\n",
       "        vertical-align: top;\n",
       "    }\n",
       "\n",
       "    .dataframe thead th {\n",
       "        text-align: right;\n",
       "    }\n",
       "</style>\n",
       "<table border=\"1\" class=\"dataframe\">\n",
       "  <thead>\n",
       "    <tr style=\"text-align: right;\">\n",
       "      <th></th>\n",
       "      <th>practice</th>\n",
       "      <th>event_code</th>\n",
       "      <th>sentinel_measure_x</th>\n",
       "      <th>population</th>\n",
       "      <th>value</th>\n",
       "      <th>date</th>\n",
       "    </tr>\n",
       "  </thead>\n",
       "  <tbody>\n",
       "    <tr>\n",
       "      <th>0</th>\n",
       "      <td>0</td>\n",
       "      <td>NaN</td>\n",
       "      <td>442.0</td>\n",
       "      <td>4503.0</td>\n",
       "      <td>0.098157</td>\n",
       "      <td>2019-01-01</td>\n",
       "    </tr>\n",
       "    <tr>\n",
       "      <th>1</th>\n",
       "      <td>0</td>\n",
       "      <td>A</td>\n",
       "      <td>29.0</td>\n",
       "      <td>243.0</td>\n",
       "      <td>0.119342</td>\n",
       "      <td>2019-01-01</td>\n",
       "    </tr>\n",
       "    <tr>\n",
       "      <th>2</th>\n",
       "      <td>0</td>\n",
       "      <td>B</td>\n",
       "      <td>21.0</td>\n",
       "      <td>254.0</td>\n",
       "      <td>0.082677</td>\n",
       "      <td>2019-01-01</td>\n",
       "    </tr>\n",
       "    <tr>\n",
       "      <th>3</th>\n",
       "      <td>10</td>\n",
       "      <td>NaN</td>\n",
       "      <td>1.0</td>\n",
       "      <td>4.0</td>\n",
       "      <td>0.250000</td>\n",
       "      <td>2019-01-01</td>\n",
       "    </tr>\n",
       "    <tr>\n",
       "      <th>4</th>\n",
       "      <td>10</td>\n",
       "      <td>A</td>\n",
       "      <td>0.0</td>\n",
       "      <td>1.0</td>\n",
       "      <td>0.000000</td>\n",
       "      <td>2019-01-01</td>\n",
       "    </tr>\n",
       "    <tr>\n",
       "      <th>...</th>\n",
       "      <td>...</td>\n",
       "      <td>...</td>\n",
       "      <td>...</td>\n",
       "      <td>...</td>\n",
       "      <td>...</td>\n",
       "      <td>...</td>\n",
       "    </tr>\n",
       "    <tr>\n",
       "      <th>2887</th>\n",
       "      <td>8</td>\n",
       "      <td>A</td>\n",
       "      <td>NaN</td>\n",
       "      <td>NaN</td>\n",
       "      <td>NaN</td>\n",
       "      <td>2021-02-01</td>\n",
       "    </tr>\n",
       "    <tr>\n",
       "      <th>2888</th>\n",
       "      <td>8</td>\n",
       "      <td>B</td>\n",
       "      <td>NaN</td>\n",
       "      <td>NaN</td>\n",
       "      <td>NaN</td>\n",
       "      <td>2021-02-01</td>\n",
       "    </tr>\n",
       "    <tr>\n",
       "      <th>2889</th>\n",
       "      <td>9</td>\n",
       "      <td>NaN</td>\n",
       "      <td>0.0</td>\n",
       "      <td>3.0</td>\n",
       "      <td>0.000000</td>\n",
       "      <td>2021-02-01</td>\n",
       "    </tr>\n",
       "    <tr>\n",
       "      <th>2890</th>\n",
       "      <td>9</td>\n",
       "      <td>A</td>\n",
       "      <td>NaN</td>\n",
       "      <td>NaN</td>\n",
       "      <td>NaN</td>\n",
       "      <td>2021-02-01</td>\n",
       "    </tr>\n",
       "    <tr>\n",
       "      <th>2891</th>\n",
       "      <td>9</td>\n",
       "      <td>B</td>\n",
       "      <td>NaN</td>\n",
       "      <td>NaN</td>\n",
       "      <td>NaN</td>\n",
       "      <td>2021-02-01</td>\n",
       "    </tr>\n",
       "  </tbody>\n",
       "</table>\n",
       "<p>2820 rows × 6 columns</p>\n",
       "</div>"
      ],
      "text/plain": [
       "      practice event_code  sentinel_measure_x  population     value       date\n",
       "0            0        NaN               442.0      4503.0  0.098157 2019-01-01\n",
       "1            0          A                29.0       243.0  0.119342 2019-01-01\n",
       "2            0          B                21.0       254.0  0.082677 2019-01-01\n",
       "3           10        NaN                 1.0         4.0  0.250000 2019-01-01\n",
       "4           10          A                 0.0         1.0  0.000000 2019-01-01\n",
       "...        ...        ...                 ...         ...       ...        ...\n",
       "2887         8          A                 NaN         NaN       NaN 2021-02-01\n",
       "2888         8          B                 NaN         NaN       NaN 2021-02-01\n",
       "2889         9        NaN                 0.0         3.0  0.000000 2021-02-01\n",
       "2890         9          A                 NaN         NaN       NaN 2021-02-01\n",
       "2891         9          B                 NaN         NaN       NaN 2021-02-01\n",
       "\n",
       "[2820 rows x 6 columns]"
      ]
     },
     "execution_count": 165,
     "metadata": {},
     "output_type": "execute_result"
    }
   ],
   "source": [
    "systolic_bp_df"
   ]
  },
  {
   "cell_type": "markdown",
   "metadata": {},
   "source": [
    "<a id=\"systolic_bp\"></a>\n",
    "### Systolic BP\n",
    "\n",
    "Description:"
   ]
  },
  {
   "cell_type": "code",
   "execution_count": 153,
   "metadata": {},
   "outputs": [
    {
     "data": {
      "text/html": [
       "<table border=\"1\" class=\"dataframe\">\n",
       "  <thead>\n",
       "    <tr style=\"text-align: right;\">\n",
       "      <th>Code</th>\n",
       "      <th>Events (thousands)</th>\n",
       "      <th>Description</th>\n",
       "    </tr>\n",
       "  </thead>\n",
       "  <tbody>\n",
       "    <tr>\n",
       "      <td>A</td>\n",
       "      <td>0.94</td>\n",
       "      <td>description here</td>\n",
       "    </tr>\n",
       "    <tr>\n",
       "      <td>B</td>\n",
       "      <td>0.94</td>\n",
       "      <td>description here</td>\n",
       "    </tr>\n",
       "  </tbody>\n",
       "</table>"
      ],
      "text/plain": [
       "<IPython.core.display.HTML object>"
      ]
     },
     "execution_count": 153,
     "metadata": {},
     "output_type": "execute_result"
    },
    {
     "data": {
      "image/png": "[encoded data removed]",
      "text/plain": [
       "<Figure size 432x288 with 1 Axes>"
      ]
     },
     "metadata": {},
     "output_type": "display_data"
    }
   ],
   "source": [
    "systolic_bp_df = drop_irrelevant_practices(data_dict['sentinel_measure_x'])\n",
    "\n",
    "charts.deciles_chart(\n",
    "    data_dict['sentinel_measure_x'],\n",
    "    period_column=\"date\",\n",
    "    column=\"value\",\n",
    "    title=\"Systolic BP\",\n",
    "    ylabel=\"rate per 1000\",\n",
    "    show_outer_percentiles=False,\n",
    "    show_legend=True,\n",
    ");\n",
    "\n",
    "example_code_dict = get_child_codes(systolic_bp_df)\n",
    "childs_df = create_child_table(systolic_bp_df)\n",
    "HTML(childs_df.to_html(index=False))"
   ]
  },
  {
   "cell_type": "markdown",
   "metadata": {},
   "source": [
    "<a id=\"qrisk\"></a>\n",
    "### QRISK"
   ]
  },
  {
   "cell_type": "code",
   "execution_count": null,
   "metadata": {},
   "outputs": [],
   "source": [
    "charts.deciles_chart(\n",
    "    data_dict['qrisk'],\n",
    "    period_column=\"date\",\n",
    "    column=\"value\",\n",
    "    title=\"QRISK\",\n",
    "    ylabel=\"rate per 1000\",\n",
    "    show_outer_percentiles=False,\n",
    "    show_legend=True,\n",
    ");"
   ]
  },
  {
   "cell_type": "markdown",
   "metadata": {},
   "source": [
    "<a id=\"cholesterol\"></a>\n",
    "### Cholesterol"
   ]
  },
  {
   "cell_type": "code",
   "execution_count": null,
   "metadata": {},
   "outputs": [],
   "source": [
    "charts.deciles_chart(\n",
    "    data_dict['cholesterol'],\n",
    "    period_column=\"date\",\n",
    "    column=\"value\",\n",
    "    title=\"Cholesterol\",\n",
    "    ylabel=\"rate per 1000\",\n",
    "    show_outer_percentiles=False,\n",
    "    show_legend=True,\n",
    ");"
   ]
  },
  {
   "cell_type": "markdown",
   "metadata": {},
   "source": [
    "<a id=\"bilirubin\"></a>\n",
    "### Bilirubin"
   ]
  },
  {
   "cell_type": "code",
   "execution_count": null,
   "metadata": {},
   "outputs": [],
   "source": [
    "charts.deciles_chart(\n",
    "    data_dict['bilirubin'],\n",
    "    period_column=\"date\",\n",
    "    column=\"value\",\n",
    "    title=\"Bilirubin\",\n",
    "    ylabel=\"rate per 1000\",\n",
    "    show_outer_percentiles=False,\n",
    "    show_legend=True,\n",
    ");"
   ]
  },
  {
   "cell_type": "markdown",
   "metadata": {},
   "source": [
    "<a id=\"serum_tsh\"></a>\n",
    "### Serum TSH"
   ]
  },
  {
   "cell_type": "code",
   "execution_count": null,
   "metadata": {},
   "outputs": [],
   "source": [
    "charts.deciles_chart(\n",
    "    data_dict['serum_tsh'],\n",
    "    period_column=\"date\",\n",
    "    column=\"value\",\n",
    "    title=\"Serum TSH\",\n",
    "    ylabel=\"rate per 1000\",\n",
    "    show_outer_percentiles=False,\n",
    "    show_legend=True,\n",
    ");"
   ]
  },
  {
   "cell_type": "markdown",
   "metadata": {},
   "source": [
    "<a id=\"rbc_fbc\"></a>\n",
    "### RBC/FBC"
   ]
  },
  {
   "cell_type": "code",
   "execution_count": null,
   "metadata": {},
   "outputs": [],
   "source": [
    "charts.deciles_chart(\n",
    "    data_dict['rbc_fbc'],\n",
    "    period_column=\"date\",\n",
    "    column=\"value\",\n",
    "    title=\"RBC/FBC\",\n",
    "    ylabel=\"rate per 1000\",\n",
    "    show_outer_percentiles=False,\n",
    "    show_legend=True,\n",
    ");"
   ]
  },
  {
   "cell_type": "markdown",
   "metadata": {},
   "source": [
    "<a id=\"hba1c\"></a>\n",
    "### HBa1c"
   ]
  },
  {
   "cell_type": "code",
   "execution_count": null,
   "metadata": {},
   "outputs": [],
   "source": [
    "charts.deciles_chart(\n",
    "    data_dict['hba1c'],\n",
    "    period_column=\"date\",\n",
    "    column=\"value\",\n",
    "    title=\"HBa1c\",\n",
    "    ylabel=\"rate per 1000\",\n",
    "    show_outer_percentiles=False,\n",
    "    show_legend=True,\n",
    ");"
   ]
  },
  {
   "cell_type": "markdown",
   "metadata": {},
   "source": [
    "<a id=\"serum_sodium\"></a>\n",
    "### Serum Sodium"
   ]
  },
  {
   "cell_type": "code",
   "execution_count": null,
   "metadata": {},
   "outputs": [],
   "source": [
    "charts.deciles_chart(\n",
    "    data_dict['serum_sodium'],\n",
    "    period_column=\"date\",\n",
    "    column=\"value\",\n",
    "    title=\"Serum Sodium\",\n",
    "    ylabel=\"rate per 1000\",\n",
    "    show_outer_percentiles=False,\n",
    "    show_legend=True,\n",
    ");"
   ]
  },
  {
   "cell_type": "markdown",
   "metadata": {},
   "source": [
    "<a id=\"asthma\"></a>\n",
    "### Asthma"
   ]
  },
  {
   "cell_type": "code",
   "execution_count": null,
   "metadata": {},
   "outputs": [],
   "source": [
    "charts.deciles_chart(\n",
    "    data_dict['asthma'],\n",
    "    period_column=\"date\",\n",
    "    column=\"value\",\n",
    "    title=\"Asthma\",\n",
    "    ylabel=\"rate per 1000\",\n",
    "    show_outer_percentiles=False,\n",
    "    show_legend=True,\n",
    ");"
   ]
  }
 ],
 "metadata": {
  "kernelspec": {
   "display_name": "Python 3",
   "language": "python",
   "name": "python3"
  },
  "language_info": {
   "codemirror_mode": {
    "name": "ipython",
    "version": 3
   },
   "file_extension": ".py",
   "mimetype": "text/x-python",
   "name": "python",
   "nbconvert_exporter": "python",
   "pygments_lexer": "ipython3",
   "version": "3.6.8"
  }
 },
 "nbformat": 4,
 "nbformat_minor": 2
}
