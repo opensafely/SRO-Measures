{
 "cells": [
  {
   "cell_type": "markdown",
   "metadata": {},
   "source": [
    "<h1 align=\"center\">OpenSAFELY Service Restoration Observatory (SRO) - Changes in key GP measures during the pandemic (Demographics)</h1>\n",
    "\n",
    "The aim of the OpenSAFELY SRO is to describe trends and variation in clinical activity codes to evaluate NHS service restoration during the COVID-19 pandemic.\n",
    "\n",
    "The purpose of this notebook is to provide a demographic breakdown of key GP measures, that are indicative of changes in overall activity during the pandemic.  For each of these measures we provide a link to the codelist containing all the codes used for that measure, a description of what the measure is and a brief overview of why the measure is important.  We also highlight any caveats, where there are any, for each measure.  For each measure monthly population level rates of recorded activity are provided as well as a break down by ethnicity.\n",
    "\n",
    "The following key measures are provided:\n",
    "* [Blood Pressure Monitoring](#systolic_bp)\n",
    "* [Cardiovascular Disease 10 Year Risk Assessment](#qrisk2)\n",
    "* [Cholesterol Testing](#cholesterol)\n",
    "* [Liver Function Testing - Alanine Transferaminase (ALT)](#ALT)\n",
    "* [Thyroid Testing](#serum_tsh)\n",
    "* [Full Blood Count - Red Blood Cell (RBC) Testing](#rbc_fbc)\n",
    "* [Glycated Haemoglobin A1c Level (HbA1c)](#hba1c)\n",
    "* [Renal Function Assessment - Sodium Testing](#serum_sodium)\n",
    "* [Asthma Reviews](#asthma)\n",
    "* [Chronic Obstrutive Pulmonary Disease (COPD) Reviews](#copd)"
   ]
  },
  {
   "cell_type": "code",
   "execution_count": 1,
   "metadata": {},
   "outputs": [],
   "source": [
    "from IPython.display import HTML\n",
    "import pandas as pd\n",
    "import matplotlib.pyplot as plt\n",
    "from utilities import *\n",
    "\n",
    "from pandas.plotting import register_matplotlib_converters\n",
    "register_matplotlib_converters()\n",
    "\n",
    "%matplotlib inline"
   ]
  },
  {
   "cell_type": "code",
   "execution_count": 3,
   "metadata": {},
   "outputs": [],
   "source": [
    "sentinel_measures = ['systolic_bp']\n",
    "\n",
    "demographics = ['region', 'age_band', 'imd']\n",
    "\n",
    "data_dict = {}\n",
    "data_dict_totals = {}\n",
    "\n",
    "\n",
    "for measure in sentinel_measures:\n",
    "    \n",
    "    demographics_dict = {}\n",
    "    \n",
    "    for d in demographics:\n",
    "        df = pd.read_csv(f'../output/measure_{measure}_{d}.csv')\n",
    "        df = redact_small_numbers(df, 5, [measure, 'population'])\n",
    "        \n",
    "        if d == 'age_band':\n",
    "            df = calculate_rate_standardise(df, measure, 'population', standardise=False)\n",
    "            \n",
    "        else:\n",
    "            df = calculate_rate_standardise(df, measure, 'population', standardise=True, age_group_column='age_band')\n",
    "        \n",
    "        \n",
    "        if d == 'imd':\n",
    "            \n",
    "            df = calculate_imd_group(df, measure, 'rate_standardised')\n",
    "        \n",
    "        elif d == 'ethnicity':\n",
    "            df = convert_ethnicity(df)\n",
    "        \n",
    "    \n",
    "        if d== 'age_band':\n",
    "\n",
    "            df = df.groupby(by=[d, 'date', 'practice'])['rate'].mean().reset_index()\n",
    "            df = df.groupby(by=[d, 'date'])['rate'].median().reset_index()\n",
    "            \n",
    "        else:\n",
    "            \n",
    "            df = df.groupby(by=[d, 'date', 'practice'])['rate_standardised'].mean().reset_index()\n",
    "            df = df.groupby(by=[d, 'date'])['rate_standardised'].median().reset_index()\n",
    "        \n",
    "       \n",
    "        demographics_dict[d] = df\n",
    "            \n",
    "    data_dict[measure] = demographics_dict\n",
    "    \n",
    "    \n",
    "    total_df = pd.read_csv(f'../output/measure_{measure}.csv')\n",
    "    \n",
    "    total_df = calculate_rate_standardise(total_df, measure, 'population', standardise=False)\n",
    "    \n",
    "    total_df = total_df.groupby(by=['date', 'practice'])['rate'].mean().reset_index()\n",
    "  \n",
    "    total_df = total_df.groupby(by=['date'])['rate'].median().reset_index()\n",
    "    \n",
    "    \n",
    "    data_dict_totals[measure] = total_df.groupby(by=['date'])['rate'].mean().reset_index()\n",
    "    "
   ]
  },
  {
   "cell_type": "code",
   "execution_count": 61,
   "metadata": {},
   "outputs": [],
   "source": [
    "def plot_demographics(data_dict, data_totals, demographics, interactive):\n",
    "    if interactive:\n",
    "    \n",
    "        fig = go.Figure()\n",
    "        buttons_list = []\n",
    "        visible_list = []\n",
    "\n",
    "\n",
    "        #add population rate\n",
    "        fig.add_trace(go.Scatter(\n",
    "                        x=data_totals['date'], y=data_totals['rate'], name='total', visible=True))\n",
    "\n",
    "\n",
    "        for d in demographics:\n",
    "            df = data_dict[d]\n",
    "\n",
    "\n",
    "            visible_list.append(len(df[d].unique()))\n",
    "            for unique_category in df[d].unique():\n",
    "\n",
    "                    df_subset = df[df[d] == unique_category]\n",
    "\n",
    "                    if d == 'age_band':\n",
    "\n",
    "                        fig.add_trace(go.Scatter(\n",
    "                        x=df_subset['date'], y=df_subset['rate'], name=str(unique_category), visible=False))\n",
    "                    else:\n",
    "                        fig.add_trace(go.Scatter(\n",
    "                        x=df_subset['date'], y=df_subset['rate_standardised'], name=str(unique_category), visible=False))\n",
    "\n",
    "\n",
    "        buttons_list.append(\n",
    "            dict(label = 'Total Population Rate',\n",
    "                          method = 'update',\n",
    "                          args = [{'visible': [True] + [False]*sum(visible_list)},\n",
    "                                  {'title': 'Total Population Rate',\n",
    "                                   'showlegend':True}])\n",
    "            )\n",
    "\n",
    "\n",
    "        for i, d in enumerate(demographics):\n",
    "\n",
    "\n",
    "\n",
    "\n",
    "            visible=[False]\n",
    "            for j, x in enumerate(visible_list):\n",
    "                if i == j:\n",
    "                    visible.extend([True]*x)\n",
    "                else:\n",
    "                    visible.extend([False]*x)\n",
    "\n",
    "\n",
    "\n",
    "\n",
    "            buttons_list.append(\n",
    "            dict(label = d,\n",
    "                          method = 'update',\n",
    "                          args = [{'visible': visible},\n",
    "                                  {'title': d,\n",
    "                                   'showlegend':True}])\n",
    "            )\n",
    "\n",
    "\n",
    "        fig.update_layout(\n",
    "        updatemenus=[\n",
    "            dict(active=0,\n",
    "                buttons=buttons_list,\n",
    "                direction=\"down\",\n",
    "                pad={\"r\": 10, \"t\": 10},\n",
    "\n",
    "                x=1.0,\n",
    "                xanchor=\"left\",\n",
    "                y=1.3,\n",
    "                yanchor=\"top\"\n",
    "            ),\n",
    "        ]\n",
    "    )\n",
    "\n",
    "\n",
    "\n",
    "\n",
    "        # Set title\n",
    "        fig.update_layout(\n",
    "            hovermode='x',\n",
    "            title_x=0.5,\n",
    "\n",
    "\n",
    "        )\n",
    "\n",
    "        fig.update_yaxes(title='Age standardised rate per 1000')\n",
    "        fig.update_xaxes(title=\"Date\")\n",
    "\n",
    "        # Add range slider\n",
    "        fig.update_layout(\n",
    "            xaxis=go.layout.XAxis(\n",
    "                rangeselector=dict(\n",
    "                    buttons=list([\n",
    "                        dict(count=1,\n",
    "                            label=\"1m\",\n",
    "                            step=\"month\",\n",
    "                            stepmode=\"backward\"),\n",
    "                        dict(count=6,\n",
    "                            label=\"6m\",\n",
    "                            step=\"month\",\n",
    "                            stepmode=\"backward\"),\n",
    "\n",
    "                        dict(count=1,\n",
    "                            label=\"1y\",\n",
    "                            step=\"year\",\n",
    "                            stepmode=\"backward\"),\n",
    "                        dict(step=\"all\")\n",
    "                    ])\n",
    "                ),\n",
    "                rangeslider=dict(\n",
    "                    visible=True\n",
    "                ),\n",
    "                type=\"date\"\n",
    "            )\n",
    "        )\n",
    "\n",
    "        fig.show()\n",
    "    \n",
    "    else:\n",
    "        \n",
    "        for d in demographics:\n",
    "           \n",
    "            plt.plot(data_totals['date'], data_totals['rate'])\n",
    "            df = data_dict[d]\n",
    "\n",
    "\n",
    "\n",
    "            for unique_category in df[d].unique():\n",
    "\n",
    "                    df_subset = df[df[d] == unique_category]\n",
    "\n",
    "                    if d == 'age_band':\n",
    "                        plt.plot(df_subset['date'], df_subset['rate'])\n",
    "\n",
    "                    else:\n",
    "                        plt.plot(df_subset['date'], df_subset['rate_standardised'])\n",
    "            plt.xticks(rotation=90)\n",
    "            plt.ylabel(\"rate per 1000\")\n",
    "            plt.legend(['total'] + list(df[d].unique()))\n",
    "            plt.title(d)\n",
    "            plt.savefig(f'../output/test_{d}.png')\n",
    "            plt.clf()\n",
    "            plt.close()\n"
   ]
  },
  {
   "cell_type": "markdown",
   "metadata": {},
   "source": [
    "<a id=\"systolic_bp\"></a>\n",
    "### Blood Pressure Monitoring\n",
    "\n",
    "The codes used in for this measure are available in <a href=\"https://codelists.opensafely.org/codelist/user/richard-croker/systolic-blood-pressure-qof/3572b5fb/\">this codelist</a>.\n",
    "\n",
    "#### What it is\n",
    "Rate of systolic blood presure monitoring per 1000 members of the population.\n",
    "\n",
    "#### Why it matters\n",
    "* The measurement of blood pressure and identification and management of hypertension is important for both primary and secondary prevention of cardiovascular disease, such as stroke, myocardial infarction and kidney disease. \n",
    "* If patients cannot have their blood pressure measurements acted on by primary care, they may not benefit from averting associated complications. \n",
    "* Active management and prevention of these complications is generally provided by Primary Care; as a measure it would therefore be considered an important marker of access to and provision of care.\n",
    "\n",
    "#### Caveats\n",
    "None"
   ]
  },
  {
   "cell_type": "code",
   "execution_count": 62,
   "metadata": {},
   "outputs": [
    {
     "data": {
      "application/vnd.plotly.v1+json": {
       "config": {
        "plotlyServerURL": "https://plotly.com"
       },
       "data": [
        {
         "name": "total",
         "type": "scatter",
         "visible": true,
         "x": [
          "2019-01-01",
          "2019-02-01",
          "2019-03-01",
          "2019-04-01",
          "2019-05-01",
          "2019-06-01",
          "2019-07-01",
          "2019-08-01",
          "2019-09-01",
          "2019-10-01",
          "2019-11-01",
          "2019-12-01",
          "2020-01-01",
          "2020-02-01",
          "2020-03-01",
          "2020-04-01",
          "2020-05-01",
          "2020-06-01",
          "2020-07-01",
          "2020-08-01",
          "2020-09-01",
          "2020-10-01",
          "2020-11-01",
          "2020-12-01",
          "2021-01-01",
          "2021-02-01",
          "2021-03-01",
          "2021-04-01"
         ],
         "y": [
          511.11111111111114,
          491.37931034482756,
          503.47222222222223,
          511.6279069767442,
          454.375,
          500,
          500,
          517.5438596491227,
          565.6565656565657,
          509.5238095238095,
          516.1786786786787,
          600,
          481.48148148148147,
          663.7931034482758,
          577.7777777777778,
          522.7897139011143,
          531.25,
          500,
          500,
          498.25174825174827,
          500,
          512.5,
          487.1794871794871,
          500,
          433.080808080808,
          500,
          488.1578947368421,
          499.08755038065385
         ]
        },
        {
         "name": "0-19",
         "type": "scatter",
         "visible": false,
         "x": [
          "2019-01-01",
          "2019-02-01",
          "2019-03-01",
          "2019-04-01",
          "2019-05-01",
          "2019-06-01",
          "2019-07-01",
          "2019-08-01",
          "2019-09-01",
          "2019-10-01",
          "2019-11-01",
          "2019-12-01",
          "2020-01-01",
          "2020-02-01",
          "2020-03-01",
          "2020-04-01",
          "2020-05-01",
          "2020-06-01",
          "2020-07-01",
          "2020-08-01",
          "2020-09-01",
          "2020-10-01",
          "2020-11-01",
          "2020-12-01",
          "2021-01-01",
          "2021-02-01",
          "2021-03-01",
          "2021-04-01"
         ],
         "y": [
          633.3333333333333,
          507.46268656716416,
          500,
          550,
          500,
          586.6666666666666,
          500,
          500,
          666.6666666666666,
          521.1864406779662,
          552.2388059701492,
          800,
          480.7692307692308,
          535.7142857142858,
          550,
          708.3333333333333,
          550,
          571.4285714285714,
          600,
          583.3333333333333,
          666.6666666666666,
          553.7313432835821,
          666.6666666666666,
          833.3333333333333,
          507.46268656716416,
          600,
          500,
          428.57142857142856
         ]
        },
        {
         "name": "20-29",
         "type": "scatter",
         "visible": false,
         "x": [
          "2019-01-01",
          "2019-02-01",
          "2019-03-01",
          "2019-04-01",
          "2019-05-01",
          "2019-06-01",
          "2019-07-01",
          "2019-08-01",
          "2019-09-01",
          "2019-10-01",
          "2019-11-01",
          "2019-12-01",
          "2020-01-01",
          "2020-02-01",
          "2020-03-01",
          "2020-04-01",
          "2020-05-01",
          "2020-06-01",
          "2020-07-01",
          "2020-08-01",
          "2020-09-01",
          "2020-10-01",
          "2020-11-01",
          "2020-12-01",
          "2021-01-01",
          "2021-02-01",
          "2021-03-01",
          "2021-04-01"
         ],
         "y": [
          633.3333333333333,
          596.4912280701753,
          666.6666666666666,
          504.23728813559325,
          716.6666666666667,
          666.6666666666666,
          513.8888888888889,
          714.2857142857142,
          500,
          833.3333333333334,
          500,
          500,
          506.94444444444446,
          750,
          666.6666666666666,
          500,
          600,
          833.3333333333333,
          666.6666666666666,
          500,
          500,
          585.7142857142858,
          660.7142857142858,
          500,
          570.3125,
          534.4827586206897,
          900,
          500
         ]
        },
        {
         "name": "30-39",
         "type": "scatter",
         "visible": false,
         "x": [
          "2019-01-01",
          "2019-02-01",
          "2019-03-01",
          "2019-04-01",
          "2019-05-01",
          "2019-06-01",
          "2019-07-01",
          "2019-08-01",
          "2019-09-01",
          "2019-10-01",
          "2019-11-01",
          "2019-12-01",
          "2020-01-01",
          "2020-02-01",
          "2020-03-01",
          "2020-04-01",
          "2020-05-01",
          "2020-06-01",
          "2020-07-01",
          "2020-08-01",
          "2020-09-01",
          "2020-10-01",
          "2020-11-01",
          "2020-12-01",
          "2021-01-01",
          "2021-02-01",
          "2021-03-01",
          "2021-04-01"
         ],
         "y": [
          600,
          500,
          666.6666666666666,
          583.3333333333333,
          666.6666666666666,
          509.433962264151,
          611.1111111111111,
          500,
          535.7142857142858,
          600,
          583.3333333333333,
          666.6666666666667,
          500,
          537.0370370370371,
          732.1428571428571,
          633.3333333333333,
          600,
          666.6666666666666,
          500,
          550,
          600,
          571.4285714285714,
          557.3770491803278,
          612.5,
          708.3333333333333,
          666.6666666666666,
          720.5882352941176,
          500
         ]
        },
        {
         "name": "40-49",
         "type": "scatter",
         "visible": false,
         "x": [
          "2019-01-01",
          "2019-02-01",
          "2019-03-01",
          "2019-04-01",
          "2019-05-01",
          "2019-06-01",
          "2019-07-01",
          "2019-08-01",
          "2019-09-01",
          "2019-10-01",
          "2019-11-01",
          "2019-12-01",
          "2020-01-01",
          "2020-02-01",
          "2020-03-01",
          "2020-04-01",
          "2020-05-01",
          "2020-06-01",
          "2020-07-01",
          "2020-08-01",
          "2020-09-01",
          "2020-10-01",
          "2020-11-01",
          "2020-12-01",
          "2021-01-01",
          "2021-02-01",
          "2021-03-01",
          "2021-04-01"
         ],
         "y": [
          606.7708333333333,
          666.6666666666666,
          750,
          500,
          500,
          708.3333333333333,
          585.7142857142857,
          500,
          660.7142857142858,
          527.7777777777778,
          535.7142857142858,
          508.1967213114754,
          775,
          500,
          500,
          600,
          600,
          732.1428571428571,
          500,
          666.6666666666667,
          571.4285714285714,
          666.6666666666666,
          633.3333333333333,
          500,
          666.6666666666666,
          500,
          633.3333333333333,
          600
         ]
        },
        {
         "name": "50-59",
         "type": "scatter",
         "visible": false,
         "x": [
          "2019-01-01",
          "2019-02-01",
          "2019-03-01",
          "2019-04-01",
          "2019-05-01",
          "2019-06-01",
          "2019-07-01",
          "2019-08-01",
          "2019-09-01",
          "2019-10-01",
          "2019-11-01",
          "2019-12-01",
          "2020-01-01",
          "2020-02-01",
          "2020-03-01",
          "2020-04-01",
          "2020-05-01",
          "2020-06-01",
          "2020-07-01",
          "2020-08-01",
          "2020-09-01",
          "2020-10-01",
          "2020-11-01",
          "2020-12-01",
          "2021-01-01",
          "2021-02-01",
          "2021-03-01",
          "2021-04-01"
         ],
         "y": [
          516.1290322580645,
          500,
          500,
          800,
          500,
          500,
          561.9047619047619,
          500,
          585.7142857142858,
          666.6666666666666,
          666.6666666666666,
          514.2857142857142,
          500,
          583.3333333333333,
          375,
          500,
          708.3333333333333,
          600,
          500,
          600,
          666.6666666666666,
          535.7142857142857,
          666.6666666666666,
          588.8888888888889,
          500,
          500,
          633.3333333333333,
          500
         ]
        },
        {
         "name": "60-69",
         "type": "scatter",
         "visible": false,
         "x": [
          "2019-01-01",
          "2019-02-01",
          "2019-03-01",
          "2019-04-01",
          "2019-05-01",
          "2019-06-01",
          "2019-07-01",
          "2019-08-01",
          "2019-09-01",
          "2019-10-01",
          "2019-11-01",
          "2019-12-01",
          "2020-01-01",
          "2020-02-01",
          "2020-03-01",
          "2020-04-01",
          "2020-05-01",
          "2020-06-01",
          "2020-07-01",
          "2020-08-01",
          "2020-09-01",
          "2020-10-01",
          "2020-11-01",
          "2020-12-01",
          "2021-01-01",
          "2021-02-01",
          "2021-03-01",
          "2021-04-01"
         ],
         "y": [
          645.8333333333333,
          708.3333333333333,
          500,
          544.6428571428571,
          500,
          525,
          500,
          612.7450980392157,
          583.3333333333333,
          612.5,
          500,
          683.3333333333333,
          666.6666666666666,
          666.6666666666666,
          500,
          500,
          500,
          500,
          500,
          708.3333333333334,
          570.2702702702702,
          875,
          589.2857142857142,
          500,
          507.6923076923077,
          507.46268656716416,
          733.3333333333333,
          504.23728813559325
         ]
        },
        {
         "name": "70-79",
         "type": "scatter",
         "visible": false,
         "x": [
          "2019-01-01",
          "2019-02-01",
          "2019-03-01",
          "2019-04-01",
          "2019-05-01",
          "2019-06-01",
          "2019-07-01",
          "2019-08-01",
          "2019-09-01",
          "2019-10-01",
          "2019-11-01",
          "2019-12-01",
          "2020-01-01",
          "2020-02-01",
          "2020-03-01",
          "2020-04-01",
          "2020-05-01",
          "2020-06-01",
          "2020-07-01",
          "2020-08-01",
          "2020-09-01",
          "2020-10-01",
          "2020-11-01",
          "2020-12-01",
          "2021-01-01",
          "2021-02-01",
          "2021-03-01",
          "2021-04-01"
         ],
         "y": [
          600,
          500,
          500,
          633.3333333333333,
          600,
          554.945054945055,
          550,
          666.6666666666666,
          757.1428571428571,
          500,
          578.9473684210526,
          625,
          520.8333333333333,
          500,
          554.945054945055,
          571.1864406779662,
          500,
          690.4761904761904,
          600,
          571.4285714285714,
          500,
          500,
          777.7777777777778,
          500,
          666.6666666666666,
          500,
          500,
          645.8333333333334
         ]
        },
        {
         "name": "80+",
         "type": "scatter",
         "visible": false,
         "x": [
          "2019-01-01",
          "2019-02-01",
          "2019-03-01",
          "2019-04-01",
          "2019-05-01",
          "2019-06-01",
          "2019-07-01",
          "2019-08-01",
          "2019-09-01",
          "2019-10-01",
          "2019-11-01",
          "2019-12-01",
          "2020-01-01",
          "2020-02-01",
          "2020-03-01",
          "2020-04-01",
          "2020-05-01",
          "2020-06-01",
          "2020-07-01",
          "2020-08-01",
          "2020-09-01",
          "2020-10-01",
          "2020-11-01",
          "2020-12-01",
          "2021-01-01",
          "2021-02-01",
          "2021-03-01",
          "2021-04-01"
         ],
         "y": [
          550,
          633.3333333333333,
          500,
          550,
          500,
          714.2857142857142,
          500,
          500,
          636.3636363636364,
          500,
          633.3333333333333,
          500,
          666.6666666666666,
          500,
          530.7017543859649,
          535.7142857142858,
          666.6666666666666,
          500,
          585.3658536585366,
          666.6666666666666,
          500,
          531.8181818181818,
          607.5268817204301,
          666.6666666666666,
          500,
          828.5714285714286,
          571.4285714285714,
          666.6666666666666
         ]
        },
        {
         "name": "Most deprived",
         "type": "scatter",
         "visible": false,
         "x": [
          "2019-01-01",
          "2019-02-01",
          "2019-03-01",
          "2019-04-01",
          "2019-05-01",
          "2019-06-01",
          "2019-07-01",
          "2019-08-01",
          "2019-09-01",
          "2019-10-01",
          "2019-11-01",
          "2019-12-01",
          "2020-01-01",
          "2020-02-01",
          "2020-03-01",
          "2020-04-01",
          "2020-05-01",
          "2020-06-01",
          "2020-07-01",
          "2020-08-01",
          "2020-09-01",
          "2020-10-01",
          "2020-11-01",
          "2020-12-01",
          "2021-01-01",
          "2021-02-01",
          "2021-03-01",
          "2021-04-01"
         ],
         "y": [
          92.5,
          117.39583333333333,
          100,
          99.58333333333334,
          110,
          100.83333333333333,
          107.33333333333334,
          113.75,
          120,
          110.83333333333333,
          95.55555555555554,
          104.375,
          117.5,
          114.16666666666667,
          107.5,
          95.77777777777777,
          115,
          104.58333333333333,
          89.79166666666666,
          122.5,
          112.5,
          105.625,
          128.33333333333334,
          117.5,
          112.5,
          115,
          115,
          117.5
         ]
        },
        {
         "name": "2",
         "type": "scatter",
         "visible": false,
         "x": [
          "2019-01-01",
          "2019-02-01",
          "2019-03-01",
          "2019-04-01",
          "2019-05-01",
          "2019-06-01",
          "2019-07-01",
          "2019-08-01",
          "2019-09-01",
          "2019-10-01",
          "2019-11-01",
          "2019-12-01",
          "2020-01-01",
          "2020-02-01",
          "2020-03-01",
          "2020-04-01",
          "2020-05-01",
          "2020-06-01",
          "2020-07-01",
          "2020-08-01",
          "2020-09-01",
          "2020-10-01",
          "2020-11-01",
          "2020-12-01",
          "2021-01-01",
          "2021-02-01",
          "2021-03-01",
          "2021-04-01"
         ],
         "y": [
          111.66666666666667,
          109.41666666666666,
          113.33333333333333,
          90.83333333333334,
          92.77777777777779,
          105.78125,
          113.75,
          125,
          112.5,
          113.33333333333333,
          112.5,
          112.5,
          120,
          96.66666666666667,
          117.5,
          114.25,
          119.58333333333334,
          112.5,
          90,
          96.875,
          132.5,
          115,
          90,
          120,
          118.89583333333334,
          92.5,
          129.16666666666669,
          93.75
         ]
        },
        {
         "name": "3",
         "type": "scatter",
         "visible": false,
         "x": [
          "2019-01-01",
          "2019-02-01",
          "2019-03-01",
          "2019-04-01",
          "2019-05-01",
          "2019-06-01",
          "2019-07-01",
          "2019-08-01",
          "2019-09-01",
          "2019-10-01",
          "2019-11-01",
          "2019-12-01",
          "2020-01-01",
          "2020-02-01",
          "2020-03-01",
          "2020-04-01",
          "2020-05-01",
          "2020-06-01",
          "2020-07-01",
          "2020-08-01",
          "2020-09-01",
          "2020-10-01",
          "2020-11-01",
          "2020-12-01",
          "2021-01-01",
          "2021-02-01",
          "2021-03-01",
          "2021-04-01"
         ],
         "y": [
          100,
          95,
          117.5,
          102.5,
          94.08333333333333,
          125,
          92.5,
          115.97222222222223,
          115,
          102.77777777777777,
          98.75,
          120,
          115,
          115,
          109.16666666666666,
          107.5,
          94.0625,
          96.25,
          95,
          83.75,
          115.625,
          103.33333333333334,
          100,
          92.5,
          120,
          115,
          108.5,
          98.75
         ]
        },
        {
         "name": "4",
         "type": "scatter",
         "visible": false,
         "x": [
          "2019-01-01",
          "2019-02-01",
          "2019-03-01",
          "2019-04-01",
          "2019-05-01",
          "2019-06-01",
          "2019-07-01",
          "2019-08-01",
          "2019-09-01",
          "2019-10-01",
          "2019-11-01",
          "2019-12-01",
          "2020-01-01",
          "2020-02-01",
          "2020-03-01",
          "2020-04-01",
          "2020-05-01",
          "2020-06-01",
          "2020-07-01",
          "2020-08-01",
          "2020-09-01",
          "2020-10-01",
          "2020-11-01",
          "2020-12-01",
          "2021-01-01",
          "2021-02-01",
          "2021-03-01",
          "2021-04-01"
         ],
         "y": [
          99.16666666666666,
          108.33333333333334,
          110,
          109.16666666666666,
          119.16666666666666,
          112.91666666666666,
          96.66666666666666,
          111.25,
          120,
          115,
          110,
          103.47222222222223,
          99.375,
          127.5,
          92.5,
          95,
          115,
          120,
          106.25,
          101.25,
          106.04166666666666,
          111.71875,
          117.5,
          98.54166666666666,
          92.08333333333334,
          99.58333333333334,
          98.54166666666667,
          97.5
         ]
        },
        {
         "name": "Least deprived",
         "type": "scatter",
         "visible": false,
         "x": [
          "2019-01-01",
          "2019-02-01",
          "2019-03-01",
          "2019-04-01",
          "2019-05-01",
          "2019-06-01",
          "2019-07-01",
          "2019-08-01",
          "2019-09-01",
          "2019-10-01",
          "2019-11-01",
          "2019-12-01",
          "2020-01-01",
          "2020-02-01",
          "2020-03-01",
          "2020-04-01",
          "2020-05-01",
          "2020-06-01",
          "2020-07-01",
          "2020-08-01",
          "2020-09-01",
          "2020-10-01",
          "2020-11-01",
          "2020-12-01",
          "2021-01-01",
          "2021-02-01",
          "2021-03-01",
          "2021-04-01"
         ],
         "y": [
          104.0625,
          110,
          117.8125,
          92.91666666666667,
          115,
          125.375,
          102.5,
          97.5,
          123.4375,
          103.33333333333333,
          109.86111111111111,
          115,
          91.25,
          115,
          103.75,
          110,
          108.33333333333333,
          100,
          130,
          113.75,
          90.72916666666667,
          108.33333333333333,
          95.625,
          92.08333333333334,
          102.5,
          115,
          108.33333333333333,
          107.5
         ]
        }
       ],
       "layout": {
        "autosize": true,
        "hovermode": "x",
        "template": {
         "data": {
          "bar": [
           {
            "error_x": {
             "color": "#2a3f5f"
            },
            "error_y": {
             "color": "#2a3f5f"
            },
            "marker": {
             "line": {
              "color": "#E5ECF6",
              "width": 0.5
             }
            },
            "type": "bar"
           }
          ],
          "barpolar": [
           {
            "marker": {
             "line": {
              "color": "#E5ECF6",
              "width": 0.5
             }
            },
            "type": "barpolar"
           }
          ],
          "carpet": [
           {
            "aaxis": {
             "endlinecolor": "#2a3f5f",
             "gridcolor": "white",
             "linecolor": "white",
             "minorgridcolor": "white",
             "startlinecolor": "#2a3f5f"
            },
            "baxis": {
             "endlinecolor": "#2a3f5f",
             "gridcolor": "white",
             "linecolor": "white",
             "minorgridcolor": "white",
             "startlinecolor": "#2a3f5f"
            },
            "type": "carpet"
           }
          ],
          "choropleth": [
           {
            "colorbar": {
             "outlinewidth": 0,
             "ticks": ""
            },
            "type": "choropleth"
           }
          ],
          "contour": [
           {
            "colorbar": {
             "outlinewidth": 0,
             "ticks": ""
            },
            "colorscale": [
             [
              0,
              "#0d0887"
             ],
             [
              0.1111111111111111,
              "#46039f"
             ],
             [
              0.2222222222222222,
              "#7201a8"
             ],
             [
              0.3333333333333333,
              "#9c179e"
             ],
             [
              0.4444444444444444,
              "#bd3786"
             ],
             [
              0.5555555555555556,
              "#d8576b"
             ],
             [
              0.6666666666666666,
              "#ed7953"
             ],
             [
              0.7777777777777778,
              "#fb9f3a"
             ],
             [
              0.8888888888888888,
              "#fdca26"
             ],
             [
              1,
              "#f0f921"
             ]
            ],
            "type": "contour"
           }
          ],
          "contourcarpet": [
           {
            "colorbar": {
             "outlinewidth": 0,
             "ticks": ""
            },
            "type": "contourcarpet"
           }
          ],
          "heatmap": [
           {
            "colorbar": {
             "outlinewidth": 0,
             "ticks": ""
            },
            "colorscale": [
             [
              0,
              "#0d0887"
             ],
             [
              0.1111111111111111,
              "#46039f"
             ],
             [
              0.2222222222222222,
              "#7201a8"
             ],
             [
              0.3333333333333333,
              "#9c179e"
             ],
             [
              0.4444444444444444,
              "#bd3786"
             ],
             [
              0.5555555555555556,
              "#d8576b"
             ],
             [
              0.6666666666666666,
              "#ed7953"
             ],
             [
              0.7777777777777778,
              "#fb9f3a"
             ],
             [
              0.8888888888888888,
              "#fdca26"
             ],
             [
              1,
              "#f0f921"
             ]
            ],
            "type": "heatmap"
           }
          ],
          "heatmapgl": [
           {
            "colorbar": {
             "outlinewidth": 0,
             "ticks": ""
            },
            "colorscale": [
             [
              0,
              "#0d0887"
             ],
             [
              0.1111111111111111,
              "#46039f"
             ],
             [
              0.2222222222222222,
              "#7201a8"
             ],
             [
              0.3333333333333333,
              "#9c179e"
             ],
             [
              0.4444444444444444,
              "#bd3786"
             ],
             [
              0.5555555555555556,
              "#d8576b"
             ],
             [
              0.6666666666666666,
              "#ed7953"
             ],
             [
              0.7777777777777778,
              "#fb9f3a"
             ],
             [
              0.8888888888888888,
              "#fdca26"
             ],
             [
              1,
              "#f0f921"
             ]
            ],
            "type": "heatmapgl"
           }
          ],
          "histogram": [
           {
            "marker": {
             "colorbar": {
              "outlinewidth": 0,
              "ticks": ""
             }
            },
            "type": "histogram"
           }
          ],
          "histogram2d": [
           {
            "colorbar": {
             "outlinewidth": 0,
             "ticks": ""
            },
            "colorscale": [
             [
              0,
              "#0d0887"
             ],
             [
              0.1111111111111111,
              "#46039f"
             ],
             [
              0.2222222222222222,
              "#7201a8"
             ],
             [
              0.3333333333333333,
              "#9c179e"
             ],
             [
              0.4444444444444444,
              "#bd3786"
             ],
             [
              0.5555555555555556,
              "#d8576b"
             ],
             [
              0.6666666666666666,
              "#ed7953"
             ],
             [
              0.7777777777777778,
              "#fb9f3a"
             ],
             [
              0.8888888888888888,
              "#fdca26"
             ],
             [
              1,
              "#f0f921"
             ]
            ],
            "type": "histogram2d"
           }
          ],
          "histogram2dcontour": [
           {
            "colorbar": {
             "outlinewidth": 0,
             "ticks": ""
            },
            "colorscale": [
             [
              0,
              "#0d0887"
             ],
             [
              0.1111111111111111,
              "#46039f"
             ],
             [
              0.2222222222222222,
              "#7201a8"
             ],
             [
              0.3333333333333333,
              "#9c179e"
             ],
             [
              0.4444444444444444,
              "#bd3786"
             ],
             [
              0.5555555555555556,
              "#d8576b"
             ],
             [
              0.6666666666666666,
              "#ed7953"
             ],
             [
              0.7777777777777778,
              "#fb9f3a"
             ],
             [
              0.8888888888888888,
              "#fdca26"
             ],
             [
              1,
              "#f0f921"
             ]
            ],
            "type": "histogram2dcontour"
           }
          ],
          "mesh3d": [
           {
            "colorbar": {
             "outlinewidth": 0,
             "ticks": ""
            },
            "type": "mesh3d"
           }
          ],
          "parcoords": [
           {
            "line": {
             "colorbar": {
              "outlinewidth": 0,
              "ticks": ""
             }
            },
            "type": "parcoords"
           }
          ],
          "pie": [
           {
            "automargin": true,
            "type": "pie"
           }
          ],
          "scatter": [
           {
            "marker": {
             "colorbar": {
              "outlinewidth": 0,
              "ticks": ""
             }
            },
            "type": "scatter"
           }
          ],
          "scatter3d": [
           {
            "line": {
             "colorbar": {
              "outlinewidth": 0,
              "ticks": ""
             }
            },
            "marker": {
             "colorbar": {
              "outlinewidth": 0,
              "ticks": ""
             }
            },
            "type": "scatter3d"
           }
          ],
          "scattercarpet": [
           {
            "marker": {
             "colorbar": {
              "outlinewidth": 0,
              "ticks": ""
             }
            },
            "type": "scattercarpet"
           }
          ],
          "scattergeo": [
           {
            "marker": {
             "colorbar": {
              "outlinewidth": 0,
              "ticks": ""
             }
            },
            "type": "scattergeo"
           }
          ],
          "scattergl": [
           {
            "marker": {
             "colorbar": {
              "outlinewidth": 0,
              "ticks": ""
             }
            },
            "type": "scattergl"
           }
          ],
          "scattermapbox": [
           {
            "marker": {
             "colorbar": {
              "outlinewidth": 0,
              "ticks": ""
             }
            },
            "type": "scattermapbox"
           }
          ],
          "scatterpolar": [
           {
            "marker": {
             "colorbar": {
              "outlinewidth": 0,
              "ticks": ""
             }
            },
            "type": "scatterpolar"
           }
          ],
          "scatterpolargl": [
           {
            "marker": {
             "colorbar": {
              "outlinewidth": 0,
              "ticks": ""
             }
            },
            "type": "scatterpolargl"
           }
          ],
          "scatterternary": [
           {
            "marker": {
             "colorbar": {
              "outlinewidth": 0,
              "ticks": ""
             }
            },
            "type": "scatterternary"
           }
          ],
          "surface": [
           {
            "colorbar": {
             "outlinewidth": 0,
             "ticks": ""
            },
            "colorscale": [
             [
              0,
              "#0d0887"
             ],
             [
              0.1111111111111111,
              "#46039f"
             ],
             [
              0.2222222222222222,
              "#7201a8"
             ],
             [
              0.3333333333333333,
              "#9c179e"
             ],
             [
              0.4444444444444444,
              "#bd3786"
             ],
             [
              0.5555555555555556,
              "#d8576b"
             ],
             [
              0.6666666666666666,
              "#ed7953"
             ],
             [
              0.7777777777777778,
              "#fb9f3a"
             ],
             [
              0.8888888888888888,
              "#fdca26"
             ],
             [
              1,
              "#f0f921"
             ]
            ],
            "type": "surface"
           }
          ],
          "table": [
           {
            "cells": {
             "fill": {
              "color": "#EBF0F8"
             },
             "line": {
              "color": "white"
             }
            },
            "header": {
             "fill": {
              "color": "#C8D4E3"
             },
             "line": {
              "color": "white"
             }
            },
            "type": "table"
           }
          ]
         },
         "layout": {
          "annotationdefaults": {
           "arrowcolor": "#2a3f5f",
           "arrowhead": 0,
           "arrowwidth": 1
          },
          "autotypenumbers": "strict",
          "coloraxis": {
           "colorbar": {
            "outlinewidth": 0,
            "ticks": ""
           }
          },
          "colorscale": {
           "diverging": [
            [
             0,
             "#8e0152"
            ],
            [
             0.1,
             "#c51b7d"
            ],
            [
             0.2,
             "#de77ae"
            ],
            [
             0.3,
             "#f1b6da"
            ],
            [
             0.4,
             "#fde0ef"
            ],
            [
             0.5,
             "#f7f7f7"
            ],
            [
             0.6,
             "#e6f5d0"
            ],
            [
             0.7,
             "#b8e186"
            ],
            [
             0.8,
             "#7fbc41"
            ],
            [
             0.9,
             "#4d9221"
            ],
            [
             1,
             "#276419"
            ]
           ],
           "sequential": [
            [
             0,
             "#0d0887"
            ],
            [
             0.1111111111111111,
             "#46039f"
            ],
            [
             0.2222222222222222,
             "#7201a8"
            ],
            [
             0.3333333333333333,
             "#9c179e"
            ],
            [
             0.4444444444444444,
             "#bd3786"
            ],
            [
             0.5555555555555556,
             "#d8576b"
            ],
            [
             0.6666666666666666,
             "#ed7953"
            ],
            [
             0.7777777777777778,
             "#fb9f3a"
            ],
            [
             0.8888888888888888,
             "#fdca26"
            ],
            [
             1,
             "#f0f921"
            ]
           ],
           "sequentialminus": [
            [
             0,
             "#0d0887"
            ],
            [
             0.1111111111111111,
             "#46039f"
            ],
            [
             0.2222222222222222,
             "#7201a8"
            ],
            [
             0.3333333333333333,
             "#9c179e"
            ],
            [
             0.4444444444444444,
             "#bd3786"
            ],
            [
             0.5555555555555556,
             "#d8576b"
            ],
            [
             0.6666666666666666,
             "#ed7953"
            ],
            [
             0.7777777777777778,
             "#fb9f3a"
            ],
            [
             0.8888888888888888,
             "#fdca26"
            ],
            [
             1,
             "#f0f921"
            ]
           ]
          },
          "colorway": [
           "#636efa",
           "#EF553B",
           "#00cc96",
           "#ab63fa",
           "#FFA15A",
           "#19d3f3",
           "#FF6692",
           "#B6E880",
           "#FF97FF",
           "#FECB52"
          ],
          "font": {
           "color": "#2a3f5f"
          },
          "geo": {
           "bgcolor": "white",
           "lakecolor": "white",
           "landcolor": "#E5ECF6",
           "showlakes": true,
           "showland": true,
           "subunitcolor": "white"
          },
          "hoverlabel": {
           "align": "left"
          },
          "hovermode": "closest",
          "mapbox": {
           "style": "light"
          },
          "paper_bgcolor": "white",
          "plot_bgcolor": "#E5ECF6",
          "polar": {
           "angularaxis": {
            "gridcolor": "white",
            "linecolor": "white",
            "ticks": ""
           },
           "bgcolor": "#E5ECF6",
           "radialaxis": {
            "gridcolor": "white",
            "linecolor": "white",
            "ticks": ""
           }
          },
          "scene": {
           "xaxis": {
            "backgroundcolor": "#E5ECF6",
            "gridcolor": "white",
            "gridwidth": 2,
            "linecolor": "white",
            "showbackground": true,
            "ticks": "",
            "zerolinecolor": "white"
           },
           "yaxis": {
            "backgroundcolor": "#E5ECF6",
            "gridcolor": "white",
            "gridwidth": 2,
            "linecolor": "white",
            "showbackground": true,
            "ticks": "",
            "zerolinecolor": "white"
           },
           "zaxis": {
            "backgroundcolor": "#E5ECF6",
            "gridcolor": "white",
            "gridwidth": 2,
            "linecolor": "white",
            "showbackground": true,
            "ticks": "",
            "zerolinecolor": "white"
           }
          },
          "shapedefaults": {
           "line": {
            "color": "#2a3f5f"
           }
          },
          "ternary": {
           "aaxis": {
            "gridcolor": "white",
            "linecolor": "white",
            "ticks": ""
           },
           "baxis": {
            "gridcolor": "white",
            "linecolor": "white",
            "ticks": ""
           },
           "bgcolor": "#E5ECF6",
           "caxis": {
            "gridcolor": "white",
            "linecolor": "white",
            "ticks": ""
           }
          },
          "title": {
           "x": 0.05
          },
          "xaxis": {
           "automargin": true,
           "gridcolor": "white",
           "linecolor": "white",
           "ticks": "",
           "title": {
            "standoff": 15
           },
           "zerolinecolor": "white",
           "zerolinewidth": 2
          },
          "yaxis": {
           "automargin": true,
           "gridcolor": "white",
           "linecolor": "white",
           "ticks": "",
           "title": {
            "standoff": 15
           },
           "zerolinecolor": "white",
           "zerolinewidth": 2
          }
         }
        },
        "title": {
         "x": 0.5
        },
        "updatemenus": [
         {
          "active": 0,
          "buttons": [
           {
            "args": [
             {
              "visible": [
               true,
               false,
               false,
               false,
               false,
               false,
               false,
               false,
               false,
               false,
               false,
               false,
               false,
               false
              ]
             },
             {
              "showlegend": true,
              "title": "Total Population Rate"
             }
            ],
            "label": "Total Population Rate",
            "method": "update"
           },
           {
            "args": [
             {
              "visible": [
               false,
               true,
               true,
               true,
               true,
               true,
               true,
               true,
               true,
               false,
               false,
               false,
               false,
               false
              ]
             },
             {
              "showlegend": true,
              "title": "age_band"
             }
            ],
            "label": "age_band",
            "method": "update"
           },
           {
            "args": [
             {
              "visible": [
               false,
               false,
               false,
               false,
               false,
               false,
               false,
               false,
               false,
               true,
               true,
               true,
               true,
               true
              ]
             },
             {
              "showlegend": true,
              "title": "imd"
             }
            ],
            "label": "imd",
            "method": "update"
           }
          ],
          "direction": "down",
          "pad": {
           "r": 10,
           "t": 10
          },
          "x": 1,
          "xanchor": "left",
          "y": 1.3,
          "yanchor": "top"
         }
        ],
        "xaxis": {
         "autorange": true,
         "range": [
          "2019-01-01",
          "2021-04-01"
         ],
         "rangeselector": {
          "buttons": [
           {
            "count": 1,
            "label": "1m",
            "step": "month",
            "stepmode": "backward"
           },
           {
            "count": 6,
            "label": "6m",
            "step": "month",
            "stepmode": "backward"
           },
           {
            "count": 1,
            "label": "1y",
            "step": "year",
            "stepmode": "backward"
           },
           {
            "step": "all"
           }
          ]
         },
         "rangeslider": {
          "autorange": true,
          "range": [
           "2019-01-01",
           "2021-04-01"
          ],
          "visible": true,
          "yaxis": {
           "_template": null,
           "rangemode": "match"
          }
         },
         "type": "date"
        },
        "yaxis": {
         "autorange": true,
         "range": [
          420.26345833817095,
          676.610453190913
         ],
         "title": {
          "text": "Age standardised rate per 1000"
         },
         "type": "linear"
        }
       }
      },
      "image/png": "[encoded data removed]",
      "text/html": [
       "<div>                            <div id=\"c6cb8567-2743-4126-908d-8252a851305a\" class=\"plotly-graph-div\" style=\"height:525px; width:100%;\"></div>            <script type=\"text/javascript\">                require([\"plotly\"], function(Plotly) {                    window.PLOTLYENV=window.PLOTLYENV || {};                                    if (document.getElementById(\"c6cb8567-2743-4126-908d-8252a851305a\")) {                    Plotly.newPlot(                        \"c6cb8567-2743-4126-908d-8252a851305a\",                        [{\"name\": \"total\", \"type\": \"scatter\", \"visible\": true, \"x\": [\"2019-01-01\", \"2019-02-01\", \"2019-03-01\", \"2019-04-01\", \"2019-05-01\", \"2019-06-01\", \"2019-07-01\", \"2019-08-01\", \"2019-09-01\", \"2019-10-01\", \"2019-11-01\", \"2019-12-01\", \"2020-01-01\", \"2020-02-01\", \"2020-03-01\", \"2020-04-01\", \"2020-05-01\", \"2020-06-01\", \"2020-07-01\", \"2020-08-01\", \"2020-09-01\", \"2020-10-01\", \"2020-11-01\", \"2020-12-01\", \"2021-01-01\", \"2021-02-01\", \"2021-03-01\", \"2021-04-01\"], \"y\": [511.11111111111114, 491.37931034482756, 503.47222222222223, 511.6279069767442, 454.375, 500.0, 500.0, 517.5438596491227, 565.6565656565657, 509.5238095238095, 516.1786786786787, 600.0, 481.48148148148147, 663.7931034482758, 577.7777777777778, 522.7897139011143, 531.25, 500.0, 500.0, 498.25174825174827, 500.0, 512.5, 487.1794871794871, 500.0, 433.080808080808, 500.0, 488.1578947368421, 499.08755038065385]}, {\"name\": \"0-19\", \"type\": \"scatter\", \"visible\": false, \"x\": [\"2019-01-01\", \"2019-02-01\", \"2019-03-01\", \"2019-04-01\", \"2019-05-01\", \"2019-06-01\", \"2019-07-01\", \"2019-08-01\", \"2019-09-01\", \"2019-10-01\", \"2019-11-01\", \"2019-12-01\", \"2020-01-01\", \"2020-02-01\", \"2020-03-01\", \"2020-04-01\", \"2020-05-01\", \"2020-06-01\", \"2020-07-01\", \"2020-08-01\", \"2020-09-01\", \"2020-10-01\", \"2020-11-01\", \"2020-12-01\", \"2021-01-01\", \"2021-02-01\", \"2021-03-01\", \"2021-04-01\"], \"y\": [633.3333333333333, 507.46268656716416, 500.0, 550.0, 500.0, 586.6666666666666, 500.0, 500.0, 666.6666666666666, 521.1864406779662, 552.2388059701492, 800.0, 480.7692307692308, 535.7142857142858, 550.0, 708.3333333333333, 550.0, 571.4285714285714, 600.0, 583.3333333333333, 666.6666666666666, 553.7313432835821, 666.6666666666666, 833.3333333333333, 507.46268656716416, 600.0, 500.0, 428.57142857142856]}, {\"name\": \"20-29\", \"type\": \"scatter\", \"visible\": false, \"x\": [\"2019-01-01\", \"2019-02-01\", \"2019-03-01\", \"2019-04-01\", \"2019-05-01\", \"2019-06-01\", \"2019-07-01\", \"2019-08-01\", \"2019-09-01\", \"2019-10-01\", \"2019-11-01\", \"2019-12-01\", \"2020-01-01\", \"2020-02-01\", \"2020-03-01\", \"2020-04-01\", \"2020-05-01\", \"2020-06-01\", \"2020-07-01\", \"2020-08-01\", \"2020-09-01\", \"2020-10-01\", \"2020-11-01\", \"2020-12-01\", \"2021-01-01\", \"2021-02-01\", \"2021-03-01\", \"2021-04-01\"], \"y\": [633.3333333333333, 596.4912280701753, 666.6666666666666, 504.23728813559325, 716.6666666666667, 666.6666666666666, 513.8888888888889, 714.2857142857142, 500.0, 833.3333333333334, 500.0, 500.0, 506.94444444444446, 750.0, 666.6666666666666, 500.0, 600.0, 833.3333333333333, 666.6666666666666, 500.0, 500.0, 585.7142857142858, 660.7142857142858, 500.0, 570.3125, 534.4827586206897, 900.0, 500.0]}, {\"name\": \"30-39\", \"type\": \"scatter\", \"visible\": false, \"x\": [\"2019-01-01\", \"2019-02-01\", \"2019-03-01\", \"2019-04-01\", \"2019-05-01\", \"2019-06-01\", \"2019-07-01\", \"2019-08-01\", \"2019-09-01\", \"2019-10-01\", \"2019-11-01\", \"2019-12-01\", \"2020-01-01\", \"2020-02-01\", \"2020-03-01\", \"2020-04-01\", \"2020-05-01\", \"2020-06-01\", \"2020-07-01\", \"2020-08-01\", \"2020-09-01\", \"2020-10-01\", \"2020-11-01\", \"2020-12-01\", \"2021-01-01\", \"2021-02-01\", \"2021-03-01\", \"2021-04-01\"], \"y\": [600.0, 500.0, 666.6666666666666, 583.3333333333333, 666.6666666666666, 509.433962264151, 611.1111111111111, 500.0, 535.7142857142858, 600.0, 583.3333333333333, 666.6666666666667, 500.0, 537.0370370370371, 732.1428571428571, 633.3333333333333, 600.0, 666.6666666666666, 500.0, 550.0, 600.0, 571.4285714285714, 557.3770491803278, 612.5, 708.3333333333333, 666.6666666666666, 720.5882352941176, 500.0]}, {\"name\": \"40-49\", \"type\": \"scatter\", \"visible\": false, \"x\": [\"2019-01-01\", \"2019-02-01\", \"2019-03-01\", \"2019-04-01\", \"2019-05-01\", \"2019-06-01\", \"2019-07-01\", \"2019-08-01\", \"2019-09-01\", \"2019-10-01\", \"2019-11-01\", \"2019-12-01\", \"2020-01-01\", \"2020-02-01\", \"2020-03-01\", \"2020-04-01\", \"2020-05-01\", \"2020-06-01\", \"2020-07-01\", \"2020-08-01\", \"2020-09-01\", \"2020-10-01\", \"2020-11-01\", \"2020-12-01\", \"2021-01-01\", \"2021-02-01\", \"2021-03-01\", \"2021-04-01\"], \"y\": [606.7708333333333, 666.6666666666666, 750.0, 500.0, 500.0, 708.3333333333333, 585.7142857142857, 500.0, 660.7142857142858, 527.7777777777778, 535.7142857142858, 508.1967213114754, 775.0, 500.0, 500.0, 600.0, 600.0, 732.1428571428571, 500.0, 666.6666666666667, 571.4285714285714, 666.6666666666666, 633.3333333333333, 500.0, 666.6666666666666, 500.0, 633.3333333333333, 600.0]}, {\"name\": \"50-59\", \"type\": \"scatter\", \"visible\": false, \"x\": [\"2019-01-01\", \"2019-02-01\", \"2019-03-01\", \"2019-04-01\", \"2019-05-01\", \"2019-06-01\", \"2019-07-01\", \"2019-08-01\", \"2019-09-01\", \"2019-10-01\", \"2019-11-01\", \"2019-12-01\", \"2020-01-01\", \"2020-02-01\", \"2020-03-01\", \"2020-04-01\", \"2020-05-01\", \"2020-06-01\", \"2020-07-01\", \"2020-08-01\", \"2020-09-01\", \"2020-10-01\", \"2020-11-01\", \"2020-12-01\", \"2021-01-01\", \"2021-02-01\", \"2021-03-01\", \"2021-04-01\"], \"y\": [516.1290322580645, 500.0, 500.0, 800.0, 500.0, 500.0, 561.9047619047619, 500.0, 585.7142857142858, 666.6666666666666, 666.6666666666666, 514.2857142857142, 500.0, 583.3333333333333, 375.0, 500.0, 708.3333333333333, 600.0, 500.0, 600.0, 666.6666666666666, 535.7142857142857, 666.6666666666666, 588.8888888888889, 500.0, 500.0, 633.3333333333333, 500.0]}, {\"name\": \"60-69\", \"type\": \"scatter\", \"visible\": false, \"x\": [\"2019-01-01\", \"2019-02-01\", \"2019-03-01\", \"2019-04-01\", \"2019-05-01\", \"2019-06-01\", \"2019-07-01\", \"2019-08-01\", \"2019-09-01\", \"2019-10-01\", \"2019-11-01\", \"2019-12-01\", \"2020-01-01\", \"2020-02-01\", \"2020-03-01\", \"2020-04-01\", \"2020-05-01\", \"2020-06-01\", \"2020-07-01\", \"2020-08-01\", \"2020-09-01\", \"2020-10-01\", \"2020-11-01\", \"2020-12-01\", \"2021-01-01\", \"2021-02-01\", \"2021-03-01\", \"2021-04-01\"], \"y\": [645.8333333333333, 708.3333333333333, 500.0, 544.6428571428571, 500.0, 525.0, 500.0, 612.7450980392157, 583.3333333333333, 612.5, 500.0, 683.3333333333333, 666.6666666666666, 666.6666666666666, 500.0, 500.0, 500.0, 500.0, 500.0, 708.3333333333334, 570.2702702702702, 875.0, 589.2857142857142, 500.0, 507.6923076923077, 507.46268656716416, 733.3333333333333, 504.23728813559325]}, {\"name\": \"70-79\", \"type\": \"scatter\", \"visible\": false, \"x\": [\"2019-01-01\", \"2019-02-01\", \"2019-03-01\", \"2019-04-01\", \"2019-05-01\", \"2019-06-01\", \"2019-07-01\", \"2019-08-01\", \"2019-09-01\", \"2019-10-01\", \"2019-11-01\", \"2019-12-01\", \"2020-01-01\", \"2020-02-01\", \"2020-03-01\", \"2020-04-01\", \"2020-05-01\", \"2020-06-01\", \"2020-07-01\", \"2020-08-01\", \"2020-09-01\", \"2020-10-01\", \"2020-11-01\", \"2020-12-01\", \"2021-01-01\", \"2021-02-01\", \"2021-03-01\", \"2021-04-01\"], \"y\": [600.0, 500.0, 500.0, 633.3333333333333, 600.0, 554.945054945055, 550.0, 666.6666666666666, 757.1428571428571, 500.0, 578.9473684210526, 625.0, 520.8333333333333, 500.0, 554.945054945055, 571.1864406779662, 500.0, 690.4761904761904, 600.0, 571.4285714285714, 500.0, 500.0, 777.7777777777778, 500.0, 666.6666666666666, 500.0, 500.0, 645.8333333333334]}, {\"name\": \"80+\", \"type\": \"scatter\", \"visible\": false, \"x\": [\"2019-01-01\", \"2019-02-01\", \"2019-03-01\", \"2019-04-01\", \"2019-05-01\", \"2019-06-01\", \"2019-07-01\", \"2019-08-01\", \"2019-09-01\", \"2019-10-01\", \"2019-11-01\", \"2019-12-01\", \"2020-01-01\", \"2020-02-01\", \"2020-03-01\", \"2020-04-01\", \"2020-05-01\", \"2020-06-01\", \"2020-07-01\", \"2020-08-01\", \"2020-09-01\", \"2020-10-01\", \"2020-11-01\", \"2020-12-01\", \"2021-01-01\", \"2021-02-01\", \"2021-03-01\", \"2021-04-01\"], \"y\": [550.0, 633.3333333333333, 500.0, 550.0, 500.0, 714.2857142857142, 500.0, 500.0, 636.3636363636364, 500.0, 633.3333333333333, 500.0, 666.6666666666666, 500.0, 530.7017543859649, 535.7142857142858, 666.6666666666666, 500.0, 585.3658536585366, 666.6666666666666, 500.0, 531.8181818181818, 607.5268817204301, 666.6666666666666, 500.0, 828.5714285714286, 571.4285714285714, 666.6666666666666]}, {\"name\": \"Most deprived\", \"type\": \"scatter\", \"visible\": false, \"x\": [\"2019-01-01\", \"2019-02-01\", \"2019-03-01\", \"2019-04-01\", \"2019-05-01\", \"2019-06-01\", \"2019-07-01\", \"2019-08-01\", \"2019-09-01\", \"2019-10-01\", \"2019-11-01\", \"2019-12-01\", \"2020-01-01\", \"2020-02-01\", \"2020-03-01\", \"2020-04-01\", \"2020-05-01\", \"2020-06-01\", \"2020-07-01\", \"2020-08-01\", \"2020-09-01\", \"2020-10-01\", \"2020-11-01\", \"2020-12-01\", \"2021-01-01\", \"2021-02-01\", \"2021-03-01\", \"2021-04-01\"], \"y\": [92.5, 117.39583333333333, 100.0, 99.58333333333334, 110.0, 100.83333333333333, 107.33333333333334, 113.75, 120.0, 110.83333333333333, 95.55555555555554, 104.375, 117.5, 114.16666666666667, 107.5, 95.77777777777777, 115.0, 104.58333333333333, 89.79166666666666, 122.5, 112.5, 105.625, 128.33333333333334, 117.5, 112.5, 115.0, 115.0, 117.5]}, {\"name\": \"2\", \"type\": \"scatter\", \"visible\": false, \"x\": [\"2019-01-01\", \"2019-02-01\", \"2019-03-01\", \"2019-04-01\", \"2019-05-01\", \"2019-06-01\", \"2019-07-01\", \"2019-08-01\", \"2019-09-01\", \"2019-10-01\", \"2019-11-01\", \"2019-12-01\", \"2020-01-01\", \"2020-02-01\", \"2020-03-01\", \"2020-04-01\", \"2020-05-01\", \"2020-06-01\", \"2020-07-01\", \"2020-08-01\", \"2020-09-01\", \"2020-10-01\", \"2020-11-01\", \"2020-12-01\", \"2021-01-01\", \"2021-02-01\", \"2021-03-01\", \"2021-04-01\"], \"y\": [111.66666666666667, 109.41666666666666, 113.33333333333333, 90.83333333333334, 92.77777777777779, 105.78125, 113.75, 125.0, 112.5, 113.33333333333333, 112.5, 112.5, 120.0, 96.66666666666667, 117.5, 114.25, 119.58333333333334, 112.5, 90.0, 96.875, 132.5, 115.0, 90.0, 120.0, 118.89583333333334, 92.5, 129.16666666666669, 93.75]}, {\"name\": \"3\", \"type\": \"scatter\", \"visible\": false, \"x\": [\"2019-01-01\", \"2019-02-01\", \"2019-03-01\", \"2019-04-01\", \"2019-05-01\", \"2019-06-01\", \"2019-07-01\", \"2019-08-01\", \"2019-09-01\", \"2019-10-01\", \"2019-11-01\", \"2019-12-01\", \"2020-01-01\", \"2020-02-01\", \"2020-03-01\", \"2020-04-01\", \"2020-05-01\", \"2020-06-01\", \"2020-07-01\", \"2020-08-01\", \"2020-09-01\", \"2020-10-01\", \"2020-11-01\", \"2020-12-01\", \"2021-01-01\", \"2021-02-01\", \"2021-03-01\", \"2021-04-01\"], \"y\": [100.0, 95.0, 117.5, 102.5, 94.08333333333333, 125.0, 92.5, 115.97222222222223, 115.0, 102.77777777777777, 98.75, 120.0, 115.0, 115.0, 109.16666666666666, 107.5, 94.0625, 96.25, 95.0, 83.75, 115.625, 103.33333333333334, 100.0, 92.5, 120.0, 115.0, 108.5, 98.75]}, {\"name\": \"4\", \"type\": \"scatter\", \"visible\": false, \"x\": [\"2019-01-01\", \"2019-02-01\", \"2019-03-01\", \"2019-04-01\", \"2019-05-01\", \"2019-06-01\", \"2019-07-01\", \"2019-08-01\", \"2019-09-01\", \"2019-10-01\", \"2019-11-01\", \"2019-12-01\", \"2020-01-01\", \"2020-02-01\", \"2020-03-01\", \"2020-04-01\", \"2020-05-01\", \"2020-06-01\", \"2020-07-01\", \"2020-08-01\", \"2020-09-01\", \"2020-10-01\", \"2020-11-01\", \"2020-12-01\", \"2021-01-01\", \"2021-02-01\", \"2021-03-01\", \"2021-04-01\"], \"y\": [99.16666666666666, 108.33333333333334, 110.0, 109.16666666666666, 119.16666666666666, 112.91666666666666, 96.66666666666666, 111.25, 120.0, 115.0, 110.0, 103.47222222222223, 99.375, 127.5, 92.5, 95.0, 115.0, 120.0, 106.25, 101.25, 106.04166666666666, 111.71875, 117.5, 98.54166666666666, 92.08333333333334, 99.58333333333334, 98.54166666666667, 97.5]}, {\"name\": \"Least deprived\", \"type\": \"scatter\", \"visible\": false, \"x\": [\"2019-01-01\", \"2019-02-01\", \"2019-03-01\", \"2019-04-01\", \"2019-05-01\", \"2019-06-01\", \"2019-07-01\", \"2019-08-01\", \"2019-09-01\", \"2019-10-01\", \"2019-11-01\", \"2019-12-01\", \"2020-01-01\", \"2020-02-01\", \"2020-03-01\", \"2020-04-01\", \"2020-05-01\", \"2020-06-01\", \"2020-07-01\", \"2020-08-01\", \"2020-09-01\", \"2020-10-01\", \"2020-11-01\", \"2020-12-01\", \"2021-01-01\", \"2021-02-01\", \"2021-03-01\", \"2021-04-01\"], \"y\": [104.0625, 110.0, 117.8125, 92.91666666666667, 115.0, 125.375, 102.5, 97.5, 123.4375, 103.33333333333333, 109.86111111111111, 115.0, 91.25, 115.0, 103.75, 110.0, 108.33333333333333, 100.0, 130.0, 113.75, 90.72916666666667, 108.33333333333333, 95.625, 92.08333333333334, 102.5, 115.0, 108.33333333333333, 107.5]}],                        {\"hovermode\": \"x\", \"template\": {\"data\": {\"bar\": [{\"error_x\": {\"color\": \"#2a3f5f\"}, \"error_y\": {\"color\": \"#2a3f5f\"}, \"marker\": {\"line\": {\"color\": \"#E5ECF6\", \"width\": 0.5}}, \"type\": \"bar\"}], \"barpolar\": [{\"marker\": {\"line\": {\"color\": \"#E5ECF6\", \"width\": 0.5}}, \"type\": \"barpolar\"}], \"carpet\": [{\"aaxis\": {\"endlinecolor\": \"#2a3f5f\", \"gridcolor\": \"white\", \"linecolor\": \"white\", \"minorgridcolor\": \"white\", \"startlinecolor\": \"#2a3f5f\"}, \"baxis\": {\"endlinecolor\": \"#2a3f5f\", \"gridcolor\": \"white\", \"linecolor\": \"white\", \"minorgridcolor\": \"white\", \"startlinecolor\": \"#2a3f5f\"}, \"type\": \"carpet\"}], \"choropleth\": [{\"colorbar\": {\"outlinewidth\": 0, \"ticks\": \"\"}, \"type\": \"choropleth\"}], \"contour\": [{\"colorbar\": {\"outlinewidth\": 0, \"ticks\": \"\"}, \"colorscale\": [[0.0, \"#0d0887\"], [0.1111111111111111, \"#46039f\"], [0.2222222222222222, \"#7201a8\"], [0.3333333333333333, \"#9c179e\"], [0.4444444444444444, \"#bd3786\"], [0.5555555555555556, \"#d8576b\"], [0.6666666666666666, \"#ed7953\"], [0.7777777777777778, \"#fb9f3a\"], [0.8888888888888888, \"#fdca26\"], [1.0, \"#f0f921\"]], \"type\": \"contour\"}], \"contourcarpet\": [{\"colorbar\": {\"outlinewidth\": 0, \"ticks\": \"\"}, \"type\": \"contourcarpet\"}], \"heatmap\": [{\"colorbar\": {\"outlinewidth\": 0, \"ticks\": \"\"}, \"colorscale\": [[0.0, \"#0d0887\"], [0.1111111111111111, \"#46039f\"], [0.2222222222222222, \"#7201a8\"], [0.3333333333333333, \"#9c179e\"], [0.4444444444444444, \"#bd3786\"], [0.5555555555555556, \"#d8576b\"], [0.6666666666666666, \"#ed7953\"], [0.7777777777777778, \"#fb9f3a\"], [0.8888888888888888, \"#fdca26\"], [1.0, \"#f0f921\"]], \"type\": \"heatmap\"}], \"heatmapgl\": [{\"colorbar\": {\"outlinewidth\": 0, \"ticks\": \"\"}, \"colorscale\": [[0.0, \"#0d0887\"], [0.1111111111111111, \"#46039f\"], [0.2222222222222222, \"#7201a8\"], [0.3333333333333333, \"#9c179e\"], [0.4444444444444444, \"#bd3786\"], [0.5555555555555556, \"#d8576b\"], [0.6666666666666666, \"#ed7953\"], [0.7777777777777778, \"#fb9f3a\"], [0.8888888888888888, \"#fdca26\"], [1.0, \"#f0f921\"]], \"type\": \"heatmapgl\"}], \"histogram\": [{\"marker\": {\"colorbar\": {\"outlinewidth\": 0, \"ticks\": \"\"}}, \"type\": \"histogram\"}], \"histogram2d\": [{\"colorbar\": {\"outlinewidth\": 0, \"ticks\": \"\"}, \"colorscale\": [[0.0, \"#0d0887\"], [0.1111111111111111, \"#46039f\"], [0.2222222222222222, \"#7201a8\"], [0.3333333333333333, \"#9c179e\"], [0.4444444444444444, \"#bd3786\"], [0.5555555555555556, \"#d8576b\"], [0.6666666666666666, \"#ed7953\"], [0.7777777777777778, \"#fb9f3a\"], [0.8888888888888888, \"#fdca26\"], [1.0, \"#f0f921\"]], \"type\": \"histogram2d\"}], \"histogram2dcontour\": [{\"colorbar\": {\"outlinewidth\": 0, \"ticks\": \"\"}, \"colorscale\": [[0.0, \"#0d0887\"], [0.1111111111111111, \"#46039f\"], [0.2222222222222222, \"#7201a8\"], [0.3333333333333333, \"#9c179e\"], [0.4444444444444444, \"#bd3786\"], [0.5555555555555556, \"#d8576b\"], [0.6666666666666666, \"#ed7953\"], [0.7777777777777778, \"#fb9f3a\"], [0.8888888888888888, \"#fdca26\"], [1.0, \"#f0f921\"]], \"type\": \"histogram2dcontour\"}], \"mesh3d\": [{\"colorbar\": {\"outlinewidth\": 0, \"ticks\": \"\"}, \"type\": \"mesh3d\"}], \"parcoords\": [{\"line\": {\"colorbar\": {\"outlinewidth\": 0, \"ticks\": \"\"}}, \"type\": \"parcoords\"}], \"pie\": [{\"automargin\": true, \"type\": \"pie\"}], \"scatter\": [{\"marker\": {\"colorbar\": {\"outlinewidth\": 0, \"ticks\": \"\"}}, \"type\": \"scatter\"}], \"scatter3d\": [{\"line\": {\"colorbar\": {\"outlinewidth\": 0, \"ticks\": \"\"}}, \"marker\": {\"colorbar\": {\"outlinewidth\": 0, \"ticks\": \"\"}}, \"type\": \"scatter3d\"}], \"scattercarpet\": [{\"marker\": {\"colorbar\": {\"outlinewidth\": 0, \"ticks\": \"\"}}, \"type\": \"scattercarpet\"}], \"scattergeo\": [{\"marker\": {\"colorbar\": {\"outlinewidth\": 0, \"ticks\": \"\"}}, \"type\": \"scattergeo\"}], \"scattergl\": [{\"marker\": {\"colorbar\": {\"outlinewidth\": 0, \"ticks\": \"\"}}, \"type\": \"scattergl\"}], \"scattermapbox\": [{\"marker\": {\"colorbar\": {\"outlinewidth\": 0, \"ticks\": \"\"}}, \"type\": \"scattermapbox\"}], \"scatterpolar\": [{\"marker\": {\"colorbar\": {\"outlinewidth\": 0, \"ticks\": \"\"}}, \"type\": \"scatterpolar\"}], \"scatterpolargl\": [{\"marker\": {\"colorbar\": {\"outlinewidth\": 0, \"ticks\": \"\"}}, \"type\": \"scatterpolargl\"}], \"scatterternary\": [{\"marker\": {\"colorbar\": {\"outlinewidth\": 0, \"ticks\": \"\"}}, \"type\": \"scatterternary\"}], \"surface\": [{\"colorbar\": {\"outlinewidth\": 0, \"ticks\": \"\"}, \"colorscale\": [[0.0, \"#0d0887\"], [0.1111111111111111, \"#46039f\"], [0.2222222222222222, \"#7201a8\"], [0.3333333333333333, \"#9c179e\"], [0.4444444444444444, \"#bd3786\"], [0.5555555555555556, \"#d8576b\"], [0.6666666666666666, \"#ed7953\"], [0.7777777777777778, \"#fb9f3a\"], [0.8888888888888888, \"#fdca26\"], [1.0, \"#f0f921\"]], \"type\": \"surface\"}], \"table\": [{\"cells\": {\"fill\": {\"color\": \"#EBF0F8\"}, \"line\": {\"color\": \"white\"}}, \"header\": {\"fill\": {\"color\": \"#C8D4E3\"}, \"line\": {\"color\": \"white\"}}, \"type\": \"table\"}]}, \"layout\": {\"annotationdefaults\": {\"arrowcolor\": \"#2a3f5f\", \"arrowhead\": 0, \"arrowwidth\": 1}, \"autotypenumbers\": \"strict\", \"coloraxis\": {\"colorbar\": {\"outlinewidth\": 0, \"ticks\": \"\"}}, \"colorscale\": {\"diverging\": [[0, \"#8e0152\"], [0.1, \"#c51b7d\"], [0.2, \"#de77ae\"], [0.3, \"#f1b6da\"], [0.4, \"#fde0ef\"], [0.5, \"#f7f7f7\"], [0.6, \"#e6f5d0\"], [0.7, \"#b8e186\"], [0.8, \"#7fbc41\"], [0.9, \"#4d9221\"], [1, \"#276419\"]], \"sequential\": [[0.0, \"#0d0887\"], [0.1111111111111111, \"#46039f\"], [0.2222222222222222, \"#7201a8\"], [0.3333333333333333, \"#9c179e\"], [0.4444444444444444, \"#bd3786\"], [0.5555555555555556, \"#d8576b\"], [0.6666666666666666, \"#ed7953\"], [0.7777777777777778, \"#fb9f3a\"], [0.8888888888888888, \"#fdca26\"], [1.0, \"#f0f921\"]], \"sequentialminus\": [[0.0, \"#0d0887\"], [0.1111111111111111, \"#46039f\"], [0.2222222222222222, \"#7201a8\"], [0.3333333333333333, \"#9c179e\"], [0.4444444444444444, \"#bd3786\"], [0.5555555555555556, \"#d8576b\"], [0.6666666666666666, \"#ed7953\"], [0.7777777777777778, \"#fb9f3a\"], [0.8888888888888888, \"#fdca26\"], [1.0, \"#f0f921\"]]}, \"colorway\": [\"#636efa\", \"#EF553B\", \"#00cc96\", \"#ab63fa\", \"#FFA15A\", \"#19d3f3\", \"#FF6692\", \"#B6E880\", \"#FF97FF\", \"#FECB52\"], \"font\": {\"color\": \"#2a3f5f\"}, \"geo\": {\"bgcolor\": \"white\", \"lakecolor\": \"white\", \"landcolor\": \"#E5ECF6\", \"showlakes\": true, \"showland\": true, \"subunitcolor\": \"white\"}, \"hoverlabel\": {\"align\": \"left\"}, \"hovermode\": \"closest\", \"mapbox\": {\"style\": \"light\"}, \"paper_bgcolor\": \"white\", \"plot_bgcolor\": \"#E5ECF6\", \"polar\": {\"angularaxis\": {\"gridcolor\": \"white\", \"linecolor\": \"white\", \"ticks\": \"\"}, \"bgcolor\": \"#E5ECF6\", \"radialaxis\": {\"gridcolor\": \"white\", \"linecolor\": \"white\", \"ticks\": \"\"}}, \"scene\": {\"xaxis\": {\"backgroundcolor\": \"#E5ECF6\", \"gridcolor\": \"white\", \"gridwidth\": 2, \"linecolor\": \"white\", \"showbackground\": true, \"ticks\": \"\", \"zerolinecolor\": \"white\"}, \"yaxis\": {\"backgroundcolor\": \"#E5ECF6\", \"gridcolor\": \"white\", \"gridwidth\": 2, \"linecolor\": \"white\", \"showbackground\": true, \"ticks\": \"\", \"zerolinecolor\": \"white\"}, \"zaxis\": {\"backgroundcolor\": \"#E5ECF6\", \"gridcolor\": \"white\", \"gridwidth\": 2, \"linecolor\": \"white\", \"showbackground\": true, \"ticks\": \"\", \"zerolinecolor\": \"white\"}}, \"shapedefaults\": {\"line\": {\"color\": \"#2a3f5f\"}}, \"ternary\": {\"aaxis\": {\"gridcolor\": \"white\", \"linecolor\": \"white\", \"ticks\": \"\"}, \"baxis\": {\"gridcolor\": \"white\", \"linecolor\": \"white\", \"ticks\": \"\"}, \"bgcolor\": \"#E5ECF6\", \"caxis\": {\"gridcolor\": \"white\", \"linecolor\": \"white\", \"ticks\": \"\"}}, \"title\": {\"x\": 0.05}, \"xaxis\": {\"automargin\": true, \"gridcolor\": \"white\", \"linecolor\": \"white\", \"ticks\": \"\", \"title\": {\"standoff\": 15}, \"zerolinecolor\": \"white\", \"zerolinewidth\": 2}, \"yaxis\": {\"automargin\": true, \"gridcolor\": \"white\", \"linecolor\": \"white\", \"ticks\": \"\", \"title\": {\"standoff\": 15}, \"zerolinecolor\": \"white\", \"zerolinewidth\": 2}}}, \"title\": {\"x\": 0.5}, \"updatemenus\": [{\"active\": 0, \"buttons\": [{\"args\": [{\"visible\": [true, false, false, false, false, false, false, false, false, false, false, false, false, false]}, {\"showlegend\": true, \"title\": \"Total Population Rate\"}], \"label\": \"Total Population Rate\", \"method\": \"update\"}, {\"args\": [{\"visible\": [false, true, true, true, true, true, true, true, true, false, false, false, false, false]}, {\"showlegend\": true, \"title\": \"age_band\"}], \"label\": \"age_band\", \"method\": \"update\"}, {\"args\": [{\"visible\": [false, false, false, false, false, false, false, false, false, true, true, true, true, true]}, {\"showlegend\": true, \"title\": \"imd\"}], \"label\": \"imd\", \"method\": \"update\"}], \"direction\": \"down\", \"pad\": {\"r\": 10, \"t\": 10}, \"x\": 1.0, \"xanchor\": \"left\", \"y\": 1.3, \"yanchor\": \"top\"}], \"xaxis\": {\"rangeselector\": {\"buttons\": [{\"count\": 1, \"label\": \"1m\", \"step\": \"month\", \"stepmode\": \"backward\"}, {\"count\": 6, \"label\": \"6m\", \"step\": \"month\", \"stepmode\": \"backward\"}, {\"count\": 1, \"label\": \"1y\", \"step\": \"year\", \"stepmode\": \"backward\"}, {\"step\": \"all\"}]}, \"rangeslider\": {\"visible\": true}, \"type\": \"date\"}, \"yaxis\": {\"title\": {\"text\": \"Age standardised rate per 1000\"}}},                        {\"responsive\": true}                    ).then(function(){\n",
       "                            \n",
       "var gd = document.getElementById('c6cb8567-2743-4126-908d-8252a851305a');\n",
       "var x = new MutationObserver(function (mutations, observer) {{\n",
       "        var display = window.getComputedStyle(gd).display;\n",
       "        if (!display || display === 'none') {{\n",
       "            console.log([gd, 'removed!']);\n",
       "            Plotly.purge(gd);\n",
       "            observer.disconnect();\n",
       "        }}\n",
       "}});\n",
       "\n",
       "// Listen for the removal of the full notebook cells\n",
       "var notebookContainer = gd.closest('#notebook-container');\n",
       "if (notebookContainer) {{\n",
       "    x.observe(notebookContainer, {childList: true});\n",
       "}}\n",
       "\n",
       "// Listen for the clearing of the current output cell\n",
       "var outputEl = gd.closest('.output');\n",
       "if (outputEl) {{\n",
       "    x.observe(outputEl, {childList: true});\n",
       "}}\n",
       "\n",
       "                        })                };                });            </script>        </div>"
      ]
     },
     "metadata": {},
     "output_type": "display_data"
    }
   ],
   "source": [
    "plot_demographics(data_dict['systolic_bp'], data_dict_totals['systolic_bp'],demographics, interactive=True)"
   ]
  },
  {
   "cell_type": "code",
   "execution_count": 63,
   "metadata": {},
   "outputs": [],
   "source": [
    "plot_demographics(data_dict['systolic_bp'], data_dict_totals['systolic_bp'],demographics, interactive=False)"
   ]
  },
  {
   "cell_type": "code",
   "execution_count": null,
   "metadata": {},
   "outputs": [],
   "source": []
  },
  {
   "cell_type": "code",
   "execution_count": null,
   "metadata": {},
   "outputs": [],
   "source": []
  }
 ],
 "metadata": {
  "jupytext": {
   "formats": "ipynb,py:light",
   "text_representation": {
    "extension": ".py",
    "format_name": "light",
    "format_version": "1.5",
    "jupytext_version": "1.10.2"
   }
  },
  "kernelspec": {
   "display_name": "Python 3",
   "language": "python",
   "name": "python3"
  },
  "language_info": {
   "codemirror_mode": {
    "name": "ipython",
    "version": 3
   },
   "file_extension": ".py",
   "mimetype": "text/x-python",
   "name": "python",
   "nbconvert_exporter": "python",
   "pygments_lexer": "ipython3",
   "version": "3.9.2"
  }
 },
 "nbformat": 4,
 "nbformat_minor": 4
}
